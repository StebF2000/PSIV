{
 "cells": [
  {
   "cell_type": "code",
   "execution_count": 1,
   "metadata": {},
   "outputs": [
    {
     "data": {
      "text/plain": [
       "<All keys matched successfully>"
      ]
     },
     "execution_count": 1,
     "metadata": {},
     "output_type": "execute_result"
    }
   ],
   "source": [
    "from model import ModelHandler\n",
    "from DataLoader import DiagnosisEnd2End\n",
    "import numpy as np\n",
    "import tqdm\n",
    "import torch\n",
    "from Unet2 import UNET\n",
    "from results_analysis import results\n",
    "model = UNET(1, 1)\n",
    "model.load_state_dict(torch.load(\"unet_segment.pth\"))"
   ]
  },
  {
   "cell_type": "markdown",
   "metadata": {},
   "source": [
    "## End2End Data"
   ]
  },
  {
   "cell_type": "code",
   "execution_count": 2,
   "metadata": {},
   "outputs": [],
   "source": [
    "path_segmentation = \"C:/Users/Usuario/Desktop/Uni/DataDaniMAPSIV/PSIV/02-Cancer_diagnosis/data/Diagnosis/\"\n",
    "nodules_path = \"../data/Diagnosis/Radiolung_NoduleDiagnosis.csv\""
   ]
  },
  {
   "cell_type": "code",
   "execution_count": 3,
   "metadata": {},
   "outputs": [
    {
     "name": "stderr",
     "output_type": "stream",
     "text": [
      "  0%|          | 0/49 [00:00<?, ?it/s]"
     ]
    },
    {
     "name": "stdout",
     "output_type": "stream",
     "text": [
      "Len Dataloader: 49 // Actual index: 0 // Len diagnosis path 47 // Len anonymous nodules 49\n"
     ]
    },
    {
     "name": "stderr",
     "output_type": "stream",
     "text": [
      "  2%|▏         | 1/49 [00:03<02:40,  3.35s/it]"
     ]
    },
    {
     "name": "stdout",
     "output_type": "stream",
     "text": [
      "Len Dataloader: 49 // Actual index: 1 // Len diagnosis path 47 // Len anonymous nodules 49\n"
     ]
    },
    {
     "name": "stderr",
     "output_type": "stream",
     "text": [
      "  4%|▍         | 2/49 [00:08<03:36,  4.60s/it]"
     ]
    },
    {
     "name": "stdout",
     "output_type": "stream",
     "text": [
      "Len Dataloader: 49 // Actual index: 2 // Len diagnosis path 47 // Len anonymous nodules 49\n"
     ]
    },
    {
     "name": "stderr",
     "output_type": "stream",
     "text": [
      "  6%|▌         | 3/49 [00:15<04:08,  5.41s/it]"
     ]
    },
    {
     "name": "stdout",
     "output_type": "stream",
     "text": [
      "Len Dataloader: 49 // Actual index: 3 // Len diagnosis path 47 // Len anonymous nodules 49\n"
     ]
    },
    {
     "name": "stderr",
     "output_type": "stream",
     "text": [
      "  8%|▊         | 4/49 [00:20<03:59,  5.32s/it]"
     ]
    },
    {
     "name": "stdout",
     "output_type": "stream",
     "text": [
      "Len Dataloader: 49 // Actual index: 4 // Len diagnosis path 47 // Len anonymous nodules 49\n"
     ]
    },
    {
     "name": "stderr",
     "output_type": "stream",
     "text": [
      " 10%|█         | 5/49 [00:28<04:40,  6.38s/it]"
     ]
    },
    {
     "name": "stdout",
     "output_type": "stream",
     "text": [
      "Len Dataloader: 49 // Actual index: 5 // Len diagnosis path 47 // Len anonymous nodules 49\n"
     ]
    },
    {
     "name": "stderr",
     "output_type": "stream",
     "text": [
      " 12%|█▏        | 6/49 [00:32<04:00,  5.59s/it]"
     ]
    },
    {
     "name": "stdout",
     "output_type": "stream",
     "text": [
      "Len Dataloader: 49 // Actual index: 6 // Len diagnosis path 47 // Len anonymous nodules 49\n"
     ]
    },
    {
     "name": "stderr",
     "output_type": "stream",
     "text": [
      " 14%|█▍        | 7/49 [00:37<03:49,  5.47s/it]"
     ]
    },
    {
     "name": "stdout",
     "output_type": "stream",
     "text": [
      "Len Dataloader: 49 // Actual index: 7 // Len diagnosis path 47 // Len anonymous nodules 49\n"
     ]
    },
    {
     "name": "stderr",
     "output_type": "stream",
     "text": [
      " 16%|█▋        | 8/49 [00:40<03:11,  4.66s/it]"
     ]
    },
    {
     "name": "stdout",
     "output_type": "stream",
     "text": [
      "Len Dataloader: 49 // Actual index: 8 // Len diagnosis path 47 // Len anonymous nodules 49\n"
     ]
    },
    {
     "name": "stderr",
     "output_type": "stream",
     "text": [
      " 18%|█▊        | 9/49 [00:45<03:01,  4.53s/it]"
     ]
    },
    {
     "name": "stdout",
     "output_type": "stream",
     "text": [
      "Len Dataloader: 49 // Actual index: 9 // Len diagnosis path 47 // Len anonymous nodules 49\n"
     ]
    },
    {
     "name": "stderr",
     "output_type": "stream",
     "text": [
      " 20%|██        | 10/49 [00:50<03:02,  4.68s/it]"
     ]
    },
    {
     "name": "stdout",
     "output_type": "stream",
     "text": [
      "Len Dataloader: 49 // Actual index: 10 // Len diagnosis path 47 // Len anonymous nodules 49\n"
     ]
    },
    {
     "name": "stderr",
     "output_type": "stream",
     "text": [
      " 22%|██▏       | 11/49 [00:53<02:41,  4.25s/it]"
     ]
    },
    {
     "name": "stdout",
     "output_type": "stream",
     "text": [
      "Len Dataloader: 49 // Actual index: 11 // Len diagnosis path 47 // Len anonymous nodules 49\n"
     ]
    },
    {
     "name": "stderr",
     "output_type": "stream",
     "text": [
      " 24%|██▍       | 12/49 [00:56<02:29,  4.03s/it]"
     ]
    },
    {
     "name": "stdout",
     "output_type": "stream",
     "text": [
      "Len Dataloader: 49 // Actual index: 12 // Len diagnosis path 47 // Len anonymous nodules 49\n"
     ]
    },
    {
     "name": "stderr",
     "output_type": "stream",
     "text": [
      " 27%|██▋       | 13/49 [00:59<02:10,  3.61s/it]"
     ]
    },
    {
     "name": "stdout",
     "output_type": "stream",
     "text": [
      "Len Dataloader: 49 // Actual index: 13 // Len diagnosis path 47 // Len anonymous nodules 49\n"
     ]
    },
    {
     "name": "stderr",
     "output_type": "stream",
     "text": [
      " 29%|██▊       | 14/49 [01:02<02:00,  3.43s/it]"
     ]
    },
    {
     "name": "stdout",
     "output_type": "stream",
     "text": [
      "Len Dataloader: 49 // Actual index: 14 // Len diagnosis path 47 // Len anonymous nodules 49\n"
     ]
    },
    {
     "name": "stderr",
     "output_type": "stream",
     "text": [
      " 31%|███       | 15/49 [01:05<01:50,  3.25s/it]"
     ]
    },
    {
     "name": "stdout",
     "output_type": "stream",
     "text": [
      "Len Dataloader: 49 // Actual index: 15 // Len diagnosis path 47 // Len anonymous nodules 49\n"
     ]
    },
    {
     "name": "stderr",
     "output_type": "stream",
     "text": [
      " 33%|███▎      | 16/49 [01:08<01:42,  3.10s/it]"
     ]
    },
    {
     "name": "stdout",
     "output_type": "stream",
     "text": [
      "Len Dataloader: 49 // Actual index: 16 // Len diagnosis path 47 // Len anonymous nodules 49\n"
     ]
    },
    {
     "name": "stderr",
     "output_type": "stream",
     "text": [
      " 35%|███▍      | 17/49 [01:11<01:39,  3.10s/it]"
     ]
    },
    {
     "name": "stdout",
     "output_type": "stream",
     "text": [
      "Len Dataloader: 49 // Actual index: 17 // Len diagnosis path 47 // Len anonymous nodules 49\n"
     ]
    },
    {
     "name": "stderr",
     "output_type": "stream",
     "text": [
      " 37%|███▋      | 18/49 [01:13<01:31,  2.94s/it]"
     ]
    },
    {
     "name": "stdout",
     "output_type": "stream",
     "text": [
      "Len Dataloader: 49 // Actual index: 18 // Len diagnosis path 47 // Len anonymous nodules 49\n"
     ]
    },
    {
     "name": "stderr",
     "output_type": "stream",
     "text": [
      " 39%|███▉      | 19/49 [01:14<01:06,  2.20s/it]"
     ]
    },
    {
     "name": "stdout",
     "output_type": "stream",
     "text": [
      "Len Dataloader: 49 // Actual index: 19 // Len diagnosis path 47 // Len anonymous nodules 49\n"
     ]
    },
    {
     "name": "stderr",
     "output_type": "stream",
     "text": [
      " 41%|████      | 20/49 [01:17<01:10,  2.42s/it]"
     ]
    },
    {
     "name": "stdout",
     "output_type": "stream",
     "text": [
      "Len Dataloader: 49 // Actual index: 20 // Len diagnosis path 47 // Len anonymous nodules 49\n"
     ]
    },
    {
     "name": "stderr",
     "output_type": "stream",
     "text": [
      " 43%|████▎     | 21/49 [01:23<01:44,  3.72s/it]"
     ]
    },
    {
     "name": "stdout",
     "output_type": "stream",
     "text": [
      "Len Dataloader: 49 // Actual index: 21 // Len diagnosis path 47 // Len anonymous nodules 49\n"
     ]
    },
    {
     "name": "stderr",
     "output_type": "stream",
     "text": [
      " 45%|████▍     | 22/49 [01:26<01:33,  3.45s/it]"
     ]
    },
    {
     "name": "stdout",
     "output_type": "stream",
     "text": [
      "Len Dataloader: 49 // Actual index: 22 // Len diagnosis path 47 // Len anonymous nodules 49\n"
     ]
    },
    {
     "name": "stderr",
     "output_type": "stream",
     "text": [
      " 47%|████▋     | 23/49 [01:29<01:24,  3.25s/it]"
     ]
    },
    {
     "name": "stdout",
     "output_type": "stream",
     "text": [
      "Len Dataloader: 49 // Actual index: 23 // Len diagnosis path 47 // Len anonymous nodules 49\n"
     ]
    },
    {
     "name": "stderr",
     "output_type": "stream",
     "text": [
      " 49%|████▉     | 24/49 [01:31<01:13,  2.93s/it]"
     ]
    },
    {
     "name": "stdout",
     "output_type": "stream",
     "text": [
      "Len Dataloader: 49 // Actual index: 24 // Len diagnosis path 47 // Len anonymous nodules 49\n"
     ]
    },
    {
     "name": "stderr",
     "output_type": "stream",
     "text": [
      " 51%|█████     | 25/49 [01:34<01:07,  2.80s/it]"
     ]
    },
    {
     "name": "stdout",
     "output_type": "stream",
     "text": [
      "Len Dataloader: 49 // Actual index: 25 // Len diagnosis path 47 // Len anonymous nodules 49\n"
     ]
    },
    {
     "name": "stderr",
     "output_type": "stream",
     "text": [
      " 53%|█████▎    | 26/49 [01:37<01:04,  2.78s/it]"
     ]
    },
    {
     "name": "stdout",
     "output_type": "stream",
     "text": [
      "Len Dataloader: 49 // Actual index: 26 // Len diagnosis path 47 // Len anonymous nodules 49\n"
     ]
    },
    {
     "name": "stderr",
     "output_type": "stream",
     "text": [
      " 55%|█████▌    | 27/49 [01:37<00:45,  2.08s/it]"
     ]
    },
    {
     "name": "stdout",
     "output_type": "stream",
     "text": [
      "Len Dataloader: 49 // Actual index: 27 // Len diagnosis path 47 // Len anonymous nodules 49\n"
     ]
    },
    {
     "name": "stderr",
     "output_type": "stream",
     "text": [
      " 57%|█████▋    | 28/49 [01:40<00:46,  2.24s/it]"
     ]
    },
    {
     "name": "stdout",
     "output_type": "stream",
     "text": [
      "Len Dataloader: 49 // Actual index: 28 // Len diagnosis path 47 // Len anonymous nodules 49\n"
     ]
    },
    {
     "name": "stderr",
     "output_type": "stream",
     "text": [
      " 59%|█████▉    | 29/49 [01:43<00:49,  2.49s/it]"
     ]
    },
    {
     "name": "stdout",
     "output_type": "stream",
     "text": [
      "Len Dataloader: 49 // Actual index: 29 // Len diagnosis path 47 // Len anonymous nodules 49\n"
     ]
    },
    {
     "name": "stderr",
     "output_type": "stream",
     "text": [
      " 61%|██████    | 30/49 [01:46<00:50,  2.66s/it]"
     ]
    },
    {
     "name": "stdout",
     "output_type": "stream",
     "text": [
      "Len Dataloader: 49 // Actual index: 30 // Len diagnosis path 47 // Len anonymous nodules 49\n"
     ]
    },
    {
     "name": "stderr",
     "output_type": "stream",
     "text": [
      " 63%|██████▎   | 31/49 [01:50<00:55,  3.08s/it]"
     ]
    },
    {
     "name": "stdout",
     "output_type": "stream",
     "text": [
      "Len Dataloader: 49 // Actual index: 31 // Len diagnosis path 47 // Len anonymous nodules 49\n"
     ]
    },
    {
     "name": "stderr",
     "output_type": "stream",
     "text": [
      " 65%|██████▌   | 32/49 [01:53<00:51,  3.04s/it]"
     ]
    },
    {
     "name": "stdout",
     "output_type": "stream",
     "text": [
      "Len Dataloader: 49 // Actual index: 32 // Len diagnosis path 47 // Len anonymous nodules 49\n"
     ]
    },
    {
     "name": "stderr",
     "output_type": "stream",
     "text": [
      " 67%|██████▋   | 33/49 [01:55<00:46,  2.91s/it]"
     ]
    },
    {
     "name": "stdout",
     "output_type": "stream",
     "text": [
      "Len Dataloader: 49 // Actual index: 33 // Len diagnosis path 47 // Len anonymous nodules 49\n"
     ]
    },
    {
     "name": "stderr",
     "output_type": "stream",
     "text": [
      " 69%|██████▉   | 34/49 [01:56<00:34,  2.28s/it]"
     ]
    },
    {
     "name": "stdout",
     "output_type": "stream",
     "text": [
      "Len Dataloader: 49 // Actual index: 34 // Len diagnosis path 47 // Len anonymous nodules 49\n"
     ]
    },
    {
     "name": "stderr",
     "output_type": "stream",
     "text": [
      " 71%|███████▏  | 35/49 [01:59<00:34,  2.50s/it]"
     ]
    },
    {
     "name": "stdout",
     "output_type": "stream",
     "text": [
      "Len Dataloader: 49 // Actual index: 35 // Len diagnosis path 47 // Len anonymous nodules 49\n"
     ]
    },
    {
     "name": "stderr",
     "output_type": "stream",
     "text": [
      " 73%|███████▎  | 36/49 [02:02<00:34,  2.68s/it]"
     ]
    },
    {
     "name": "stdout",
     "output_type": "stream",
     "text": [
      "Len Dataloader: 49 // Actual index: 36 // Len diagnosis path 47 // Len anonymous nodules 49\n"
     ]
    },
    {
     "name": "stderr",
     "output_type": "stream",
     "text": [
      " 76%|███████▌  | 37/49 [02:03<00:24,  2.00s/it]"
     ]
    },
    {
     "name": "stdout",
     "output_type": "stream",
     "text": [
      "Len Dataloader: 49 // Actual index: 37 // Len diagnosis path 47 // Len anonymous nodules 49\n"
     ]
    },
    {
     "name": "stderr",
     "output_type": "stream",
     "text": [
      " 78%|███████▊  | 38/49 [02:04<00:18,  1.68s/it]"
     ]
    },
    {
     "name": "stdout",
     "output_type": "stream",
     "text": [
      "Len Dataloader: 49 // Actual index: 38 // Len diagnosis path 47 // Len anonymous nodules 49\n"
     ]
    },
    {
     "name": "stderr",
     "output_type": "stream",
     "text": [
      " 82%|████████▏ | 40/49 [02:04<00:09,  1.01s/it]"
     ]
    },
    {
     "name": "stdout",
     "output_type": "stream",
     "text": [
      "Len Dataloader: 49 // Actual index: 39 // Len diagnosis path 47 // Len anonymous nodules 49\n",
      "Len Dataloader: 49 // Actual index: 40 // Len diagnosis path 47 // Len anonymous nodules 49\n"
     ]
    },
    {
     "name": "stderr",
     "output_type": "stream",
     "text": [
      " 84%|████████▎ | 41/49 [02:05<00:07,  1.02it/s]"
     ]
    },
    {
     "name": "stdout",
     "output_type": "stream",
     "text": [
      "Len Dataloader: 49 // Actual index: 41 // Len diagnosis path 47 // Len anonymous nodules 49\n"
     ]
    },
    {
     "name": "stderr",
     "output_type": "stream",
     "text": [
      " 86%|████████▌ | 42/49 [02:06<00:06,  1.11it/s]"
     ]
    },
    {
     "name": "stdout",
     "output_type": "stream",
     "text": [
      "Len Dataloader: 49 // Actual index: 42 // Len diagnosis path 47 // Len anonymous nodules 49\n"
     ]
    },
    {
     "name": "stderr",
     "output_type": "stream",
     "text": [
      " 88%|████████▊ | 43/49 [02:07<00:05,  1.15it/s]"
     ]
    },
    {
     "name": "stdout",
     "output_type": "stream",
     "text": [
      "Len Dataloader: 49 // Actual index: 43 // Len diagnosis path 47 // Len anonymous nodules 49\n"
     ]
    },
    {
     "name": "stderr",
     "output_type": "stream",
     "text": [
      " 90%|████████▉ | 44/49 [02:07<00:03,  1.49it/s]"
     ]
    },
    {
     "name": "stdout",
     "output_type": "stream",
     "text": [
      "Len Dataloader: 49 // Actual index: 44 // Len diagnosis path 47 // Len anonymous nodules 49\n"
     ]
    },
    {
     "name": "stderr",
     "output_type": "stream",
     "text": [
      " 92%|█████████▏| 45/49 [02:08<00:02,  1.41it/s]"
     ]
    },
    {
     "name": "stdout",
     "output_type": "stream",
     "text": [
      "Len Dataloader: 49 // Actual index: 45 // Len diagnosis path 47 // Len anonymous nodules 49\n"
     ]
    },
    {
     "name": "stderr",
     "output_type": "stream",
     "text": [
      " 94%|█████████▍| 46/49 [02:09<00:02,  1.30it/s]"
     ]
    },
    {
     "name": "stdout",
     "output_type": "stream",
     "text": [
      "Len Dataloader: 49 // Actual index: 46 // Len diagnosis path 47 // Len anonymous nodules 49\n"
     ]
    },
    {
     "name": "stderr",
     "output_type": "stream",
     "text": [
      " 96%|█████████▌| 47/49 [02:12<00:02,  1.38s/it]"
     ]
    },
    {
     "name": "stdout",
     "output_type": "stream",
     "text": [
      "Len Dataloader: 49 // Actual index: 47 // Len diagnosis path 47 // Len anonymous nodules 49\n"
     ]
    },
    {
     "name": "stderr",
     "output_type": "stream",
     "text": [
      " 98%|█████████▊| 48/49 [02:14<00:01,  1.63s/it]"
     ]
    },
    {
     "name": "stdout",
     "output_type": "stream",
     "text": [
      "Len Dataloader: 49 // Actual index: 48 // Len diagnosis path 47 // Len anonymous nodules 49\n"
     ]
    },
    {
     "name": "stderr",
     "output_type": "stream",
     "text": [
      "100%|██████████| 49/49 [02:15<00:00,  2.77s/it]\n"
     ]
    }
   ],
   "source": [
    "diagonis = DiagnosisEnd2End(path_segmentation, nodules_path)\n",
    "\n",
    "X_data_curated = np.zeros((49, 14, 64, 64))\n",
    "y_data_curated = np.zeros(49)\n",
    "i = 0\n",
    "\n",
    "for idx in tqdm.tqdm(range(len(diagonis))):\n",
    "    data = diagonis[idx]\n",
    "    m = data['ROI'].shape[0]//2   \n",
    "    X_data_curated[i] = model(torch.from_numpy(data[\"ROI\"][m-7:m+7, :, :]).reshape((14, 1, 64, 64)).float()).detach().numpy().reshape((14, 64, 64))\n",
    "    #print(data['GT'])\n",
    "    y_data_curated[i] = data['GT'] if type(data['GT']) != type([]) else data['GT'][0]\n",
    "    i+=1\n"
   ]
  },
  {
   "cell_type": "code",
   "execution_count": 11,
   "metadata": {},
   "outputs": [
    {
     "data": {
      "text/plain": [
       "0.8163265306122449"
      ]
     },
     "execution_count": 11,
     "metadata": {},
     "output_type": "execute_result"
    }
   ],
   "source": [
    "sum(y_data_curated == 1) / len(y_data_curated)"
   ]
  },
  {
   "cell_type": "markdown",
   "metadata": {},
   "source": [
    "## SVM"
   ]
  },
  {
   "cell_type": "code",
   "execution_count": 22,
   "metadata": {},
   "outputs": [
    {
     "name": "stdout",
     "output_type": "stream",
     "text": [
      "[INFO] The best parameters are {'C': 0.01, 'kernel': 'poly'}\n",
      "[INFO] The best score is 0.8000\n",
      "[INFO] The best parameters according to ci are {'C': 10000.0, 'kernel': 'rbf'}\n",
      "[INFO] Train acc  is : 1.0000\n"
     ]
    }
   ],
   "source": [
    "svm = ModelHandler(X = X_data_curated, Y = y_data_curated, model = 'SVM', n_splits = 8)\n",
    "svm.fit(True,True)"
   ]
  },
  {
   "cell_type": "code",
   "execution_count": 23,
   "metadata": {},
   "outputs": [
    {
     "data": {
      "text/html": [
       "<div>\n",
       "<style scoped>\n",
       "    .dataframe tbody tr th:only-of-type {\n",
       "        vertical-align: middle;\n",
       "    }\n",
       "\n",
       "    .dataframe tbody tr th {\n",
       "        vertical-align: top;\n",
       "    }\n",
       "\n",
       "    .dataframe thead th {\n",
       "        text-align: right;\n",
       "    }\n",
       "</style>\n",
       "<table border=\"1\" class=\"dataframe\">\n",
       "  <thead>\n",
       "    <tr style=\"text-align: right;\">\n",
       "      <th></th>\n",
       "      <th>params</th>\n",
       "      <th>split0_test_score</th>\n",
       "      <th>split1_test_score</th>\n",
       "      <th>split2_test_score</th>\n",
       "      <th>split3_test_score</th>\n",
       "      <th>split4_test_score</th>\n",
       "      <th>split5_test_score</th>\n",
       "      <th>split6_test_score</th>\n",
       "      <th>split7_test_score</th>\n",
       "      <th>C</th>\n",
       "      <th>kernel</th>\n",
       "      <th>mean</th>\n",
       "      <th>sem</th>\n",
       "      <th>ci</th>\n",
       "      <th>sort</th>\n",
       "    </tr>\n",
       "  </thead>\n",
       "  <tbody>\n",
       "    <tr>\n",
       "      <th>10</th>\n",
       "      <td>{'C': 10000.0, 'kernel': 'rbf'}</td>\n",
       "      <td>0.8</td>\n",
       "      <td>0.8</td>\n",
       "      <td>0.8</td>\n",
       "      <td>0.8</td>\n",
       "      <td>0.8</td>\n",
       "      <td>0.8</td>\n",
       "      <td>0.8</td>\n",
       "      <td>0.8</td>\n",
       "      <td>1.000000e+04</td>\n",
       "      <td>rbf</td>\n",
       "      <td>0.8</td>\n",
       "      <td>1.000000e-08</td>\n",
       "      <td>(0.7999999763537574, 0.8000000236462425)</td>\n",
       "      <td>0.4</td>\n",
       "    </tr>\n",
       "    <tr>\n",
       "      <th>13</th>\n",
       "      <td>{'C': 10000000.0, 'kernel': 'poly'}</td>\n",
       "      <td>0.8</td>\n",
       "      <td>0.8</td>\n",
       "      <td>0.8</td>\n",
       "      <td>0.8</td>\n",
       "      <td>0.8</td>\n",
       "      <td>0.8</td>\n",
       "      <td>0.8</td>\n",
       "      <td>0.8</td>\n",
       "      <td>1.000000e+07</td>\n",
       "      <td>poly</td>\n",
       "      <td>0.8</td>\n",
       "      <td>1.000000e-08</td>\n",
       "      <td>(0.7999999763537574, 0.8000000236462425)</td>\n",
       "      <td>0.4</td>\n",
       "    </tr>\n",
       "    <tr>\n",
       "      <th>2</th>\n",
       "      <td>{'C': 0.01, 'kernel': 'rbf'}</td>\n",
       "      <td>0.8</td>\n",
       "      <td>0.8</td>\n",
       "      <td>0.8</td>\n",
       "      <td>0.8</td>\n",
       "      <td>0.8</td>\n",
       "      <td>0.8</td>\n",
       "      <td>0.8</td>\n",
       "      <td>0.8</td>\n",
       "      <td>1.000000e-02</td>\n",
       "      <td>rbf</td>\n",
       "      <td>0.8</td>\n",
       "      <td>1.000000e-08</td>\n",
       "      <td>(0.7999999763537574, 0.8000000236462425)</td>\n",
       "      <td>0.4</td>\n",
       "    </tr>\n",
       "    <tr>\n",
       "      <th>3</th>\n",
       "      <td>{'C': 0.01, 'kernel': 'sigmoid'}</td>\n",
       "      <td>0.8</td>\n",
       "      <td>0.8</td>\n",
       "      <td>0.8</td>\n",
       "      <td>0.8</td>\n",
       "      <td>0.8</td>\n",
       "      <td>0.8</td>\n",
       "      <td>0.8</td>\n",
       "      <td>0.8</td>\n",
       "      <td>1.000000e-02</td>\n",
       "      <td>sigmoid</td>\n",
       "      <td>0.8</td>\n",
       "      <td>1.000000e-08</td>\n",
       "      <td>(0.7999999763537574, 0.8000000236462425)</td>\n",
       "      <td>0.4</td>\n",
       "    </tr>\n",
       "    <tr>\n",
       "      <th>18</th>\n",
       "      <td>{'C': 10000000000.0, 'kernel': 'rbf'}</td>\n",
       "      <td>0.8</td>\n",
       "      <td>0.8</td>\n",
       "      <td>0.8</td>\n",
       "      <td>0.8</td>\n",
       "      <td>0.8</td>\n",
       "      <td>0.8</td>\n",
       "      <td>0.8</td>\n",
       "      <td>0.8</td>\n",
       "      <td>1.000000e+10</td>\n",
       "      <td>rbf</td>\n",
       "      <td>0.8</td>\n",
       "      <td>1.000000e-08</td>\n",
       "      <td>(0.7999999763537574, 0.8000000236462425)</td>\n",
       "      <td>0.4</td>\n",
       "    </tr>\n",
       "  </tbody>\n",
       "</table>\n",
       "</div>"
      ],
      "text/plain": [
       "                                   params  split0_test_score  \\\n",
       "10        {'C': 10000.0, 'kernel': 'rbf'}                0.8   \n",
       "13    {'C': 10000000.0, 'kernel': 'poly'}                0.8   \n",
       "2            {'C': 0.01, 'kernel': 'rbf'}                0.8   \n",
       "3        {'C': 0.01, 'kernel': 'sigmoid'}                0.8   \n",
       "18  {'C': 10000000000.0, 'kernel': 'rbf'}                0.8   \n",
       "\n",
       "    split1_test_score  split2_test_score  split3_test_score  \\\n",
       "10                0.8                0.8                0.8   \n",
       "13                0.8                0.8                0.8   \n",
       "2                 0.8                0.8                0.8   \n",
       "3                 0.8                0.8                0.8   \n",
       "18                0.8                0.8                0.8   \n",
       "\n",
       "    split4_test_score  split5_test_score  split6_test_score  \\\n",
       "10                0.8                0.8                0.8   \n",
       "13                0.8                0.8                0.8   \n",
       "2                 0.8                0.8                0.8   \n",
       "3                 0.8                0.8                0.8   \n",
       "18                0.8                0.8                0.8   \n",
       "\n",
       "    split7_test_score             C   kernel  mean           sem  \\\n",
       "10                0.8  1.000000e+04      rbf   0.8  1.000000e-08   \n",
       "13                0.8  1.000000e+07     poly   0.8  1.000000e-08   \n",
       "2                 0.8  1.000000e-02      rbf   0.8  1.000000e-08   \n",
       "3                 0.8  1.000000e-02  sigmoid   0.8  1.000000e-08   \n",
       "18                0.8  1.000000e+10      rbf   0.8  1.000000e-08   \n",
       "\n",
       "                                          ci  sort  \n",
       "10  (0.7999999763537574, 0.8000000236462425)   0.4  \n",
       "13  (0.7999999763537574, 0.8000000236462425)   0.4  \n",
       "2   (0.7999999763537574, 0.8000000236462425)   0.4  \n",
       "3   (0.7999999763537574, 0.8000000236462425)   0.4  \n",
       "18  (0.7999999763537574, 0.8000000236462425)   0.4  "
      ]
     },
     "execution_count": 23,
     "metadata": {},
     "output_type": "execute_result"
    }
   ],
   "source": [
    "svm.top_params(0.95, 5)"
   ]
  },
  {
   "cell_type": "code",
   "execution_count": 12,
   "metadata": {},
   "outputs": [
    {
     "name": "stderr",
     "output_type": "stream",
     "text": [
      "findfont: Font family ['Gill Sans'] not found. Falling back to DejaVu Sans.\n",
      "findfont: Font family ['Gill Sans'] not found. Falling back to DejaVu Sans.\n"
     ]
    },
    {
     "data": {
      "image/png": "[encoded data removed]",
      "text/plain": [
       "<Figure size 936x432 with 1 Axes>"
      ]
     },
     "metadata": {},
     "output_type": "display_data"
    }
   ],
   "source": [
    "svm.boxplots(20)"
   ]
  },
  {
   "cell_type": "code",
   "execution_count": null,
   "metadata": {},
   "outputs": [],
   "source": [
    "results(X_data_curated,y_data_curated,'SVM', 5)"
   ]
  },
  {
   "cell_type": "markdown",
   "metadata": {},
   "source": [
    "## KNN"
   ]
  },
  {
   "cell_type": "code",
   "execution_count": 12,
   "metadata": {},
   "outputs": [
    {
     "name": "stdout",
     "output_type": "stream",
     "text": [
      "[INFO] The best parameters are {'algorithm': 'auto', 'n_neighbors': 3, 'p': 1}\n",
      "[INFO] The best score is 0.8000\n",
      "[INFO] The best parameters according to ci are {'algorithm': 'auto', 'n_neighbors': 3, 'p': 1}\n",
      "[INFO] Train acc  is : 0.7755\n"
     ]
    }
   ],
   "source": [
    "knn = ModelHandler(X = X_data_curated, Y = y_data_curated, model = 'KNN', n_splits = 5)\n",
    "knn.fit(True,True)"
   ]
  },
  {
   "cell_type": "code",
   "execution_count": 13,
   "metadata": {},
   "outputs": [
    {
     "data": {
      "text/html": [
       "<div>\n",
       "<style scoped>\n",
       "    .dataframe tbody tr th:only-of-type {\n",
       "        vertical-align: middle;\n",
       "    }\n",
       "\n",
       "    .dataframe tbody tr th {\n",
       "        vertical-align: top;\n",
       "    }\n",
       "\n",
       "    .dataframe thead th {\n",
       "        text-align: right;\n",
       "    }\n",
       "</style>\n",
       "<table border=\"1\" class=\"dataframe\">\n",
       "  <thead>\n",
       "    <tr style=\"text-align: right;\">\n",
       "      <th></th>\n",
       "      <th>params</th>\n",
       "      <th>split0_test_score</th>\n",
       "      <th>split1_test_score</th>\n",
       "      <th>split2_test_score</th>\n",
       "      <th>split3_test_score</th>\n",
       "      <th>split4_test_score</th>\n",
       "      <th>algorithm</th>\n",
       "      <th>n_neighbors</th>\n",
       "      <th>p</th>\n",
       "      <th>mean</th>\n",
       "      <th>sem</th>\n",
       "      <th>ci</th>\n",
       "      <th>sort</th>\n",
       "    </tr>\n",
       "  </thead>\n",
       "  <tbody>\n",
       "    <tr>\n",
       "      <th>0</th>\n",
       "      <td>{'algorithm': 'auto', 'n_neighbors': 3, 'p': 1}</td>\n",
       "      <td>0.8</td>\n",
       "      <td>0.8</td>\n",
       "      <td>0.8</td>\n",
       "      <td>0.8</td>\n",
       "      <td>0.8</td>\n",
       "      <td>auto</td>\n",
       "      <td>3</td>\n",
       "      <td>1</td>\n",
       "      <td>0.8</td>\n",
       "      <td>1.000000e-08</td>\n",
       "      <td>(0.799999972235549, 0.8000000277644511)</td>\n",
       "      <td>0.4</td>\n",
       "    </tr>\n",
       "    <tr>\n",
       "      <th>14</th>\n",
       "      <td>{'algorithm': 'ball_tree', 'n_neighbors': 9, '...</td>\n",
       "      <td>0.8</td>\n",
       "      <td>0.8</td>\n",
       "      <td>0.8</td>\n",
       "      <td>0.8</td>\n",
       "      <td>0.8</td>\n",
       "      <td>ball_tree</td>\n",
       "      <td>9</td>\n",
       "      <td>1</td>\n",
       "      <td>0.8</td>\n",
       "      <td>1.000000e-08</td>\n",
       "      <td>(0.799999972235549, 0.8000000277644511)</td>\n",
       "      <td>0.4</td>\n",
       "    </tr>\n",
       "    <tr>\n",
       "      <th>30</th>\n",
       "      <td>{'algorithm': 'brute', 'n_neighbors': 9, 'p': 1}</td>\n",
       "      <td>0.8</td>\n",
       "      <td>0.8</td>\n",
       "      <td>0.8</td>\n",
       "      <td>0.8</td>\n",
       "      <td>0.8</td>\n",
       "      <td>brute</td>\n",
       "      <td>9</td>\n",
       "      <td>1</td>\n",
       "      <td>0.8</td>\n",
       "      <td>1.000000e-08</td>\n",
       "      <td>(0.799999972235549, 0.8000000277644511)</td>\n",
       "      <td>0.4</td>\n",
       "    </tr>\n",
       "    <tr>\n",
       "      <th>29</th>\n",
       "      <td>{'algorithm': 'brute', 'n_neighbors': 7, 'p': 2}</td>\n",
       "      <td>0.8</td>\n",
       "      <td>0.8</td>\n",
       "      <td>0.8</td>\n",
       "      <td>0.8</td>\n",
       "      <td>0.8</td>\n",
       "      <td>brute</td>\n",
       "      <td>7</td>\n",
       "      <td>2</td>\n",
       "      <td>0.8</td>\n",
       "      <td>1.000000e-08</td>\n",
       "      <td>(0.799999972235549, 0.8000000277644511)</td>\n",
       "      <td>0.4</td>\n",
       "    </tr>\n",
       "    <tr>\n",
       "      <th>28</th>\n",
       "      <td>{'algorithm': 'brute', 'n_neighbors': 7, 'p': 1}</td>\n",
       "      <td>0.8</td>\n",
       "      <td>0.8</td>\n",
       "      <td>0.8</td>\n",
       "      <td>0.8</td>\n",
       "      <td>0.8</td>\n",
       "      <td>brute</td>\n",
       "      <td>7</td>\n",
       "      <td>1</td>\n",
       "      <td>0.8</td>\n",
       "      <td>1.000000e-08</td>\n",
       "      <td>(0.799999972235549, 0.8000000277644511)</td>\n",
       "      <td>0.4</td>\n",
       "    </tr>\n",
       "  </tbody>\n",
       "</table>\n",
       "</div>"
      ],
      "text/plain": [
       "                                               params  split0_test_score  \\\n",
       "0     {'algorithm': 'auto', 'n_neighbors': 3, 'p': 1}                0.8   \n",
       "14  {'algorithm': 'ball_tree', 'n_neighbors': 9, '...                0.8   \n",
       "30   {'algorithm': 'brute', 'n_neighbors': 9, 'p': 1}                0.8   \n",
       "29   {'algorithm': 'brute', 'n_neighbors': 7, 'p': 2}                0.8   \n",
       "28   {'algorithm': 'brute', 'n_neighbors': 7, 'p': 1}                0.8   \n",
       "\n",
       "    split1_test_score  split2_test_score  split3_test_score  \\\n",
       "0                 0.8                0.8                0.8   \n",
       "14                0.8                0.8                0.8   \n",
       "30                0.8                0.8                0.8   \n",
       "29                0.8                0.8                0.8   \n",
       "28                0.8                0.8                0.8   \n",
       "\n",
       "    split4_test_score  algorithm  n_neighbors  p  mean           sem  \\\n",
       "0                 0.8       auto            3  1   0.8  1.000000e-08   \n",
       "14                0.8  ball_tree            9  1   0.8  1.000000e-08   \n",
       "30                0.8      brute            9  1   0.8  1.000000e-08   \n",
       "29                0.8      brute            7  2   0.8  1.000000e-08   \n",
       "28                0.8      brute            7  1   0.8  1.000000e-08   \n",
       "\n",
       "                                         ci  sort  \n",
       "0   (0.799999972235549, 0.8000000277644511)   0.4  \n",
       "14  (0.799999972235549, 0.8000000277644511)   0.4  \n",
       "30  (0.799999972235549, 0.8000000277644511)   0.4  \n",
       "29  (0.799999972235549, 0.8000000277644511)   0.4  \n",
       "28  (0.799999972235549, 0.8000000277644511)   0.4  "
      ]
     },
     "execution_count": 13,
     "metadata": {},
     "output_type": "execute_result"
    }
   ],
   "source": [
    "knn.top_params(0.95, 5)"
   ]
  },
  {
   "cell_type": "code",
   "execution_count": 14,
   "metadata": {},
   "outputs": [
    {
     "name": "stderr",
     "output_type": "stream",
     "text": [
      "findfont: Font family ['Gill Sans'] not found. Falling back to DejaVu Sans.\n",
      "findfont: Font family ['Gill Sans'] not found. Falling back to DejaVu Sans.\n"
     ]
    },
    {
     "data": {
      "image/png": "[encoded data removed]",
      "text/plain": [
       "<Figure size 936x432 with 1 Axes>"
      ]
     },
     "metadata": {},
     "output_type": "display_data"
    }
   ],
   "source": [
    "knn.boxplots(30)"
   ]
  },
  {
   "cell_type": "code",
   "execution_count": null,
   "metadata": {},
   "outputs": [],
   "source": [
    "results(X_data_curated,y_data_curated,'KNN', 5)"
   ]
  },
  {
   "cell_type": "markdown",
   "metadata": {},
   "source": [
    "## Decision Tree"
   ]
  },
  {
   "cell_type": "code",
   "execution_count": 15,
   "metadata": {},
   "outputs": [
    {
     "name": "stdout",
     "output_type": "stream",
     "text": [
      "[INFO] The best parameters are {'criterion': 'entropy', 'max_features': 'log2', 'splitter': 'best'}\n",
      "[INFO] The best score is 0.7000\n",
      "[INFO] The best parameters according to ci are {'criterion': 'gini', 'max_features': 'log2', 'splitter': 'best'}\n",
      "[INFO] Train acc  is : 1.0000\n"
     ]
    }
   ],
   "source": [
    "dt = ModelHandler(X = X_data_curated, Y = y_data_curated, model = 'DT', n_splits = 5)\n",
    "dt.fit(True,True)"
   ]
  },
  {
   "cell_type": "code",
   "execution_count": 16,
   "metadata": {},
   "outputs": [
    {
     "data": {
      "text/html": [
       "<div>\n",
       "<style scoped>\n",
       "    .dataframe tbody tr th:only-of-type {\n",
       "        vertical-align: middle;\n",
       "    }\n",
       "\n",
       "    .dataframe tbody tr th {\n",
       "        vertical-align: top;\n",
       "    }\n",
       "\n",
       "    .dataframe thead th {\n",
       "        text-align: right;\n",
       "    }\n",
       "</style>\n",
       "<table border=\"1\" class=\"dataframe\">\n",
       "  <thead>\n",
       "    <tr style=\"text-align: right;\">\n",
       "      <th></th>\n",
       "      <th>params</th>\n",
       "      <th>split0_test_score</th>\n",
       "      <th>split1_test_score</th>\n",
       "      <th>split2_test_score</th>\n",
       "      <th>split3_test_score</th>\n",
       "      <th>split4_test_score</th>\n",
       "      <th>criterion</th>\n",
       "      <th>max_features</th>\n",
       "      <th>splitter</th>\n",
       "      <th>mean</th>\n",
       "      <th>sem</th>\n",
       "      <th>ci</th>\n",
       "      <th>sort</th>\n",
       "    </tr>\n",
       "  </thead>\n",
       "  <tbody>\n",
       "    <tr>\n",
       "      <th>4</th>\n",
       "      <td>{'criterion': 'gini', 'max_features': 'log2', ...</td>\n",
       "      <td>0.6</td>\n",
       "      <td>0.7</td>\n",
       "      <td>0.6</td>\n",
       "      <td>0.7</td>\n",
       "      <td>0.7</td>\n",
       "      <td>gini</td>\n",
       "      <td>log2</td>\n",
       "      <td>best</td>\n",
       "      <td>0.66</td>\n",
       "      <td>0.024495</td>\n",
       "      <td>(0.5919912341697232, 0.7280087658302766)</td>\n",
       "      <td>0.295996</td>\n",
       "    </tr>\n",
       "    <tr>\n",
       "      <th>10</th>\n",
       "      <td>{'criterion': 'entropy', 'max_features': 'log2...</td>\n",
       "      <td>0.6</td>\n",
       "      <td>0.8</td>\n",
       "      <td>0.6</td>\n",
       "      <td>0.7</td>\n",
       "      <td>0.8</td>\n",
       "      <td>entropy</td>\n",
       "      <td>log2</td>\n",
       "      <td>best</td>\n",
       "      <td>0.70</td>\n",
       "      <td>0.044721</td>\n",
       "      <td>(0.5758335724151722, 0.8241664275848277)</td>\n",
       "      <td>0.287917</td>\n",
       "    </tr>\n",
       "    <tr>\n",
       "      <th>2</th>\n",
       "      <td>{'criterion': 'gini', 'max_features': 'sqrt', ...</td>\n",
       "      <td>0.7</td>\n",
       "      <td>0.5</td>\n",
       "      <td>0.6</td>\n",
       "      <td>0.7</td>\n",
       "      <td>0.7</td>\n",
       "      <td>gini</td>\n",
       "      <td>sqrt</td>\n",
       "      <td>best</td>\n",
       "      <td>0.64</td>\n",
       "      <td>0.040000</td>\n",
       "      <td>(0.528942168027637, 0.751057831972363)</td>\n",
       "      <td>0.264471</td>\n",
       "    </tr>\n",
       "    <tr>\n",
       "      <th>9</th>\n",
       "      <td>{'criterion': 'entropy', 'max_features': 'sqrt...</td>\n",
       "      <td>0.7</td>\n",
       "      <td>0.6</td>\n",
       "      <td>0.7</td>\n",
       "      <td>0.6</td>\n",
       "      <td>0.5</td>\n",
       "      <td>entropy</td>\n",
       "      <td>sqrt</td>\n",
       "      <td>random</td>\n",
       "      <td>0.62</td>\n",
       "      <td>0.037417</td>\n",
       "      <td>(0.5161149088671919, 0.7238850911328079)</td>\n",
       "      <td>0.258057</td>\n",
       "    </tr>\n",
       "    <tr>\n",
       "      <th>5</th>\n",
       "      <td>{'criterion': 'gini', 'max_features': 'log2', ...</td>\n",
       "      <td>0.5</td>\n",
       "      <td>0.6</td>\n",
       "      <td>0.8</td>\n",
       "      <td>0.6</td>\n",
       "      <td>0.9</td>\n",
       "      <td>gini</td>\n",
       "      <td>log2</td>\n",
       "      <td>random</td>\n",
       "      <td>0.68</td>\n",
       "      <td>0.073485</td>\n",
       "      <td>(0.47597375803807174, 0.8840262419619281)</td>\n",
       "      <td>0.237987</td>\n",
       "    </tr>\n",
       "  </tbody>\n",
       "</table>\n",
       "</div>"
      ],
      "text/plain": [
       "                                               params  split0_test_score  \\\n",
       "4   {'criterion': 'gini', 'max_features': 'log2', ...                0.6   \n",
       "10  {'criterion': 'entropy', 'max_features': 'log2...                0.6   \n",
       "2   {'criterion': 'gini', 'max_features': 'sqrt', ...                0.7   \n",
       "9   {'criterion': 'entropy', 'max_features': 'sqrt...                0.7   \n",
       "5   {'criterion': 'gini', 'max_features': 'log2', ...                0.5   \n",
       "\n",
       "    split1_test_score  split2_test_score  split3_test_score  \\\n",
       "4                 0.7                0.6                0.7   \n",
       "10                0.8                0.6                0.7   \n",
       "2                 0.5                0.6                0.7   \n",
       "9                 0.6                0.7                0.6   \n",
       "5                 0.6                0.8                0.6   \n",
       "\n",
       "    split4_test_score criterion max_features splitter  mean       sem  \\\n",
       "4                 0.7      gini         log2     best  0.66  0.024495   \n",
       "10                0.8   entropy         log2     best  0.70  0.044721   \n",
       "2                 0.7      gini         sqrt     best  0.64  0.040000   \n",
       "9                 0.5   entropy         sqrt   random  0.62  0.037417   \n",
       "5                 0.9      gini         log2   random  0.68  0.073485   \n",
       "\n",
       "                                           ci      sort  \n",
       "4    (0.5919912341697232, 0.7280087658302766)  0.295996  \n",
       "10   (0.5758335724151722, 0.8241664275848277)  0.287917  \n",
       "2      (0.528942168027637, 0.751057831972363)  0.264471  \n",
       "9    (0.5161149088671919, 0.7238850911328079)  0.258057  \n",
       "5   (0.47597375803807174, 0.8840262419619281)  0.237987  "
      ]
     },
     "execution_count": 16,
     "metadata": {},
     "output_type": "execute_result"
    }
   ],
   "source": [
    "dt.top_params(0.95, 5)"
   ]
  },
  {
   "cell_type": "code",
   "execution_count": 17,
   "metadata": {},
   "outputs": [
    {
     "data": {
      "image/png": "[encoded data removed]",
      "text/plain": [
       "<Figure size 936x432 with 1 Axes>"
      ]
     },
     "metadata": {},
     "output_type": "display_data"
    }
   ],
   "source": [
    "dt.boxplots(5)"
   ]
  },
  {
   "cell_type": "code",
   "execution_count": null,
   "metadata": {},
   "outputs": [],
   "source": [
    "results(X_data_curated,y_data_curated,'DT', 5)"
   ]
  }
 ],
 "metadata": {
  "interpreter": {
   "hash": "916dbcbb3f70747c44a77c7bcd40155683ae19c65e1c03b4aa3499c5328201f1"
  },
  "kernelspec": {
   "display_name": "Python 3.8.10 64-bit",
   "language": "python",
   "name": "python3"
  },
  "language_info": {
   "codemirror_mode": {
    "name": "ipython",
    "version": 3
   },
   "file_extension": ".py",
   "mimetype": "text/x-python",
   "name": "python",
   "nbconvert_exporter": "python",
   "pygments_lexer": "ipython3",
   "version": "3.9.9"
  },
  "orig_nbformat": 4
 },
 "nbformat": 4,
 "nbformat_minor": 2
}
