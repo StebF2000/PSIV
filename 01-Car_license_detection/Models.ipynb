{
 "cells": [
  {
   "cell_type": "markdown",
   "metadata": {},
   "source": [
    "# Models for plate characters recognition"
   ]
  },
  {
   "cell_type": "code",
   "execution_count": 27,
   "metadata": {},
   "outputs": [],
   "source": [
    "from sklearn import svm\n",
    "import numpy as np\n",
    "import sklearn\n",
    "from sklearn.pipeline import make_pipeline\n",
    "from sklearn.preprocessing import StandardScaler\n",
    "from sklearn.model_selection import GridSearchCV, StratifiedShuffleSplit\n",
    "from sklearn import neighbors\n",
    "from sklearn import tree\n",
    "#from xgboost import XGBClassifier"
   ]
  },
  {
   "cell_type": "markdown",
   "metadata": {},
   "source": [
    "## General utils"
   ]
  },
  {
   "cell_type": "code",
   "execution_count": 9,
   "metadata": {},
   "outputs": [],
   "source": [
    "def func_overX(X):\n",
    "    Y = []\n",
    "    for element in X:\n",
    "        Y.append( sum(element.flatten())  > element.flatten().shape[0] //2)\n",
    "    return np.asarray(Y)\n",
    "\n",
    "def testing():\n",
    "\n",
    "    ##### SVM Testing #####\n",
    "    X = np.random.rand(200 , 60,30)\n",
    "    Y = func_overX(X)\n",
    "   \n",
    "    ### GridSearch ###\n",
    "    model = SVMCHandler(X,Y)\n",
    "    model.fit(with_score=True, with_grid=True)\n",
    "\n",
    "\n",
    "def _ensure_dimensionalit( arr):\n",
    "        return arr if len(arr[0].shape) == 1 else [x.flatten() for x in arr]\n",
    "\n",
    "def _acc(y_pred, y_target):\n",
    "\n",
    "    if type(y_pred) == np.array and type(y_target) == np.array :\n",
    "        assert(y_pred.shape == y_target.shape)\n",
    "        mask = y_pred == y_target\n",
    "    \n",
    "    else: \n",
    "        assert(len(y_pred) == len(y_target))\n",
    "        mask = [x==y for x,y in zip(y_pred, y_target)]\n",
    "    return sum(mask)/len(mask)\n",
    "\n",
    "#Scaler = StandardScaler()\n",
    "\n",
    "def do_scaling(X):\n",
    "    Scaler = StandardScaler()\n",
    "    return Scaler.fit_transform(X)\n",
    "\n",
    "def _gen_gridSearch(model,hyperparams):\n",
    "    cv = StratifiedShuffleSplit(n_splits=5, test_size=0.2, random_state= 42)\n",
    "    grid = GridSearchCV(model , param_grid= hyperparams, cv=cv, n_jobs=10, verbose=3, scoring='roc_auc')\n",
    "    return grid \n"
   ]
  },
  {
   "cell_type": "markdown",
   "metadata": {},
   "source": [
    "# Models"
   ]
  },
  {
   "cell_type": "markdown",
   "metadata": {},
   "source": [
    "## SVM"
   ]
  },
  {
   "cell_type": "code",
   "execution_count": 10,
   "metadata": {},
   "outputs": [],
   "source": [
    "class SVMCHandler:\n",
    "\n",
    "    def __init__(self, X, Y, **kwargs):\n",
    "        hyperparams = {\n",
    "            'kernel':['linear', 'poly', 'rbf', 'sigmoid'],\n",
    "            'C': np.logspace(-2, 10 , 5),\n",
    "            'gamma': np.logspace(-9,3,5),\n",
    "        }\n",
    "        self.model = svm.SVC(**kwargs)\n",
    "        self.X = do_scaling(_ensure_dimensionalit(X))\n",
    "        self.Y = Y\n",
    "        assert(len(Y.shape) ==1 )\n",
    "        self.grid = _gen_gridSearch(self.model, hyperparams)\n",
    "        \n",
    "    \n",
    "    def fit(self, with_score = True, with_grid=True):\n",
    "        if with_grid:\n",
    "            self.grid.fit(self.X, self.Y)\n",
    "            print(f\"The best parameters are {self.grid.best_params_} and the best score is {self.grid.best_score_}\")\n",
    "            self.model = self.model.__class__(**self.grid.best_params_)\n",
    "            self.model.fit(self.X,self.Y)\n",
    "        else : \n",
    "            self.model.fit(self.X, self.Y )\n",
    "        if with_score:\n",
    "            pred = self.predict(self.X)\n",
    "            print(f\"Train acc  is : {_acc(pred, self.Y)}\")\n",
    "\n",
    "    def predict(self, X):\n",
    "        X = _ensure_dimensionalit(X)\n",
    "        return self.model.predict(X)\n"
   ]
  },
  {
   "cell_type": "markdown",
   "metadata": {},
   "source": [
    "## DL model"
   ]
  },
  {
   "cell_type": "code",
   "execution_count": null,
   "metadata": {},
   "outputs": [],
   "source": []
  },
  {
   "cell_type": "markdown",
   "metadata": {},
   "source": [
    "## KNN model"
   ]
  },
  {
   "cell_type": "code",
   "execution_count": 14,
   "metadata": {},
   "outputs": [],
   "source": [
    "class KNNhandler:\n",
    "\n",
    "    def __init__(self, X, Y, **kwargs):\n",
    "        hyperparams = {\n",
    "            'algorithm':['auto', 'ball_tree', 'kd_tree', 'brute'],\n",
    "            'n_neighbors': np.arange(3, 10, 2),\n",
    "            'p': np.arange(1,3),\n",
    "        }\n",
    "        self.model = neighbors.KNeighborsClassifier(**kwargs)\n",
    "        self.X = do_scaling(_ensure_dimensionalit(X))\n",
    "        self.Y = Y\n",
    "        assert(len(Y.shape) ==1 )\n",
    "        self.grid = _gen_gridSearch(self.model, hyperparams)\n",
    "        \n",
    "    \n",
    "    def fit(self, with_score = True, with_grid=True):\n",
    "        if with_grid:\n",
    "            self.grid.fit(self.X, self.Y)\n",
    "            print(f\"The best parameters are {self.grid.best_params_} and the best score is {self.grid.best_score_}\")\n",
    "            self.model = self.model.__class__(**self.grid.best_params_)\n",
    "            self.model.fit(self.X,self.Y)\n",
    "        else : \n",
    "            self.model.fit(self.X, self.Y )\n",
    "        if with_score:\n",
    "            pred = self.predict(self.X)\n",
    "            print(f\"Train acc  is : {_acc(pred, self.Y)}\")\n",
    "\n",
    "    def predict(self, X):\n",
    "        X = _ensure_dimensionalit(X)\n",
    "        return self.model.predict(X)\n"
   ]
  },
  {
   "cell_type": "markdown",
   "metadata": {},
   "source": [
    "# Decision tree"
   ]
  },
  {
   "cell_type": "code",
   "execution_count": 29,
   "metadata": {},
   "outputs": [],
   "source": [
    "class DTCHandler:\n",
    "\n",
    "    def __init__(self, X, Y, **kwargs):\n",
    "        hyperparams = {\n",
    "            'criterion':['gini', 'entropy'],\n",
    "            'max_features': ['auto', 'sqrt', 'log2'],\n",
    "            'splitter': ['best', 'random'],\n",
    "        }\n",
    "        self.model = tree.DecisionTreeClassifier(**kwargs)\n",
    "        self.X = do_scaling(_ensure_dimensionalit(X))\n",
    "        self.Y = Y\n",
    "        assert(len(Y.shape) ==1 )\n",
    "        self.grid = _gen_gridSearch(self.model, hyperparams)\n",
    "        \n",
    "    \n",
    "    def fit(self, with_score = True, with_grid=True):\n",
    "        if with_grid:\n",
    "            self.grid.fit(self.X, self.Y)\n",
    "            print(f\"The best parameters are {self.grid.best_params_} and the best score is {self.grid.best_score_}\")\n",
    "            self.model = self.model.__class__(**self.grid.best_params_)\n",
    "            self.model.fit(self.X,self.Y)\n",
    "        else : \n",
    "            self.model.fit(self.X, self.Y )\n",
    "        if with_score:\n",
    "            pred = self.predict(self.X)\n",
    "            print(f\"Train acc  is : {_acc(pred, self.Y)}\")\n",
    "\n",
    "    def predict(self, X):\n",
    "        X = _ensure_dimensionalit(X)\n",
    "        return self.model.predict(X)\n"
   ]
  }
 ],
 "metadata": {
  "kernelspec": {
   "display_name": "Python 3",
   "language": "python",
   "name": "python3"
  },
  "language_info": {
   "codemirror_mode": {
    "name": "ipython",
    "version": 3
   },
   "file_extension": ".py",
   "mimetype": "text/x-python",
   "name": "python",
   "nbconvert_exporter": "python",
   "pygments_lexer": "ipython3",
   "version": "3.7.7"
  }
 },
 "nbformat": 4,
 "nbformat_minor": 4
}
