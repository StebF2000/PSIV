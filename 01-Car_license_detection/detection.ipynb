{
 "cells": [
  {
   "cell_type": "code",
   "execution_count": null,
   "source": [],
   "outputs": [],
   "metadata": {}
  }
 ],
 "metadata": {
  "orig_nbformat": 4,
  "language_info": {
   "name": "python",
   "version": "3.7.10"
  },
  "kernelspec": {
   "name": "python3",
   "display_name": "Python 3.7.10 64-bit ('PSIV': conda)"
  },
  "interpreter": {
   "hash": "32e8c648a2494fd09d23bf83991ec7421f6cc01ac59d940361f7f6b3216c6885"
  }
 },
 "nbformat": 4,
 "nbformat_minor": 2
}