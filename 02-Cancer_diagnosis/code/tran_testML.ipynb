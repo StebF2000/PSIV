{
 "cells": [
  {
   "cell_type": "code",
   "execution_count": 1,
   "metadata": {},
   "outputs": [],
   "source": [
    "from model import ModelHandler\n",
    "from DataLoader import SegmentationDataset, DiagnosisEnd2End\n",
    "from torch.utils.data import Dataset, DataLoader\n",
    "import os\n",
    "import numpy as np"
   ]
  },
  {
   "cell_type": "markdown",
   "metadata": {},
   "source": [
    "## End2End Data"
   ]
  },
  {
   "cell_type": "code",
   "execution_count": 2,
   "metadata": {},
   "outputs": [],
   "source": [
    "path_segmentation = \"../data/Diagnosis/\"\n",
    "nodules_path = \"../data/Diagnosis/Radiolung_NoduleDiagnosis.csv\""
   ]
  },
  {
   "cell_type": "code",
   "execution_count": 3,
   "metadata": {},
   "outputs": [],
   "source": [
    "diagonis = DiagnosisEnd2End(path_segmentation, nodules_path)\n",
    "\n",
    "X_data_curated = np.zeros((47,14, 240, 240))\n",
    "y_data_curated = np.zeros(47)\n",
    "i = 0\n",
    "\n",
    "for data in diagonis:\n",
    "    m = data['ROI'].shape[0]//2\n",
    "    X_data_curated[i] = data['ROI'][m-7:m+7,:,:]\n",
    "    y_data_curated[i] = data['GT']\n",
    "    i+=1\n"
   ]
  },
  {
   "cell_type": "markdown",
   "metadata": {},
   "source": [
    "## SVM"
   ]
  },
  {
   "cell_type": "code",
   "execution_count": 4,
   "metadata": {},
   "outputs": [
    {
     "name": "stdout",
     "output_type": "stream",
     "text": [
      "[INFO] The best parameters are {'C': 0.01, 'kernel': 'linear'}\n",
      "[INFO] The best score is 0.8800\n",
      "[INFO] The best parameters according to ci are {'C': 0.01, 'kernel': 'linear'}\n",
      "[INFO] Train acc  is : 1.0000\n"
     ]
    }
   ],
   "source": [
    "svm = ModelHandler(X = X_data_curated, Y = y_data_curated, model = 'SVM', n_splits = 5)\n",
    "svm.fit(True,True)"
   ]
  },
  {
   "cell_type": "code",
   "execution_count": 5,
   "metadata": {},
   "outputs": [
    {
     "data": {
      "text/html": [
       "<div>\n",
       "<style scoped>\n",
       "    .dataframe tbody tr th:only-of-type {\n",
       "        vertical-align: middle;\n",
       "    }\n",
       "\n",
       "    .dataframe tbody tr th {\n",
       "        vertical-align: top;\n",
       "    }\n",
       "\n",
       "    .dataframe thead th {\n",
       "        text-align: right;\n",
       "    }\n",
       "</style>\n",
       "<table border=\"1\" class=\"dataframe\">\n",
       "  <thead>\n",
       "    <tr style=\"text-align: right;\">\n",
       "      <th></th>\n",
       "      <th>params</th>\n",
       "      <th>split0_test_score</th>\n",
       "      <th>split1_test_score</th>\n",
       "      <th>split2_test_score</th>\n",
       "      <th>split3_test_score</th>\n",
       "      <th>split4_test_score</th>\n",
       "      <th>C</th>\n",
       "      <th>kernel</th>\n",
       "      <th>mean</th>\n",
       "      <th>sem</th>\n",
       "      <th>ci</th>\n",
       "      <th>sort</th>\n",
       "    </tr>\n",
       "  </thead>\n",
       "  <tbody>\n",
       "    <tr>\n",
       "      <th>0</th>\n",
       "      <td>{'C': 0.01, 'kernel': 'linear'}</td>\n",
       "      <td>0.9</td>\n",
       "      <td>1.0</td>\n",
       "      <td>0.9</td>\n",
       "      <td>0.8</td>\n",
       "      <td>0.8</td>\n",
       "      <td>1.000000e-02</td>\n",
       "      <td>linear</td>\n",
       "      <td>0.88</td>\n",
       "      <td>0.037417</td>\n",
       "      <td>(0.7761149088671919, 0.9838850911328079)</td>\n",
       "      <td>0.388057</td>\n",
       "    </tr>\n",
       "    <tr>\n",
       "      <th>12</th>\n",
       "      <td>{'C': 10000000.0, 'kernel': 'linear'}</td>\n",
       "      <td>0.9</td>\n",
       "      <td>1.0</td>\n",
       "      <td>0.9</td>\n",
       "      <td>0.8</td>\n",
       "      <td>0.8</td>\n",
       "      <td>1.000000e+07</td>\n",
       "      <td>linear</td>\n",
       "      <td>0.88</td>\n",
       "      <td>0.037417</td>\n",
       "      <td>(0.7761149088671919, 0.9838850911328079)</td>\n",
       "      <td>0.388057</td>\n",
       "    </tr>\n",
       "    <tr>\n",
       "      <th>4</th>\n",
       "      <td>{'C': 10.0, 'kernel': 'linear'}</td>\n",
       "      <td>0.9</td>\n",
       "      <td>1.0</td>\n",
       "      <td>0.9</td>\n",
       "      <td>0.8</td>\n",
       "      <td>0.8</td>\n",
       "      <td>1.000000e+01</td>\n",
       "      <td>linear</td>\n",
       "      <td>0.88</td>\n",
       "      <td>0.037417</td>\n",
       "      <td>(0.7761149088671919, 0.9838850911328079)</td>\n",
       "      <td>0.388057</td>\n",
       "    </tr>\n",
       "    <tr>\n",
       "      <th>16</th>\n",
       "      <td>{'C': 10000000000.0, 'kernel': 'linear'}</td>\n",
       "      <td>0.9</td>\n",
       "      <td>1.0</td>\n",
       "      <td>0.9</td>\n",
       "      <td>0.8</td>\n",
       "      <td>0.8</td>\n",
       "      <td>1.000000e+10</td>\n",
       "      <td>linear</td>\n",
       "      <td>0.88</td>\n",
       "      <td>0.037417</td>\n",
       "      <td>(0.7761149088671919, 0.9838850911328079)</td>\n",
       "      <td>0.388057</td>\n",
       "    </tr>\n",
       "    <tr>\n",
       "      <th>8</th>\n",
       "      <td>{'C': 10000.0, 'kernel': 'linear'}</td>\n",
       "      <td>0.9</td>\n",
       "      <td>1.0</td>\n",
       "      <td>0.9</td>\n",
       "      <td>0.8</td>\n",
       "      <td>0.8</td>\n",
       "      <td>1.000000e+04</td>\n",
       "      <td>linear</td>\n",
       "      <td>0.88</td>\n",
       "      <td>0.037417</td>\n",
       "      <td>(0.7761149088671919, 0.9838850911328079)</td>\n",
       "      <td>0.388057</td>\n",
       "    </tr>\n",
       "  </tbody>\n",
       "</table>\n",
       "</div>"
      ],
      "text/plain": [
       "                                      params  split0_test_score  \\\n",
       "0            {'C': 0.01, 'kernel': 'linear'}                0.9   \n",
       "12     {'C': 10000000.0, 'kernel': 'linear'}                0.9   \n",
       "4            {'C': 10.0, 'kernel': 'linear'}                0.9   \n",
       "16  {'C': 10000000000.0, 'kernel': 'linear'}                0.9   \n",
       "8         {'C': 10000.0, 'kernel': 'linear'}                0.9   \n",
       "\n",
       "    split1_test_score  split2_test_score  split3_test_score  \\\n",
       "0                 1.0                0.9                0.8   \n",
       "12                1.0                0.9                0.8   \n",
       "4                 1.0                0.9                0.8   \n",
       "16                1.0                0.9                0.8   \n",
       "8                 1.0                0.9                0.8   \n",
       "\n",
       "    split4_test_score             C  kernel  mean       sem  \\\n",
       "0                 0.8  1.000000e-02  linear  0.88  0.037417   \n",
       "12                0.8  1.000000e+07  linear  0.88  0.037417   \n",
       "4                 0.8  1.000000e+01  linear  0.88  0.037417   \n",
       "16                0.8  1.000000e+10  linear  0.88  0.037417   \n",
       "8                 0.8  1.000000e+04  linear  0.88  0.037417   \n",
       "\n",
       "                                          ci      sort  \n",
       "0   (0.7761149088671919, 0.9838850911328079)  0.388057  \n",
       "12  (0.7761149088671919, 0.9838850911328079)  0.388057  \n",
       "4   (0.7761149088671919, 0.9838850911328079)  0.388057  \n",
       "16  (0.7761149088671919, 0.9838850911328079)  0.388057  \n",
       "8   (0.7761149088671919, 0.9838850911328079)  0.388057  "
      ]
     },
     "execution_count": 5,
     "metadata": {},
     "output_type": "execute_result"
    }
   ],
   "source": [
    "svm.top_params(0.95, 5)"
   ]
  },
  {
   "cell_type": "code",
   "execution_count": 7,
   "metadata": {},
   "outputs": [
    {
     "data": {
      "image/png": "[encoded data removed]",
      "text/plain": [
       "<Figure size 936x432 with 1 Axes>"
      ]
     },
     "metadata": {},
     "output_type": "display_data"
    }
   ],
   "source": [
    "svm.boxplots(20)"
   ]
  },
  {
   "cell_type": "markdown",
   "metadata": {},
   "source": [
    "## KNN"
   ]
  },
  {
   "cell_type": "code",
   "execution_count": 8,
   "metadata": {},
   "outputs": [
    {
     "name": "stdout",
     "output_type": "stream",
     "text": [
      "[INFO] The best parameters are {'algorithm': 'auto', 'n_neighbors': 3, 'p': 2}\n",
      "[INFO] The best score is 0.8400\n",
      "[INFO] The best parameters according to ci are {'algorithm': 'brute', 'n_neighbors': 9, 'p': 2}\n",
      "[INFO] Train acc  is : 0.8298\n"
     ]
    }
   ],
   "source": [
    "knn = ModelHandler(X = X_data_curated, Y = y_data_curated, model = 'KNN', n_splits = 5)\n",
    "knn.fit(True,True)"
   ]
  },
  {
   "cell_type": "code",
   "execution_count": 9,
   "metadata": {},
   "outputs": [
    {
     "data": {
      "text/html": [
       "<div>\n",
       "<style scoped>\n",
       "    .dataframe tbody tr th:only-of-type {\n",
       "        vertical-align: middle;\n",
       "    }\n",
       "\n",
       "    .dataframe tbody tr th {\n",
       "        vertical-align: top;\n",
       "    }\n",
       "\n",
       "    .dataframe thead th {\n",
       "        text-align: right;\n",
       "    }\n",
       "</style>\n",
       "<table border=\"1\" class=\"dataframe\">\n",
       "  <thead>\n",
       "    <tr style=\"text-align: right;\">\n",
       "      <th></th>\n",
       "      <th>params</th>\n",
       "      <th>split0_test_score</th>\n",
       "      <th>split1_test_score</th>\n",
       "      <th>split2_test_score</th>\n",
       "      <th>split3_test_score</th>\n",
       "      <th>split4_test_score</th>\n",
       "      <th>algorithm</th>\n",
       "      <th>n_neighbors</th>\n",
       "      <th>p</th>\n",
       "      <th>mean</th>\n",
       "      <th>sem</th>\n",
       "      <th>ci</th>\n",
       "      <th>sort</th>\n",
       "    </tr>\n",
       "  </thead>\n",
       "  <tbody>\n",
       "    <tr>\n",
       "      <th>31</th>\n",
       "      <td>{'algorithm': 'brute', 'n_neighbors': 9, 'p': 2}</td>\n",
       "      <td>0.7</td>\n",
       "      <td>1.0</td>\n",
       "      <td>0.9</td>\n",
       "      <td>0.8</td>\n",
       "      <td>0.8</td>\n",
       "      <td>brute</td>\n",
       "      <td>9</td>\n",
       "      <td>2</td>\n",
       "      <td>0.84</td>\n",
       "      <td>0.05099</td>\n",
       "      <td>(0.6984284945373216, 0.9815715054626786)</td>\n",
       "      <td>0.349214</td>\n",
       "    </tr>\n",
       "    <tr>\n",
       "      <th>13</th>\n",
       "      <td>{'algorithm': 'ball_tree', 'n_neighbors': 7, '...</td>\n",
       "      <td>0.7</td>\n",
       "      <td>1.0</td>\n",
       "      <td>0.9</td>\n",
       "      <td>0.8</td>\n",
       "      <td>0.8</td>\n",
       "      <td>ball_tree</td>\n",
       "      <td>7</td>\n",
       "      <td>2</td>\n",
       "      <td>0.84</td>\n",
       "      <td>0.05099</td>\n",
       "      <td>(0.6984284945373216, 0.9815715054626786)</td>\n",
       "      <td>0.349214</td>\n",
       "    </tr>\n",
       "    <tr>\n",
       "      <th>26</th>\n",
       "      <td>{'algorithm': 'brute', 'n_neighbors': 5, 'p': 1}</td>\n",
       "      <td>0.7</td>\n",
       "      <td>1.0</td>\n",
       "      <td>0.9</td>\n",
       "      <td>0.8</td>\n",
       "      <td>0.8</td>\n",
       "      <td>brute</td>\n",
       "      <td>5</td>\n",
       "      <td>1</td>\n",
       "      <td>0.84</td>\n",
       "      <td>0.05099</td>\n",
       "      <td>(0.6984284945373216, 0.9815715054626786)</td>\n",
       "      <td>0.349214</td>\n",
       "    </tr>\n",
       "    <tr>\n",
       "      <th>25</th>\n",
       "      <td>{'algorithm': 'brute', 'n_neighbors': 3, 'p': 2}</td>\n",
       "      <td>0.7</td>\n",
       "      <td>1.0</td>\n",
       "      <td>0.9</td>\n",
       "      <td>0.8</td>\n",
       "      <td>0.8</td>\n",
       "      <td>brute</td>\n",
       "      <td>3</td>\n",
       "      <td>2</td>\n",
       "      <td>0.84</td>\n",
       "      <td>0.05099</td>\n",
       "      <td>(0.6984284945373216, 0.9815715054626786)</td>\n",
       "      <td>0.349214</td>\n",
       "    </tr>\n",
       "    <tr>\n",
       "      <th>29</th>\n",
       "      <td>{'algorithm': 'brute', 'n_neighbors': 7, 'p': 2}</td>\n",
       "      <td>0.7</td>\n",
       "      <td>1.0</td>\n",
       "      <td>0.9</td>\n",
       "      <td>0.8</td>\n",
       "      <td>0.8</td>\n",
       "      <td>brute</td>\n",
       "      <td>7</td>\n",
       "      <td>2</td>\n",
       "      <td>0.84</td>\n",
       "      <td>0.05099</td>\n",
       "      <td>(0.6984284945373216, 0.9815715054626786)</td>\n",
       "      <td>0.349214</td>\n",
       "    </tr>\n",
       "  </tbody>\n",
       "</table>\n",
       "</div>"
      ],
      "text/plain": [
       "                                               params  split0_test_score  \\\n",
       "31   {'algorithm': 'brute', 'n_neighbors': 9, 'p': 2}                0.7   \n",
       "13  {'algorithm': 'ball_tree', 'n_neighbors': 7, '...                0.7   \n",
       "26   {'algorithm': 'brute', 'n_neighbors': 5, 'p': 1}                0.7   \n",
       "25   {'algorithm': 'brute', 'n_neighbors': 3, 'p': 2}                0.7   \n",
       "29   {'algorithm': 'brute', 'n_neighbors': 7, 'p': 2}                0.7   \n",
       "\n",
       "    split1_test_score  split2_test_score  split3_test_score  \\\n",
       "31                1.0                0.9                0.8   \n",
       "13                1.0                0.9                0.8   \n",
       "26                1.0                0.9                0.8   \n",
       "25                1.0                0.9                0.8   \n",
       "29                1.0                0.9                0.8   \n",
       "\n",
       "    split4_test_score  algorithm  n_neighbors  p  mean      sem  \\\n",
       "31                0.8      brute            9  2  0.84  0.05099   \n",
       "13                0.8  ball_tree            7  2  0.84  0.05099   \n",
       "26                0.8      brute            5  1  0.84  0.05099   \n",
       "25                0.8      brute            3  2  0.84  0.05099   \n",
       "29                0.8      brute            7  2  0.84  0.05099   \n",
       "\n",
       "                                          ci      sort  \n",
       "31  (0.6984284945373216, 0.9815715054626786)  0.349214  \n",
       "13  (0.6984284945373216, 0.9815715054626786)  0.349214  \n",
       "26  (0.6984284945373216, 0.9815715054626786)  0.349214  \n",
       "25  (0.6984284945373216, 0.9815715054626786)  0.349214  \n",
       "29  (0.6984284945373216, 0.9815715054626786)  0.349214  "
      ]
     },
     "execution_count": 9,
     "metadata": {},
     "output_type": "execute_result"
    }
   ],
   "source": [
    "knn.top_params(0.95, 5)"
   ]
  },
  {
   "cell_type": "code",
   "execution_count": 16,
   "metadata": {},
   "outputs": [
    {
     "data": {
      "image/png": "[encoded data removed]",
      "text/plain": [
       "<Figure size 936x432 with 1 Axes>"
      ]
     },
     "metadata": {},
     "output_type": "display_data"
    }
   ],
   "source": [
    "knn.boxplots(30)"
   ]
  },
  {
   "cell_type": "markdown",
   "metadata": {},
   "source": [
    "## Decision Tree"
   ]
  },
  {
   "cell_type": "code",
   "execution_count": 11,
   "metadata": {},
   "outputs": [
    {
     "name": "stdout",
     "output_type": "stream",
     "text": [
      "[INFO] The best parameters are {'criterion': 'gini', 'max_features': 'auto', 'splitter': 'best'}\n",
      "[INFO] The best score is 0.8200\n",
      "[INFO] The best parameters according to ci are {'criterion': 'gini', 'max_features': 'sqrt', 'splitter': 'random'}\n",
      "[INFO] Train acc  is : 1.0000\n"
     ]
    }
   ],
   "source": [
    "dt = ModelHandler(X = X_data_curated, Y = y_data_curated, model = 'DT', n_splits = 5)\n",
    "dt.fit(True,True)"
   ]
  },
  {
   "cell_type": "code",
   "execution_count": 12,
   "metadata": {},
   "outputs": [
    {
     "data": {
      "text/html": [
       "<div>\n",
       "<style scoped>\n",
       "    .dataframe tbody tr th:only-of-type {\n",
       "        vertical-align: middle;\n",
       "    }\n",
       "\n",
       "    .dataframe tbody tr th {\n",
       "        vertical-align: top;\n",
       "    }\n",
       "\n",
       "    .dataframe thead th {\n",
       "        text-align: right;\n",
       "    }\n",
       "</style>\n",
       "<table border=\"1\" class=\"dataframe\">\n",
       "  <thead>\n",
       "    <tr style=\"text-align: right;\">\n",
       "      <th></th>\n",
       "      <th>params</th>\n",
       "      <th>split0_test_score</th>\n",
       "      <th>split1_test_score</th>\n",
       "      <th>split2_test_score</th>\n",
       "      <th>split3_test_score</th>\n",
       "      <th>split4_test_score</th>\n",
       "      <th>criterion</th>\n",
       "      <th>max_features</th>\n",
       "      <th>splitter</th>\n",
       "      <th>mean</th>\n",
       "      <th>sem</th>\n",
       "      <th>ci</th>\n",
       "      <th>sort</th>\n",
       "    </tr>\n",
       "  </thead>\n",
       "  <tbody>\n",
       "    <tr>\n",
       "      <th>3</th>\n",
       "      <td>{'criterion': 'gini', 'max_features': 'sqrt', ...</td>\n",
       "      <td>0.8</td>\n",
       "      <td>0.9</td>\n",
       "      <td>0.8</td>\n",
       "      <td>0.7</td>\n",
       "      <td>0.8</td>\n",
       "      <td>gini</td>\n",
       "      <td>sqrt</td>\n",
       "      <td>random</td>\n",
       "      <td>0.80</td>\n",
       "      <td>0.031623</td>\n",
       "      <td>(0.7122010689270405, 0.8877989310729596)</td>\n",
       "      <td>0.356101</td>\n",
       "    </tr>\n",
       "    <tr>\n",
       "      <th>9</th>\n",
       "      <td>{'criterion': 'entropy', 'max_features': 'sqrt...</td>\n",
       "      <td>0.8</td>\n",
       "      <td>1.0</td>\n",
       "      <td>0.8</td>\n",
       "      <td>0.8</td>\n",
       "      <td>0.7</td>\n",
       "      <td>entropy</td>\n",
       "      <td>sqrt</td>\n",
       "      <td>random</td>\n",
       "      <td>0.82</td>\n",
       "      <td>0.048990</td>\n",
       "      <td>(0.6839824961038976, 0.9560175038961025)</td>\n",
       "      <td>0.341991</td>\n",
       "    </tr>\n",
       "    <tr>\n",
       "      <th>10</th>\n",
       "      <td>{'criterion': 'entropy', 'max_features': 'log2...</td>\n",
       "      <td>0.8</td>\n",
       "      <td>1.0</td>\n",
       "      <td>0.7</td>\n",
       "      <td>0.8</td>\n",
       "      <td>0.8</td>\n",
       "      <td>entropy</td>\n",
       "      <td>log2</td>\n",
       "      <td>best</td>\n",
       "      <td>0.82</td>\n",
       "      <td>0.048990</td>\n",
       "      <td>(0.6839824961038975, 0.9560175038961024)</td>\n",
       "      <td>0.341991</td>\n",
       "    </tr>\n",
       "    <tr>\n",
       "      <th>0</th>\n",
       "      <td>{'criterion': 'gini', 'max_features': 'auto', ...</td>\n",
       "      <td>0.9</td>\n",
       "      <td>0.9</td>\n",
       "      <td>0.9</td>\n",
       "      <td>0.6</td>\n",
       "      <td>0.8</td>\n",
       "      <td>gini</td>\n",
       "      <td>auto</td>\n",
       "      <td>best</td>\n",
       "      <td>0.82</td>\n",
       "      <td>0.058310</td>\n",
       "      <td>(0.6581067937646783, 0.9818932062353218)</td>\n",
       "      <td>0.329053</td>\n",
       "    </tr>\n",
       "    <tr>\n",
       "      <th>5</th>\n",
       "      <td>{'criterion': 'gini', 'max_features': 'log2', ...</td>\n",
       "      <td>0.8</td>\n",
       "      <td>1.0</td>\n",
       "      <td>0.9</td>\n",
       "      <td>0.6</td>\n",
       "      <td>0.8</td>\n",
       "      <td>gini</td>\n",
       "      <td>log2</td>\n",
       "      <td>random</td>\n",
       "      <td>0.82</td>\n",
       "      <td>0.066333</td>\n",
       "      <td>(0.6358314389363505, 1.0041685610636497)</td>\n",
       "      <td>0.317916</td>\n",
       "    </tr>\n",
       "  </tbody>\n",
       "</table>\n",
       "</div>"
      ],
      "text/plain": [
       "                                               params  split0_test_score  \\\n",
       "3   {'criterion': 'gini', 'max_features': 'sqrt', ...                0.8   \n",
       "9   {'criterion': 'entropy', 'max_features': 'sqrt...                0.8   \n",
       "10  {'criterion': 'entropy', 'max_features': 'log2...                0.8   \n",
       "0   {'criterion': 'gini', 'max_features': 'auto', ...                0.9   \n",
       "5   {'criterion': 'gini', 'max_features': 'log2', ...                0.8   \n",
       "\n",
       "    split1_test_score  split2_test_score  split3_test_score  \\\n",
       "3                 0.9                0.8                0.7   \n",
       "9                 1.0                0.8                0.8   \n",
       "10                1.0                0.7                0.8   \n",
       "0                 0.9                0.9                0.6   \n",
       "5                 1.0                0.9                0.6   \n",
       "\n",
       "    split4_test_score criterion max_features splitter  mean       sem  \\\n",
       "3                 0.8      gini         sqrt   random  0.80  0.031623   \n",
       "9                 0.7   entropy         sqrt   random  0.82  0.048990   \n",
       "10                0.8   entropy         log2     best  0.82  0.048990   \n",
       "0                 0.8      gini         auto     best  0.82  0.058310   \n",
       "5                 0.8      gini         log2   random  0.82  0.066333   \n",
       "\n",
       "                                          ci      sort  \n",
       "3   (0.7122010689270405, 0.8877989310729596)  0.356101  \n",
       "9   (0.6839824961038976, 0.9560175038961025)  0.341991  \n",
       "10  (0.6839824961038975, 0.9560175038961024)  0.341991  \n",
       "0   (0.6581067937646783, 0.9818932062353218)  0.329053  \n",
       "5   (0.6358314389363505, 1.0041685610636497)  0.317916  "
      ]
     },
     "execution_count": 12,
     "metadata": {},
     "output_type": "execute_result"
    }
   ],
   "source": [
    "dt.top_params(0.95, 5)"
   ]
  },
  {
   "cell_type": "code",
   "execution_count": 17,
   "metadata": {},
   "outputs": [
    {
     "data": {
      "image/png": "[encoded data removed]",
      "text/plain": [
       "<Figure size 936x432 with 1 Axes>"
      ]
     },
     "metadata": {},
     "output_type": "display_data"
    }
   ],
   "source": [
    "dt.boxplots(5)"
   ]
  }
 ],
 "metadata": {
  "interpreter": {
   "hash": "916dbcbb3f70747c44a77c7bcd40155683ae19c65e1c03b4aa3499c5328201f1"
  },
  "kernelspec": {
   "display_name": "Python 3.8.10 64-bit",
   "language": "python",
   "name": "python3"
  },
  "language_info": {
   "codemirror_mode": {
    "name": "ipython",
    "version": 3
   },
   "file_extension": ".py",
   "mimetype": "text/x-python",
   "name": "python",
   "nbconvert_exporter": "python",
   "pygments_lexer": "ipython3",
   "version": "3.8.10"
  },
  "orig_nbformat": 4
 },
 "nbformat": 4,
 "nbformat_minor": 2
}
