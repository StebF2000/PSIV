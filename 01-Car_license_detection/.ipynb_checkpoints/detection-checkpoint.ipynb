{
 "cells": [
  {
   "cell_type": "code",
   "execution_count": 1,
   "metadata": {},
   "outputs": [],
   "source": [
    "import numpy as np\n",
    "import os\n",
    "import matplotlib.pyplot as plt\n",
    "import cv2\n",
    "import imutils\n",
    "import matplotlib.gridspec as gridspec"
   ]
  },
  {
   "cell_type": "code",
   "execution_count": 2,
   "metadata": {},
   "outputs": [],
   "source": [
    "def show(crop_characters):\n",
    "    if len(crop_characters) != 0:\n",
    "        fig = plt.figure(figsize=(10,5), constrained_layout=True)\n",
    "        grid = gridspec.GridSpec(ncols=len(crop_characters),nrows=1,figure=fig)\n",
    "\n",
    "        for i in range(len(crop_characters)):\n",
    "            fig.add_subplot(grid[i])\n",
    "            plt.axis(False)\n",
    "            plt.imshow(crop_characters[i], cmap=\"gray\")"
   ]
  },
  {
   "cell_type": "markdown",
   "metadata": {},
   "source": [
    "# Loading dataset\n",
    "It returns a list of grayscale images that can be iterated. Grayscale will increase accuracy removing neglecting colours."
   ]
  },
  {
   "cell_type": "code",
   "execution_count": 3,
   "metadata": {},
   "outputs": [],
   "source": [
    "def get_data(path: str) -> list:\n",
    "    imgs = os.listdir(path)\n",
    "    return [f\"{path}/{img}\" for img in imgs]"
   ]
  },
  {
   "cell_type": "code",
   "execution_count": 4,
   "metadata": {},
   "outputs": [
    {
     "data": {
      "text/plain": [
       "['data/0182GLK.jpg',\n",
       " 'data/1062FNT.jpg',\n",
       " 'data/7982LCD.jpg',\n",
       " 'data/3040JMB.jpg',\n",
       " 'data/9247CZG.jpg',\n",
       " 'data/9296FJB.jpg',\n",
       " 'data/6554BNX.jpg',\n",
       " 'data/7093HWB.jpg',\n",
       " 'data/2732LRG.jpg',\n",
       " 'data/3991KHB.jpg']"
      ]
     },
     "execution_count": 4,
     "metadata": {},
     "output_type": "execute_result"
    }
   ],
   "source": [
    "small_data = get_data(\"data\")[:10]\n",
    "small_data"
   ]
  },
  {
   "cell_type": "markdown",
   "metadata": {},
   "source": [
    "# License plate area\n",
    "We will create a class for detecting the license plate location in the images"
   ]
  },
  {
   "cell_type": "code",
   "execution_count": 28,
   "metadata": {},
   "outputs": [],
   "source": [
    "def box_of_points(points):\n",
    "    x_max = max(points,key=lambda x: x[0])\n",
    "    x_min = min(points,key=lambda x: x[0])\n",
    "    y_max = max(points,key=lambda x: x[1])\n",
    "    y_min = min(points,key=lambda x: x[1])\n",
    "\n",
    "    return x_max[0], x_min[0], y_max[1], y_min[1]\n",
    "\n",
    "def sort_contours(cnts, reverse = False):\n",
    "    i = 0\n",
    "    bounding_boxes = [cv2.boundingRect(c) for c in cnts]\n",
    "    cnts, _ = zip(*sorted(zip(cnts, bounding_boxes),\n",
    "                                        key=lambda b: b[1][i], reverse=reverse))\n",
    "    return cnts\n",
    "\n",
    "def set_angle(angle: float):\n",
    "    if -45 < angle < 45:\n",
    "        rotation = angle\n",
    "    elif angle < -45:\n",
    "        rotation = 90+angle\n",
    "    else:\n",
    "        rotation = 90-angle\n",
    "\n",
    "    return rotation\n",
    "\n",
    "def closing(img, kernel_size = (5, 5), iterations=1):\n",
    "  kernel = cv2.getStructuringElement(cv2.MORPH_RECT, kernel_size)\n",
    "  return cv2.morphologyEx(img.copy(), cv2.MORPH_CLOSE, kernel,iterations=iterations)\n",
    "\n",
    "\n",
    "class PlateLocator(object):\n",
    "\n",
    "    __slots__ = ['size', 'kernel_size', 'sigma_color', 'sigma_space', 'keep_hulls', 'wh_ratio', 'digit_size']\n",
    "\n",
    "    def __init__(self, size:tuple = (620, 480), kernel_size:tuple = (5, 5), sigma_color: int = 200,\n",
    "                 sigma_space:int = 150, keep_hulls:int = 10, wh_ratio:tuple = (1.7, 3.1), digit_size: tuple = (30, 60)) -> None:\n",
    "\n",
    "        self.size = size\n",
    "        self.kernel_size = kernel_size\n",
    "        self.sigma_color = sigma_color\n",
    "        self.sigma_space = sigma_space\n",
    "        self.keep_hulls = keep_hulls\n",
    "        self.wh_ratio = wh_ratio\n",
    "        self.digit_size = digit_size\n",
    "\n",
    "    def process(self, image: str):\n",
    "        processed, original = self._preprocess(image)\n",
    "        hulls = self._hulls(processed)\n",
    "\n",
    "        plates = []\n",
    "        for candidate in hulls:\n",
    "            valid, plate = self._evaluate_candidate(candidate, original)\n",
    "            if valid:\n",
    "                cands, angle, ratio = plate\n",
    "                plates.append(cands)\n",
    "\n",
    "        return plates\n",
    "\n",
    "    def numbers(self, candidate: np.ndarray):\n",
    "        image_res = cv2.cvtColor(candidate, cv2.COLOR_BGR2GRAY)\n",
    "        image =  cv2.threshold(image_res, 110, 255, cv2.THRESH_BINARY_INV)[1]\n",
    "        image = closing(image, (1, 3), 1)\n",
    "        \n",
    "        output = cv2.connectedComponentsWithStats(image, 4, cv2.CV_32S)\n",
    "        \n",
    "        num_labels, _, stats, _ = output\n",
    "        \n",
    "        numbs = list()\n",
    "\n",
    "        for i in range(num_labels):\n",
    "            # extract the connected component statistics and centroid for\n",
    "            # the current label\n",
    "            x = stats[i, cv2.CC_STAT_LEFT]\n",
    "            y = stats[i, cv2.CC_STAT_TOP]\n",
    "            w = stats[i, cv2.CC_STAT_WIDTH]\n",
    "            h = stats[i, cv2.CC_STAT_HEIGHT]\n",
    "            area = stats[i, cv2.CC_STAT_AREA]\n",
    "\n",
    "            # clone our original image (so we can draw on it) and then draw\n",
    "            # a bounding box surrounding the connected component along with\n",
    "            # a circle corresponding to the centroid\n",
    "            if x > 1 and y > 1 and area > 15:\n",
    "                numb = image[y-1:y+h+1, x-1:x+w+1]\n",
    "                numb = cv2.resize(numb, self.digit_size, cv2.INTER_NEAREST)\n",
    "                numbs.append((numb, x))\n",
    "        \n",
    "        return [x[0] for x in sorted(numbs, key=lambda x: x[1])]\n",
    "\n",
    "\n",
    "    def _preprocess(self,filepath: str):\n",
    "        image = cv2.imread(filepath)\n",
    "        image = cv2.resize(image, self.size)\n",
    "        image2 = cv2.bilateralFilter(image.copy(), self.kernel_size[0], self.sigma_color ,self.sigma_space)\n",
    "        image_gray = cv2.cvtColor(image2, cv2.COLOR_BGR2GRAY)\n",
    "        return cv2.dilate(cv2.Canny(image_gray, 0, 255), np.ones((3, 2), np.uint8)), cv2.cvtColor(image, cv2.COLOR_BGR2RGB)\n",
    "\n",
    "    def _hulls(self, image: np.ndarray = None):\n",
    "        contours = cv2.findContours(image, cv2.RETR_TREE, cv2.CHAIN_APPROX_SIMPLE)\n",
    "        contours = imutils.grab_contours(contours)\n",
    "        contours = sorted(contours, key=cv2.contourArea, reverse=True)[:self.keep_hulls]\n",
    "\n",
    "        return [cv2.convexHull(contour) for contour in contours]\n",
    "\n",
    "    def _evaluate_candidate(self, candidate, image: np.ndarray):\n",
    "        rect = cv2.minAreaRect(candidate)\n",
    "        box = np.int0(cv2.boxPoints(rect))\n",
    "        points = box_of_points(box)\n",
    "\n",
    "        if all([x > 0 for x in [point for point in points]]):\n",
    "            x_0, x_1, y_0, y_1 = points\n",
    "            w,h = y_0-y_1 , x_0-x_1\n",
    "            if self.wh_ratio[0] < h / w < self.wh_ratio[1]:\n",
    "                plate = image[y_1:y_0, x_1:x_0]\n",
    "                return True, (plate, rect[2],rect[1]) # plate , angle, w/h\n",
    "\n",
    "        return False, None"
   ]
  }
 ],
 "metadata": {
  "interpreter": {
   "hash": "fd0eef97ed430813ba3315e3256825a697685bbcd450b873f588a8f58f91a1cd"
  },
  "kernelspec": {
   "display_name": "PSIV",
   "language": "python",
   "name": "psiv"
  },
  "language_info": {
   "codemirror_mode": {
    "name": "ipython",
    "version": 3
   },
   "file_extension": ".py",
   "mimetype": "text/x-python",
   "name": "python",
   "nbconvert_exporter": "python",
   "pygments_lexer": "ipython3",
   "version": "3.7.10"
  }
 },
 "nbformat": 4,
 "nbformat_minor": 4
}
