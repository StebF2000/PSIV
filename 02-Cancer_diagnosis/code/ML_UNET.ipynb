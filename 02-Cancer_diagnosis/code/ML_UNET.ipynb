{
 "cells": [
  {
   "cell_type": "code",
   "execution_count": 7,
   "metadata": {},
   "outputs": [
    {
     "data": {
      "text/plain": [
       "<All keys matched successfully>"
      ]
     },
     "execution_count": 7,
     "metadata": {},
     "output_type": "execute_result"
    }
   ],
   "source": [
    "from model import ModelHandler\n",
    "from DataLoader import DiagnosisEnd2End\n",
    "import numpy as np\n",
    "import tqdm\n",
    "import torch\n",
    "from Unet2 import UNET\n",
    "\n",
    "model = UNET(1, 1)\n",
    "model.load_state_dict(torch.load(\"unet_segment.pth\"))"
   ]
  },
  {
   "cell_type": "markdown",
   "metadata": {},
   "source": [
    "## End2End Data"
   ]
  },
  {
   "cell_type": "code",
   "execution_count": 8,
   "metadata": {},
   "outputs": [],
   "source": [
    "path_segmentation = \"../data/Diagnosis/\"\n",
    "nodules_path = \"../data/Diagnosis/Radiolung_NoduleDiagnosis.csv\""
   ]
  },
  {
   "cell_type": "code",
   "execution_count": 9,
   "metadata": {},
   "outputs": [
    {
     "name": "stderr",
     "output_type": "stream",
     "text": [
      " 81%|████████  | 42/52 [02:04<00:29,  2.96s/it]\n"
     ]
    }
   ],
   "source": [
    "diagonis = DiagnosisEnd2End(path_segmentation, nodules_path)\n",
    "\n",
    "X_data_curated = np.zeros((47, 14, 64, 64))\n",
    "y_data_curated = np.zeros(47)\n",
    "i = 0\n",
    "\n",
    "for data in tqdm.tqdm(diagonis):\n",
    "    m = data['ROI'].shape[0]//2   \n",
    "    X_data_curated[i] = model(torch.from_numpy(data[\"ROI\"][m-7:m+7, :, :]).reshape((14, 1, 64, 64)).float()).detach().numpy().reshape((14, 64, 64))\n",
    "    y_data_curated[i] = data['GT']\n",
    "    i+=1\n"
   ]
  },
  {
   "cell_type": "markdown",
   "metadata": {},
   "source": [
    "## SVM"
   ]
  },
  {
   "cell_type": "code",
   "execution_count": 10,
   "metadata": {},
   "outputs": [
    {
     "name": "stdout",
     "output_type": "stream",
     "text": [
      "[INFO] The best parameters are {'C': 0.01, 'kernel': 'poly'}\n",
      "[INFO] The best score is 0.8000\n",
      "[INFO] The best parameters according to ci are {'C': 10000000.0, 'kernel': 'poly'}\n",
      "[INFO] Train acc  is : 1.0000\n"
     ]
    }
   ],
   "source": [
    "svm = ModelHandler(X = X_data_curated, Y = y_data_curated, model = 'SVM', n_splits = 5)\n",
    "svm.fit(True,True)"
   ]
  },
  {
   "cell_type": "code",
   "execution_count": 11,
   "metadata": {},
   "outputs": [
    {
     "data": {
      "text/html": [
       "<div>\n",
       "<style scoped>\n",
       "    .dataframe tbody tr th:only-of-type {\n",
       "        vertical-align: middle;\n",
       "    }\n",
       "\n",
       "    .dataframe tbody tr th {\n",
       "        vertical-align: top;\n",
       "    }\n",
       "\n",
       "    .dataframe thead th {\n",
       "        text-align: right;\n",
       "    }\n",
       "</style>\n",
       "<table border=\"1\" class=\"dataframe\">\n",
       "  <thead>\n",
       "    <tr style=\"text-align: right;\">\n",
       "      <th></th>\n",
       "      <th>params</th>\n",
       "      <th>split0_test_score</th>\n",
       "      <th>split1_test_score</th>\n",
       "      <th>split2_test_score</th>\n",
       "      <th>split3_test_score</th>\n",
       "      <th>split4_test_score</th>\n",
       "      <th>C</th>\n",
       "      <th>kernel</th>\n",
       "      <th>mean</th>\n",
       "      <th>sem</th>\n",
       "      <th>ci</th>\n",
       "      <th>sort</th>\n",
       "    </tr>\n",
       "  </thead>\n",
       "  <tbody>\n",
       "    <tr>\n",
       "      <th>13</th>\n",
       "      <td>{'C': 10000000.0, 'kernel': 'poly'}</td>\n",
       "      <td>0.8</td>\n",
       "      <td>0.8</td>\n",
       "      <td>0.9</td>\n",
       "      <td>0.8</td>\n",
       "      <td>0.7</td>\n",
       "      <td>1.000000e+07</td>\n",
       "      <td>poly</td>\n",
       "      <td>0.8</td>\n",
       "      <td>0.031623</td>\n",
       "      <td>(0.7122010689270405, 0.8877989310729596)</td>\n",
       "      <td>0.356101</td>\n",
       "    </tr>\n",
       "    <tr>\n",
       "      <th>5</th>\n",
       "      <td>{'C': 10.0, 'kernel': 'poly'}</td>\n",
       "      <td>0.8</td>\n",
       "      <td>0.8</td>\n",
       "      <td>0.9</td>\n",
       "      <td>0.8</td>\n",
       "      <td>0.7</td>\n",
       "      <td>1.000000e+01</td>\n",
       "      <td>poly</td>\n",
       "      <td>0.8</td>\n",
       "      <td>0.031623</td>\n",
       "      <td>(0.7122010689270405, 0.8877989310729596)</td>\n",
       "      <td>0.356101</td>\n",
       "    </tr>\n",
       "    <tr>\n",
       "      <th>17</th>\n",
       "      <td>{'C': 10000000000.0, 'kernel': 'poly'}</td>\n",
       "      <td>0.8</td>\n",
       "      <td>0.8</td>\n",
       "      <td>0.9</td>\n",
       "      <td>0.8</td>\n",
       "      <td>0.7</td>\n",
       "      <td>1.000000e+10</td>\n",
       "      <td>poly</td>\n",
       "      <td>0.8</td>\n",
       "      <td>0.031623</td>\n",
       "      <td>(0.7122010689270405, 0.8877989310729596)</td>\n",
       "      <td>0.356101</td>\n",
       "    </tr>\n",
       "    <tr>\n",
       "      <th>9</th>\n",
       "      <td>{'C': 10000.0, 'kernel': 'poly'}</td>\n",
       "      <td>0.8</td>\n",
       "      <td>0.8</td>\n",
       "      <td>0.9</td>\n",
       "      <td>0.8</td>\n",
       "      <td>0.7</td>\n",
       "      <td>1.000000e+04</td>\n",
       "      <td>poly</td>\n",
       "      <td>0.8</td>\n",
       "      <td>0.031623</td>\n",
       "      <td>(0.7122010689270405, 0.8877989310729596)</td>\n",
       "      <td>0.356101</td>\n",
       "    </tr>\n",
       "    <tr>\n",
       "      <th>1</th>\n",
       "      <td>{'C': 0.01, 'kernel': 'poly'}</td>\n",
       "      <td>0.8</td>\n",
       "      <td>0.8</td>\n",
       "      <td>0.9</td>\n",
       "      <td>0.8</td>\n",
       "      <td>0.7</td>\n",
       "      <td>1.000000e-02</td>\n",
       "      <td>poly</td>\n",
       "      <td>0.8</td>\n",
       "      <td>0.031623</td>\n",
       "      <td>(0.7122010689270405, 0.8877989310729596)</td>\n",
       "      <td>0.356101</td>\n",
       "    </tr>\n",
       "  </tbody>\n",
       "</table>\n",
       "</div>"
      ],
      "text/plain": [
       "                                    params  split0_test_score  \\\n",
       "13     {'C': 10000000.0, 'kernel': 'poly'}                0.8   \n",
       "5            {'C': 10.0, 'kernel': 'poly'}                0.8   \n",
       "17  {'C': 10000000000.0, 'kernel': 'poly'}                0.8   \n",
       "9         {'C': 10000.0, 'kernel': 'poly'}                0.8   \n",
       "1            {'C': 0.01, 'kernel': 'poly'}                0.8   \n",
       "\n",
       "    split1_test_score  split2_test_score  split3_test_score  \\\n",
       "13                0.8                0.9                0.8   \n",
       "5                 0.8                0.9                0.8   \n",
       "17                0.8                0.9                0.8   \n",
       "9                 0.8                0.9                0.8   \n",
       "1                 0.8                0.9                0.8   \n",
       "\n",
       "    split4_test_score             C kernel  mean       sem  \\\n",
       "13                0.7  1.000000e+07   poly   0.8  0.031623   \n",
       "5                 0.7  1.000000e+01   poly   0.8  0.031623   \n",
       "17                0.7  1.000000e+10   poly   0.8  0.031623   \n",
       "9                 0.7  1.000000e+04   poly   0.8  0.031623   \n",
       "1                 0.7  1.000000e-02   poly   0.8  0.031623   \n",
       "\n",
       "                                          ci      sort  \n",
       "13  (0.7122010689270405, 0.8877989310729596)  0.356101  \n",
       "5   (0.7122010689270405, 0.8877989310729596)  0.356101  \n",
       "17  (0.7122010689270405, 0.8877989310729596)  0.356101  \n",
       "9   (0.7122010689270405, 0.8877989310729596)  0.356101  \n",
       "1   (0.7122010689270405, 0.8877989310729596)  0.356101  "
      ]
     },
     "execution_count": 11,
     "metadata": {},
     "output_type": "execute_result"
    }
   ],
   "source": [
    "svm.top_params(0.95, 5)"
   ]
  },
  {
   "cell_type": "code",
   "execution_count": 12,
   "metadata": {},
   "outputs": [
    {
     "name": "stderr",
     "output_type": "stream",
     "text": [
      "findfont: Font family ['Gill Sans'] not found. Falling back to DejaVu Sans.\n",
      "findfont: Font family ['Gill Sans'] not found. Falling back to DejaVu Sans.\n"
     ]
    },
    {
     "data": {
      "image/png": "[encoded data removed]",
      "text/plain": [
       "<Figure size 936x432 with 1 Axes>"
      ]
     },
     "metadata": {},
     "output_type": "display_data"
    }
   ],
   "source": [
    "svm.boxplots(20)"
   ]
  },
  {
   "cell_type": "markdown",
   "metadata": {},
   "source": [
    "## KNN"
   ]
  },
  {
   "cell_type": "code",
   "execution_count": 13,
   "metadata": {},
   "outputs": [
    {
     "name": "stdout",
     "output_type": "stream",
     "text": [
      "[INFO] The best parameters are {'algorithm': 'auto', 'n_neighbors': 5, 'p': 1}\n",
      "[INFO] The best score is 0.8000\n",
      "[INFO] The best parameters according to ci are {'algorithm': 'auto', 'n_neighbors': 5, 'p': 1}\n",
      "[INFO] Train acc  is : 0.8298\n"
     ]
    }
   ],
   "source": [
    "knn = ModelHandler(X = X_data_curated, Y = y_data_curated, model = 'KNN', n_splits = 5)\n",
    "knn.fit(True,True)"
   ]
  },
  {
   "cell_type": "code",
   "execution_count": 14,
   "metadata": {},
   "outputs": [
    {
     "data": {
      "text/html": [
       "<div>\n",
       "<style scoped>\n",
       "    .dataframe tbody tr th:only-of-type {\n",
       "        vertical-align: middle;\n",
       "    }\n",
       "\n",
       "    .dataframe tbody tr th {\n",
       "        vertical-align: top;\n",
       "    }\n",
       "\n",
       "    .dataframe thead th {\n",
       "        text-align: right;\n",
       "    }\n",
       "</style>\n",
       "<table border=\"1\" class=\"dataframe\">\n",
       "  <thead>\n",
       "    <tr style=\"text-align: right;\">\n",
       "      <th></th>\n",
       "      <th>params</th>\n",
       "      <th>split0_test_score</th>\n",
       "      <th>split1_test_score</th>\n",
       "      <th>split2_test_score</th>\n",
       "      <th>split3_test_score</th>\n",
       "      <th>split4_test_score</th>\n",
       "      <th>algorithm</th>\n",
       "      <th>n_neighbors</th>\n",
       "      <th>p</th>\n",
       "      <th>mean</th>\n",
       "      <th>sem</th>\n",
       "      <th>ci</th>\n",
       "      <th>sort</th>\n",
       "    </tr>\n",
       "  </thead>\n",
       "  <tbody>\n",
       "    <tr>\n",
       "      <th>2</th>\n",
       "      <td>{'algorithm': 'auto', 'n_neighbors': 5, 'p': 1}</td>\n",
       "      <td>0.8</td>\n",
       "      <td>0.8</td>\n",
       "      <td>0.9</td>\n",
       "      <td>0.8</td>\n",
       "      <td>0.7</td>\n",
       "      <td>auto</td>\n",
       "      <td>5</td>\n",
       "      <td>1</td>\n",
       "      <td>0.8</td>\n",
       "      <td>3.162279e-02</td>\n",
       "      <td>(0.7122010689270405, 0.8877989310729596)</td>\n",
       "      <td>0.356101</td>\n",
       "    </tr>\n",
       "    <tr>\n",
       "      <th>26</th>\n",
       "      <td>{'algorithm': 'brute', 'n_neighbors': 5, 'p': 1}</td>\n",
       "      <td>0.8</td>\n",
       "      <td>0.8</td>\n",
       "      <td>0.9</td>\n",
       "      <td>0.8</td>\n",
       "      <td>0.7</td>\n",
       "      <td>brute</td>\n",
       "      <td>5</td>\n",
       "      <td>1</td>\n",
       "      <td>0.8</td>\n",
       "      <td>3.162279e-02</td>\n",
       "      <td>(0.7122010689270405, 0.8877989310729596)</td>\n",
       "      <td>0.356101</td>\n",
       "    </tr>\n",
       "    <tr>\n",
       "      <th>10</th>\n",
       "      <td>{'algorithm': 'ball_tree', 'n_neighbors': 5, '...</td>\n",
       "      <td>0.8</td>\n",
       "      <td>0.8</td>\n",
       "      <td>0.9</td>\n",
       "      <td>0.8</td>\n",
       "      <td>0.7</td>\n",
       "      <td>ball_tree</td>\n",
       "      <td>5</td>\n",
       "      <td>1</td>\n",
       "      <td>0.8</td>\n",
       "      <td>3.162279e-02</td>\n",
       "      <td>(0.7122010689270405, 0.8877989310729596)</td>\n",
       "      <td>0.356101</td>\n",
       "    </tr>\n",
       "    <tr>\n",
       "      <th>18</th>\n",
       "      <td>{'algorithm': 'kd_tree', 'n_neighbors': 5, 'p'...</td>\n",
       "      <td>0.8</td>\n",
       "      <td>0.8</td>\n",
       "      <td>0.9</td>\n",
       "      <td>0.8</td>\n",
       "      <td>0.7</td>\n",
       "      <td>kd_tree</td>\n",
       "      <td>5</td>\n",
       "      <td>1</td>\n",
       "      <td>0.8</td>\n",
       "      <td>3.162279e-02</td>\n",
       "      <td>(0.7122010689270405, 0.8877989310729596)</td>\n",
       "      <td>0.356101</td>\n",
       "    </tr>\n",
       "    <tr>\n",
       "      <th>31</th>\n",
       "      <td>{'algorithm': 'brute', 'n_neighbors': 9, 'p': 2}</td>\n",
       "      <td>0.7</td>\n",
       "      <td>0.7</td>\n",
       "      <td>0.7</td>\n",
       "      <td>0.7</td>\n",
       "      <td>0.7</td>\n",
       "      <td>brute</td>\n",
       "      <td>9</td>\n",
       "      <td>2</td>\n",
       "      <td>0.7</td>\n",
       "      <td>1.000000e-08</td>\n",
       "      <td>(0.6999999722355489, 0.700000027764451)</td>\n",
       "      <td>0.350000</td>\n",
       "    </tr>\n",
       "  </tbody>\n",
       "</table>\n",
       "</div>"
      ],
      "text/plain": [
       "                                               params  split0_test_score  \\\n",
       "2     {'algorithm': 'auto', 'n_neighbors': 5, 'p': 1}                0.8   \n",
       "26   {'algorithm': 'brute', 'n_neighbors': 5, 'p': 1}                0.8   \n",
       "10  {'algorithm': 'ball_tree', 'n_neighbors': 5, '...                0.8   \n",
       "18  {'algorithm': 'kd_tree', 'n_neighbors': 5, 'p'...                0.8   \n",
       "31   {'algorithm': 'brute', 'n_neighbors': 9, 'p': 2}                0.7   \n",
       "\n",
       "    split1_test_score  split2_test_score  split3_test_score  \\\n",
       "2                 0.8                0.9                0.8   \n",
       "26                0.8                0.9                0.8   \n",
       "10                0.8                0.9                0.8   \n",
       "18                0.8                0.9                0.8   \n",
       "31                0.7                0.7                0.7   \n",
       "\n",
       "    split4_test_score  algorithm  n_neighbors  p  mean           sem  \\\n",
       "2                 0.7       auto            5  1   0.8  3.162279e-02   \n",
       "26                0.7      brute            5  1   0.8  3.162279e-02   \n",
       "10                0.7  ball_tree            5  1   0.8  3.162279e-02   \n",
       "18                0.7    kd_tree            5  1   0.8  3.162279e-02   \n",
       "31                0.7      brute            9  2   0.7  1.000000e-08   \n",
       "\n",
       "                                          ci      sort  \n",
       "2   (0.7122010689270405, 0.8877989310729596)  0.356101  \n",
       "26  (0.7122010689270405, 0.8877989310729596)  0.356101  \n",
       "10  (0.7122010689270405, 0.8877989310729596)  0.356101  \n",
       "18  (0.7122010689270405, 0.8877989310729596)  0.356101  \n",
       "31   (0.6999999722355489, 0.700000027764451)  0.350000  "
      ]
     },
     "execution_count": 14,
     "metadata": {},
     "output_type": "execute_result"
    }
   ],
   "source": [
    "knn.top_params(0.95, 5)"
   ]
  },
  {
   "cell_type": "code",
   "execution_count": 15,
   "metadata": {},
   "outputs": [
    {
     "data": {
      "image/png": "[encoded data removed]",
      "text/plain": [
       "<Figure size 936x432 with 1 Axes>"
      ]
     },
     "metadata": {},
     "output_type": "display_data"
    }
   ],
   "source": [
    "knn.boxplots(30)"
   ]
  },
  {
   "cell_type": "markdown",
   "metadata": {},
   "source": [
    "## Decision Tree"
   ]
  },
  {
   "cell_type": "code",
   "execution_count": 16,
   "metadata": {},
   "outputs": [
    {
     "name": "stdout",
     "output_type": "stream",
     "text": [
      "[INFO] The best parameters are {'criterion': 'gini', 'max_features': 'sqrt', 'splitter': 'random'}\n",
      "[INFO] The best score is 0.7800\n",
      "[INFO] The best parameters according to ci are {'criterion': 'gini', 'max_features': 'sqrt', 'splitter': 'random'}\n",
      "[INFO] Train acc  is : 1.0000\n"
     ]
    }
   ],
   "source": [
    "dt = ModelHandler(X = X_data_curated, Y = y_data_curated, model = 'DT', n_splits = 5)\n",
    "dt.fit(True,True)"
   ]
  },
  {
   "cell_type": "code",
   "execution_count": 17,
   "metadata": {},
   "outputs": [
    {
     "data": {
      "text/html": [
       "<div>\n",
       "<style scoped>\n",
       "    .dataframe tbody tr th:only-of-type {\n",
       "        vertical-align: middle;\n",
       "    }\n",
       "\n",
       "    .dataframe tbody tr th {\n",
       "        vertical-align: top;\n",
       "    }\n",
       "\n",
       "    .dataframe thead th {\n",
       "        text-align: right;\n",
       "    }\n",
       "</style>\n",
       "<table border=\"1\" class=\"dataframe\">\n",
       "  <thead>\n",
       "    <tr style=\"text-align: right;\">\n",
       "      <th></th>\n",
       "      <th>params</th>\n",
       "      <th>split0_test_score</th>\n",
       "      <th>split1_test_score</th>\n",
       "      <th>split2_test_score</th>\n",
       "      <th>split3_test_score</th>\n",
       "      <th>split4_test_score</th>\n",
       "      <th>criterion</th>\n",
       "      <th>max_features</th>\n",
       "      <th>splitter</th>\n",
       "      <th>mean</th>\n",
       "      <th>sem</th>\n",
       "      <th>ci</th>\n",
       "      <th>sort</th>\n",
       "    </tr>\n",
       "  </thead>\n",
       "  <tbody>\n",
       "    <tr>\n",
       "      <th>3</th>\n",
       "      <td>{'criterion': 'gini', 'max_features': 'sqrt', ...</td>\n",
       "      <td>0.8</td>\n",
       "      <td>0.9</td>\n",
       "      <td>0.7</td>\n",
       "      <td>0.8</td>\n",
       "      <td>0.7</td>\n",
       "      <td>gini</td>\n",
       "      <td>sqrt</td>\n",
       "      <td>random</td>\n",
       "      <td>0.78</td>\n",
       "      <td>0.037417</td>\n",
       "      <td>(0.6761149088671919, 0.8838850911328081)</td>\n",
       "      <td>0.338057</td>\n",
       "    </tr>\n",
       "    <tr>\n",
       "      <th>5</th>\n",
       "      <td>{'criterion': 'gini', 'max_features': 'log2', ...</td>\n",
       "      <td>0.8</td>\n",
       "      <td>0.7</td>\n",
       "      <td>0.7</td>\n",
       "      <td>0.8</td>\n",
       "      <td>0.7</td>\n",
       "      <td>gini</td>\n",
       "      <td>log2</td>\n",
       "      <td>random</td>\n",
       "      <td>0.74</td>\n",
       "      <td>0.024495</td>\n",
       "      <td>(0.6719912341697232, 0.8080087658302768)</td>\n",
       "      <td>0.335996</td>\n",
       "    </tr>\n",
       "    <tr>\n",
       "      <th>10</th>\n",
       "      <td>{'criterion': 'entropy', 'max_features': 'log2...</td>\n",
       "      <td>0.7</td>\n",
       "      <td>0.9</td>\n",
       "      <td>0.6</td>\n",
       "      <td>1.0</td>\n",
       "      <td>0.7</td>\n",
       "      <td>entropy</td>\n",
       "      <td>log2</td>\n",
       "      <td>best</td>\n",
       "      <td>0.78</td>\n",
       "      <td>0.073485</td>\n",
       "      <td>(0.5759737580380718, 0.9840262419619282)</td>\n",
       "      <td>0.287987</td>\n",
       "    </tr>\n",
       "    <tr>\n",
       "      <th>2</th>\n",
       "      <td>{'criterion': 'gini', 'max_features': 'sqrt', ...</td>\n",
       "      <td>0.8</td>\n",
       "      <td>0.5</td>\n",
       "      <td>0.8</td>\n",
       "      <td>0.7</td>\n",
       "      <td>0.7</td>\n",
       "      <td>gini</td>\n",
       "      <td>sqrt</td>\n",
       "      <td>best</td>\n",
       "      <td>0.70</td>\n",
       "      <td>0.054772</td>\n",
       "      <td>(0.5479278108563851, 0.8520721891436148)</td>\n",
       "      <td>0.273964</td>\n",
       "    </tr>\n",
       "    <tr>\n",
       "      <th>1</th>\n",
       "      <td>{'criterion': 'gini', 'max_features': 'auto', ...</td>\n",
       "      <td>0.6</td>\n",
       "      <td>0.5</td>\n",
       "      <td>0.6</td>\n",
       "      <td>0.6</td>\n",
       "      <td>0.6</td>\n",
       "      <td>gini</td>\n",
       "      <td>auto</td>\n",
       "      <td>random</td>\n",
       "      <td>0.58</td>\n",
       "      <td>0.020000</td>\n",
       "      <td>(0.5244710701315931, 0.635528929868407)</td>\n",
       "      <td>0.262236</td>\n",
       "    </tr>\n",
       "  </tbody>\n",
       "</table>\n",
       "</div>"
      ],
      "text/plain": [
       "                                               params  split0_test_score  \\\n",
       "3   {'criterion': 'gini', 'max_features': 'sqrt', ...                0.8   \n",
       "5   {'criterion': 'gini', 'max_features': 'log2', ...                0.8   \n",
       "10  {'criterion': 'entropy', 'max_features': 'log2...                0.7   \n",
       "2   {'criterion': 'gini', 'max_features': 'sqrt', ...                0.8   \n",
       "1   {'criterion': 'gini', 'max_features': 'auto', ...                0.6   \n",
       "\n",
       "    split1_test_score  split2_test_score  split3_test_score  \\\n",
       "3                 0.9                0.7                0.8   \n",
       "5                 0.7                0.7                0.8   \n",
       "10                0.9                0.6                1.0   \n",
       "2                 0.5                0.8                0.7   \n",
       "1                 0.5                0.6                0.6   \n",
       "\n",
       "    split4_test_score criterion max_features splitter  mean       sem  \\\n",
       "3                 0.7      gini         sqrt   random  0.78  0.037417   \n",
       "5                 0.7      gini         log2   random  0.74  0.024495   \n",
       "10                0.7   entropy         log2     best  0.78  0.073485   \n",
       "2                 0.7      gini         sqrt     best  0.70  0.054772   \n",
       "1                 0.6      gini         auto   random  0.58  0.020000   \n",
       "\n",
       "                                          ci      sort  \n",
       "3   (0.6761149088671919, 0.8838850911328081)  0.338057  \n",
       "5   (0.6719912341697232, 0.8080087658302768)  0.335996  \n",
       "10  (0.5759737580380718, 0.9840262419619282)  0.287987  \n",
       "2   (0.5479278108563851, 0.8520721891436148)  0.273964  \n",
       "1    (0.5244710701315931, 0.635528929868407)  0.262236  "
      ]
     },
     "execution_count": 17,
     "metadata": {},
     "output_type": "execute_result"
    }
   ],
   "source": [
    "dt.top_params(0.95, 5)"
   ]
  },
  {
   "cell_type": "code",
   "execution_count": 18,
   "metadata": {},
   "outputs": [
    {
     "data": {
      "image/png": "[encoded data removed]",
      "text/plain": [
       "<Figure size 936x432 with 1 Axes>"
      ]
     },
     "metadata": {},
     "output_type": "display_data"
    }
   ],
   "source": [
    "dt.boxplots(5)"
   ]
  },
  {
   "cell_type": "code",
   "execution_count": 19,
   "metadata": {},
   "outputs": [],
   "source": [
    "from results_analysis import results_analysis"
   ]
  },
  {
   "cell_type": "code",
   "execution_count": 20,
   "metadata": {},
   "outputs": [
    {
     "data": {
      "text/plain": [
       "(   accuracy  f1score  precision  recall\n",
       " 0       1.0      1.0        1.0     1.0,\n",
       "    tn  fp  fn  tp\n",
       " 0  13   0   0  34)"
      ]
     },
     "execution_count": 20,
     "metadata": {},
     "output_type": "execute_result"
    }
   ],
   "source": [
    "results_analysis(y_data_curated, dt.predict(X_data_curated))\n"
   ]
  },
  {
   "cell_type": "code",
   "execution_count": 21,
   "metadata": {},
   "outputs": [
    {
     "data": {
      "text/plain": [
       "(   accuracy   f1score  precision  recall\n",
       " 0  0.829787  0.894737   0.809524     1.0,\n",
       "    tn  fp  fn  tp\n",
       " 0   5   8   0  34)"
      ]
     },
     "execution_count": 21,
     "metadata": {},
     "output_type": "execute_result"
    }
   ],
   "source": [
    "results_analysis(y_data_curated, knn.predict(X_data_curated))\n"
   ]
  },
  {
   "cell_type": "code",
   "execution_count": 22,
   "metadata": {},
   "outputs": [
    {
     "data": {
      "text/plain": [
       "(   accuracy  f1score  precision  recall\n",
       " 0       1.0      1.0        1.0     1.0,\n",
       "    tn  fp  fn  tp\n",
       " 0  13   0   0  34)"
      ]
     },
     "execution_count": 22,
     "metadata": {},
     "output_type": "execute_result"
    }
   ],
   "source": [
    "results_analysis(y_data_curated, svm.predict(X_data_curated))\n"
   ]
  }
 ],
 "metadata": {
  "interpreter": {
   "hash": "916dbcbb3f70747c44a77c7bcd40155683ae19c65e1c03b4aa3499c5328201f1"
  },
  "kernelspec": {
   "display_name": "Python 3.8.10 64-bit",
   "language": "python",
   "name": "python3"
  },
  "language_info": {
   "codemirror_mode": {
    "name": "ipython",
    "version": 3
   },
   "file_extension": ".py",
   "mimetype": "text/x-python",
   "name": "python",
   "nbconvert_exporter": "python",
   "pygments_lexer": "ipython3",
   "version": "3.9.7"
  },
  "orig_nbformat": 4
 },
 "nbformat": 4,
 "nbformat_minor": 2
}
