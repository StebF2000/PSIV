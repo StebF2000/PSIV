{
 "cells": [
  {
   "cell_type": "markdown",
   "metadata": {},
   "source": [
    "# Models for plate characters recognition"
   ]
  },
  {
   "cell_type": "code",
   "execution_count": 27,
   "metadata": {},
   "outputs": [],
   "source": [
    "from sklearn import svm\n",
    "import numpy as np\n",
    "import sklearn\n",
    "from sklearn.pipeline import make_pipeline\n",
    "from sklearn.preprocessing import StandardScaler\n",
    "from sklearn.model_selection import GridSearchCV, StratifiedShuffleSplit\n",
    "from sklearn import neighbors\n",
    "from sklearn import tree\n",
    "#from xgboost import XGBClassifier"
   ]
  },
  {
   "cell_type": "markdown",
   "metadata": {},
   "source": [
    "## General utils"
   ]
  },
  {
   "cell_type": "code",
   "execution_count": 9,
   "metadata": {},
   "outputs": [],
   "source": [
    "class GeneralModelUtils:\n",
    "    def func_overX(X):\n",
    "        Y = []\n",
    "        for element in X:\n",
    "            Y.append( sum(element.flatten())  > element.flatten().shape[0] //2)\n",
    "        return np.asarray(Y)\n",
    "\n",
    "    def testing():\n",
    "\n",
    "        ##### SVM Testing #####\n",
    "        X = np.random.rand(200 , 60,30)\n",
    "        Y = func_overX(X)\n",
    "\n",
    "        ### GridSearch ###\n",
    "        model = SVMCHandler(X,Y)\n",
    "        model.fit(with_score=True, with_grid=True)\n",
    "\n",
    "\n",
    "    def _ensure_dimensionalit( arr):\n",
    "            return arr if len(arr[0].shape) == 1 else [x.flatten() for x in arr]\n",
    "\n",
    "    def _acc(y_pred, y_target):\n",
    "\n",
    "        if type(y_pred) == np.array and type(y_target) == np.array :\n",
    "            assert(y_pred.shape == y_target.shape)\n",
    "            mask = y_pred == y_target\n",
    "\n",
    "        else: \n",
    "            assert(len(y_pred) == len(y_target))\n",
    "            mask = [x==y for x,y in zip(y_pred, y_target)]\n",
    "        return sum(mask)/len(mask)\n",
    "\n",
    "    #Scaler = StandardScaler()\n",
    "\n",
    "    def do_scaling(X):\n",
    "        Scaler = StandardScaler()\n",
    "        return Scaler.fit_transform(X)\n",
    "\n",
    "    def _gen_gridSearch(model,hyperparams):\n",
    "        cv = StratifiedShuffleSplit(n_splits=5, test_size=0.2, random_state= 42)\n",
    "        grid = GridSearchCV(model , param_grid= hyperparams, cv=cv, n_jobs=10, verbose=3, scoring='roc_auc')\n",
    "        return grid \n"
   ]
  },
  {
   "cell_type": "markdown",
   "metadata": {},
   "source": [
    "# Models"
   ]
  },
  {
   "cell_type": "markdown",
   "metadata": {},
   "source": [
    "## SVM"
   ]
  },
  {
   "cell_type": "code",
   "execution_count": 10,
   "metadata": {},
   "outputs": [],
   "source": [
    "class SVMCHandler(GeneralModelUtils):\n",
    "\n",
    "    def __init__(self, X, Y, **kwargs):\n",
    "        hyperparams = {\n",
    "            'kernel':['linear', 'poly', 'rbf', 'sigmoid'],\n",
    "            'C': np.logspace(-2, 10 , 5),\n",
    "            'gamma': np.logspace(-9,3,5),\n",
    "        }\n",
    "        self.model = svm.SVC(**kwargs)\n",
    "        self.X = do_scaling(_ensure_dimensionalit(X))\n",
    "        self.Y = Y\n",
    "        assert(len(Y.shape) ==1 )\n",
    "        self.grid = _gen_gridSearch(self.model, hyperparams)\n",
    "        \n",
    "    \n",
    "    def fit(self, with_score = True, with_grid=True):\n",
    "        if with_grid:\n",
    "            self.grid.fit(self.X, self.Y)\n",
    "            print(f\"The best parameters are {self.grid.best_params_} and the best score is {self.grid.best_score_}\")\n",
    "            \n",
    "            self.model = self.model.__class__(**self.grid.best_params_)\n",
    "            self.model.fit(self.X,self.Y)\n",
    "        else : \n",
    "            self.model.fit(self.X, self.Y )\n",
    "        if with_score:\n",
    "            pred = self.predict(self.X)\n",
    "            print(f\"Train acc  is : {_acc(pred, self.Y)}\")\n",
    "\n",
    "    def predict(self, X):\n",
    "        X = _ensure_dimensionalit(X)\n",
    "        return self.model.predict(X)\n"
   ]
  },
  {
   "cell_type": "markdown",
   "metadata": {},
   "source": [
    "## DL model"
   ]
  },
  {
   "cell_type": "code",
   "execution_count": null,
   "metadata": {},
   "outputs": [],
   "source": [
    "import torch\n",
    "class BinaryCharacters_Classifier(nn.Module): \n",
    "    def __init__(self):\n",
    "        super(Binary_Classifier, self).__init__()\n",
    "        self.conv1 = nn.Conv2d(in_channels=1, out_channels=64, kernel_size=3)\n",
    "        self.conv1_bn = nn.BatchNorm2d(64)\n",
    "        self.max_p_1 = F.max_pool2d\n",
    "        self.activation_1 = F.relu\n",
    "        self.conv1_drop = nn.Dropout2d()\n",
    "\n",
    "        self.conv2 = nn.Conv2d(in_channels=64, out_channels=128, kernel_size=5)\n",
    "        self.conv2_bn = nn.BatchNorm2d(128)\n",
    "        self.max_p_2 = F.max_pool2d\n",
    "        self.activation_2 = F.relu\n",
    "        #self.conv2 = nn.Conv2d(10, 20, kernel_size=3)\n",
    "        self.conv2_drop = nn.Dropout2d()\n",
    "        self.fc1 = nn.Linear(7680, 1024)\n",
    "        self.fc2 = nn.Linear(1024, 37)\n",
    "\n",
    "    def forward(self, x):\n",
    "        #x = F.relu(F.max_pool2d(self.conv1(x), 2))\n",
    "        batch = x.shape[0]\n",
    "        x = self.conv1_drop(self.activation_1( self.max_p_1 ( self.conv1_bn ( self.conv1(x)), 2)))\n",
    "        #x = F.relu(F.max_pool2d(self.conv2_drop(self.conv2(x)), 2))\n",
    "        x = self.conv2_drop(self.activation_2( self.max_p_2 ( self.conv2_bn ( self.conv2(x)), 2)))\n",
    "        x =  x.reshape(batch, -1) \n",
    "        x = F.relu(self.fc1(x))\n",
    "        x = F.relu(self.fc2(x))\n",
    "        return x\n",
    "\n",
    "\n",
    "class CNNHandler:\n",
    "    def __init__(self, X, Y, **kwargs):\n",
    "        assert('model_path' in kwargs)\n",
    "        \n",
    "        self.model = BinaryCharacters_Classifier().load_state_dict(torch.load(kwargs['model_path']))\n",
    "        \n",
    "    def fit(self, with_score = True, with_grid=True):\n",
    "        print(\"Not implemented for deep learning model\")\n",
    "\n",
    "    def predict(self, x):\n",
    "        if type(x) == list:\n",
    "            assert(all([len(y.shape) == 3 and y.shape[1] == 60 and y.shape[2] == 30])), \"Shape must be [B, 1, 60, 30 ]\"\n",
    "        else:\n",
    "            assert(len(x.shape) == 4 and x.shape[2] == 60 and x.shape[3] = 30), \"Shape must be [B, 1, 60, 30 ]\"\n",
    "        \n",
    "        X = self.model(X)\n",
    "        torch.argmax(X,1)\n",
    "        return self.model.predict(X)\n"
   ]
  },
  {
   "cell_type": "markdown",
   "metadata": {},
   "source": [
    "## KNN model"
   ]
  },
  {
   "cell_type": "code",
   "execution_count": 14,
   "metadata": {},
   "outputs": [],
   "source": [
    "class KNNhandler:\n",
    "\n",
    "    def __init__(self, X, Y, **kwargs):\n",
    "        hyperparams = {\n",
    "            'algorithm':['auto', 'ball_tree', 'kd_tree', 'brute'],\n",
    "            'n_neighbors': np.arange(3, 10, 2),\n",
    "            'p': np.arange(1,3),\n",
    "        }\n",
    "        self.model = neighbors.KNeighborsClassifier(**kwargs)\n",
    "        self.X = do_scaling(_ensure_dimensionalit(X))\n",
    "        self.Y = Y\n",
    "        assert(len(Y.shape) ==1 )\n",
    "        self.grid = _gen_gridSearch(self.model, hyperparams)\n",
    "        \n",
    "    \n",
    "    def fit(self, with_score = True, with_grid=True):\n",
    "        if with_grid:\n",
    "            self.grid.fit(self.X, self.Y)\n",
    "            print(f\"The best parameters are {self.grid.best_params_} and the best score is {self.grid.best_score_}\")\n",
    "            self.model = self.model.__class__(**self.grid.best_params_)\n",
    "            self.model.fit(self.X,self.Y)\n",
    "        else : \n",
    "            self.model.fit(self.X, self.Y )\n",
    "        if with_score:\n",
    "            pred = self.predict(self.X)\n",
    "            print(f\"Train acc  is : {_acc(pred, self.Y)}\")\n",
    "\n",
    "    def predict(self, X):\n",
    "        X = _ensure_dimensionalit(X)\n",
    "        return self.model.predict(X)\n"
   ]
  },
  {
   "cell_type": "markdown",
   "metadata": {},
   "source": [
    "# Decision tree"
   ]
  },
  {
   "cell_type": "code",
   "execution_count": 29,
   "metadata": {},
   "outputs": [],
   "source": [
    "class DTCHandler:\n",
    "\n",
    "    def __init__(self, X, Y, **kwargs):\n",
    "        hyperparams = {\n",
    "            'criterion':['gini', 'entropy'],\n",
    "            'max_features': ['auto', 'sqrt', 'log2'],\n",
    "            'splitter': ['best', 'random'],\n",
    "        }\n",
    "        self.model = tree.DecisionTreeClassifier(**kwargs)\n",
    "        self.X = do_scaling(_ensure_dimensionalit(X))\n",
    "        self.Y = Y\n",
    "        assert(len(Y.shape) ==1 )\n",
    "        self.grid = _gen_gridSearch(self.model, hyperparams)\n",
    "        \n",
    "    \n",
    "    def fit(self, with_score = True, with_grid=True):\n",
    "        if with_grid:\n",
    "            self.grid.fit(self.X, self.Y)\n",
    "            print(f\"The best parameters are {self.grid.best_params_} and the best score is {self.grid.best_score_}\")\n",
    "            self.model = self.model.__class__(**self.grid.best_params_)\n",
    "            self.model.fit(self.X,self.Y)\n",
    "        else : \n",
    "            self.model.fit(self.X, self.Y )\n",
    "        if with_score:\n",
    "            pred = self.predict(self.X)\n",
    "            print(f\"Train acc  is : {_acc(pred, self.Y)}\")\n",
    "\n",
    "    def predict(self, X):\n",
    "        X = _ensure_dimensionalit(X)\n",
    "        return self.model.predict(X)\n"
   ]
  }
 ],
 "metadata": {
  "hide_input": false,
  "kernelspec": {
   "display_name": "Python 3 (ipykernel)",
   "language": "python",
   "name": "python3"
  },
  "language_info": {
   "codemirror_mode": {
    "name": "ipython",
    "version": 3
   },
   "file_extension": ".py",
   "mimetype": "text/x-python",
   "name": "python",
   "nbconvert_exporter": "python",
   "pygments_lexer": "ipython3",
   "version": "3.8.5"
  },
  "nbTranslate": {
   "displayLangs": [
    "*"
   ],
   "hotkey": "alt-t",
   "langInMainMenu": true,
   "sourceLang": "en",
   "targetLang": "fr",
   "useGoogleTranslate": true
  },
  "toc": {
   "base_numbering": 1,
   "nav_menu": {},
   "number_sections": true,
   "sideBar": true,
   "skip_h1_title": false,
   "title_cell": "Table of Contents",
   "title_sidebar": "Contents",
   "toc_cell": false,
   "toc_position": {},
   "toc_section_display": true,
   "toc_window_display": false
  },
  "varInspector": {
   "cols": {
    "lenName": 16,
    "lenType": 16,
    "lenVar": 40
   },
   "kernels_config": {
    "python": {
     "delete_cmd_postfix": "",
     "delete_cmd_prefix": "del ",
     "library": "var_list.py",
     "varRefreshCmd": "print(var_dic_list())"
    },
    "r": {
     "delete_cmd_postfix": ") ",
     "delete_cmd_prefix": "rm(",
     "library": "var_list.r",
     "varRefreshCmd": "cat(var_dic_list()) "
    }
   },
   "types_to_exclude": [
    "module",
    "function",
    "builtin_function_or_method",
    "instance",
    "_Feature"
   ],
   "window_display": false
  }
 },
 "nbformat": 4,
 "nbformat_minor": 4
}
