{
 "cells": [
  {
   "cell_type": "code",
   "execution_count": 24,
   "source": [
    "import numpy as np\n",
    "import os\n",
    "import matplotlib.pyplot as plt\n",
    "import cv2"
   ],
   "outputs": [],
   "metadata": {}
  },
  {
   "cell_type": "markdown",
   "source": [
    "# Loading dataset"
   ],
   "metadata": {}
  },
  {
   "cell_type": "code",
   "execution_count": 22,
   "source": [
    "def get_data():\n",
    "    URL = 'data/'\n",
    "\n",
    "    imgs = os.listdir(URL)\n",
    "\n",
    "    return [cv2.imread(f\"{URL}{img}\") for img in imgs]\n",
    "\n"
   ],
   "outputs": [],
   "metadata": {}
  },
  {
   "cell_type": "code",
   "execution_count": 23,
   "source": [
    "test = get_data()"
   ],
   "outputs": [],
   "metadata": {}
  }
 ],
 "metadata": {
  "orig_nbformat": 4,
  "language_info": {
   "name": "python",
   "version": "3.7.10",
   "mimetype": "text/x-python",
   "codemirror_mode": {
    "name": "ipython",
    "version": 3
   },
   "pygments_lexer": "ipython3",
   "nbconvert_exporter": "python",
   "file_extension": ".py"
  },
  "kernelspec": {
   "name": "python3",
   "display_name": "Python 3.7.10 64-bit ('PSIV': conda)"
  },
  "interpreter": {
   "hash": "32e8c648a2494fd09d23bf83991ec7421f6cc01ac59d940361f7f6b3216c6885"
  }
 },
 "nbformat": 4,
 "nbformat_minor": 2
}