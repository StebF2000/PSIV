{
 "cells": [
  {
   "cell_type": "code",
   "execution_count": 1,
   "metadata": {},
   "outputs": [],
   "source": [
    "import load_patients as lp\n",
    "import IOFunctions as io\n",
    "import pandas as pd\n",
    "import numpy as np\n",
    "import nib\n",
    "import os"
   ]
  },
  {
   "cell_type": "markdown",
   "metadata": {},
   "source": [
    "## Data load"
   ]
  },
  {
   "cell_type": "markdown",
   "metadata": {},
   "source": [
    "L estructura dins de la carpeta data/ ha d'haver: /Diagnosis i NoduleSegmentation/ i el codi s'ha d'executar des de la carpeta code\n"
   ]
  },
  {
   "cell_type": "code",
   "execution_count": 2,
   "metadata": {},
   "outputs": [],
   "source": [
    "data_patients, rl = lp.load_diagnosis_data()\n",
    "data_nodules = lp.load_Nodule_data()"
   ]
  },
  {
   "cell_type": "markdown",
   "metadata": {},
   "source": [
    "Ara s'ha de fer servir les funcions from scipy.ndimage import affine_transform per aconseguir 'repeteixo més o menys com ho recordo' modificar el punt de vista de subjectiu de la màquina a l'espai real. després s'ha de fer la inversa np.linalg.inv i despres s'ha de multiplicar la matriu amb una altra (nidea)."
   ]
  }
 ],
 "metadata": {
  "interpreter": {
   "hash": "916dbcbb3f70747c44a77c7bcd40155683ae19c65e1c03b4aa3499c5328201f1"
  },
  "kernelspec": {
   "display_name": "Python 3.8.10 64-bit",
   "language": "python",
   "name": "python3"
  },
  "language_info": {
   "codemirror_mode": {
    "name": "ipython",
    "version": 3
   },
   "file_extension": ".py",
   "mimetype": "text/x-python",
   "name": "python",
   "nbconvert_exporter": "python",
   "pygments_lexer": "ipython3",
   "version": "3.8.10"
  },
  "orig_nbformat": 4
 },
 "nbformat": 4,
 "nbformat_minor": 2
}
