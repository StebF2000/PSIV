{
 "cells": [
  {
   "cell_type": "code",
   "execution_count": null,
   "source": [
    "import numpy as np\n",
    "import os\n",
    "import matplotlib.pyplot as plt\n",
    "import cv2\n"
   ],
   "outputs": [],
   "metadata": {}
  },
  {
   "cell_type": "code",
   "execution_count": null,
   "source": [
    "def show(imgs: list) -> None:\n",
    "    fig, axes = plt.subplots(nrows=1, ncols=5, figsize=(20, 5))\n",
    "\n",
    "    for img, ax in zip(imgs, axes.ravel()):\n",
    "        ax.imshow(img, cmap=\"gray\", interpolation='antialiased', aspect='equal')\n",
    "        ax.axis(\"off\")\n",
    "\n",
    "    fig.tight_layout()"
   ],
   "outputs": [],
   "metadata": {}
  },
  {
   "cell_type": "markdown",
   "source": [
    "# Loading dataset\n",
    "It returns a list of grayscale images that can be iterated. Grayscale will increase accuracy removing neglecting colours."
   ],
   "metadata": {}
  },
  {
   "cell_type": "code",
   "execution_count": null,
   "source": [
    "def get_data(path: str) -> list:\n",
    "    imgs = os.listdir(path)\n",
    "    return [cv2.imread(f\"{path}/{img}\", 0) for img in imgs]"
   ],
   "outputs": [],
   "metadata": {}
  },
  {
   "cell_type": "code",
   "execution_count": null,
   "source": [
    "small_data = get_data(\"data/local\")[1:6]\n",
    "show(small_data)"
   ],
   "outputs": [],
   "metadata": {}
  },
  {
   "cell_type": "markdown",
   "source": [
    "# Blur\n",
    "Blur will remove noise and artefacts from the camera"
   ],
   "metadata": {}
  },
  {
   "cell_type": "code",
   "execution_count": null,
   "source": [
    "def blur_image(img: np.ndarray, kernel_size: int) -> np.ndarray:\n",
    "    return cv2.GaussianBlur(img, (kernel_size, kernel_size), 0)"
   ],
   "outputs": [],
   "metadata": {}
  },
  {
   "cell_type": "code",
   "execution_count": null,
   "source": [
    "small_data_blurr = [blur_image(img, 5) for img in small_data]\n",
    "show(small_data_blurr)"
   ],
   "outputs": [],
   "metadata": {}
  },
  {
   "cell_type": "markdown",
   "source": [
    "# Inverse binary threshold"
   ],
   "metadata": {}
  },
  {
   "cell_type": "code",
   "execution_count": null,
   "source": [
    "def threshold(img: np.ndarray, limit: int) -> np.ndarray:\n",
    "    return cv2.threshold(img, limit, 255, cv2.THRESH_BINARY_INV + cv2.THRESH_OTSU)[1]"
   ],
   "outputs": [],
   "metadata": {}
  },
  {
   "cell_type": "code",
   "execution_count": null,
   "source": [
    "small_data_blurr_threshold = [threshold(img, 130) for img in small_data_blurr]\n",
    "show(small_data_blurr_threshold)"
   ],
   "outputs": [],
   "metadata": {}
  },
  {
   "cell_type": "markdown",
   "source": [
    "# Dilation\n",
    "Increase the white section created by the threshold"
   ],
   "metadata": {}
  },
  {
   "cell_type": "code",
   "execution_count": null,
   "source": [
    "def dilation(img, kernel_size) -> np.ndarray:\n",
    "    kernel = cv2.getStructuringElement(cv2.MORPH_RECT, (kernel_size, kernel_size))\n",
    "    return cv2.morphologyEx(img, cv2.MORPH_ELLIPSE, kernel)"
   ],
   "outputs": [],
   "metadata": {}
  },
  {
   "cell_type": "code",
   "execution_count": null,
   "source": [
    "small_data_completed = [dilation(img, 5) for img in small_data_blurr_threshold]\n",
    "show(small_data_completed)"
   ],
   "outputs": [],
   "metadata": {}
  },
  {
   "cell_type": "code",
   "execution_count": null,
   "source": [
    "def image_correction(img: np.ndarray, blur_size:int, limit: int, dilation_size: int) -> np.ndarray:\n",
    "    blur = cv2.GaussianBlur(img, (blur_size, blur_size), 0)\n",
    "    threshold = cv2.threshold(blur, limit, 255, cv2.THRESH_BINARY_INV + cv2.THRESH_OTSU)[1]\n",
    "\n",
    "    kernel = cv2.getStructuringElement(cv2.MORPH_RECT, (dilation_size, dilation_size))\n",
    "    return cv2.morphologyEx(threshold, cv2.MORPH_ELLIPSE, kernel)"
   ],
   "outputs": [],
   "metadata": {}
  },
  {
   "cell_type": "markdown",
   "source": [
    "# Contour detection\n",
    "The next step is to identify the plate licenses and set its boundaries"
   ],
   "metadata": {}
  },
  {
   "cell_type": "code",
   "execution_count": null,
   "source": [],
   "outputs": [],
   "metadata": {}
  }
 ],
 "metadata": {
  "orig_nbformat": 4,
  "language_info": {
   "name": "python",
   "version": "3.7.10",
   "mimetype": "text/x-python",
   "codemirror_mode": {
    "name": "ipython",
    "version": 3
   },
   "pygments_lexer": "ipython3",
   "nbconvert_exporter": "python",
   "file_extension": ".py"
  },
  "kernelspec": {
   "name": "python3",
   "display_name": "Python 3.7.10 64-bit ('PSIV': conda)"
  },
  "interpreter": {
   "hash": "fd0eef97ed430813ba3315e3256825a697685bbcd450b873f588a8f58f91a1cd"
  }
 },
 "nbformat": 4,
 "nbformat_minor": 2
}