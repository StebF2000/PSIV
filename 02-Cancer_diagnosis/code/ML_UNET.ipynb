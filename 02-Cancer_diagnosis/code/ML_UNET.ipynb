{
 "cells": [
  {
   "cell_type": "code",
   "execution_count": 1,
   "metadata": {},
   "outputs": [
    {
     "data": {
      "text/plain": [
       "<All keys matched successfully>"
      ]
     },
     "execution_count": 1,
     "metadata": {},
     "output_type": "execute_result"
    }
   ],
   "source": [
    "from model import ModelHandler\n",
    "from DataLoader import DiagnosisEnd2End\n",
    "import numpy as np\n",
    "import tqdm\n",
    "import torch\n",
    "from Unet2 import UNET\n",
    "from results_analysis import results\n",
    "model = UNET(1, 1)\n",
    "model.load_state_dict(torch.load(\"unet_segment.pth\"))"
   ]
  },
  {
   "cell_type": "markdown",
   "metadata": {},
   "source": [
    "## End2End Data"
   ]
  },
  {
   "cell_type": "code",
   "execution_count": 2,
   "metadata": {},
   "outputs": [],
   "source": [
    "path_segmentation = \"C:/Users/Usuario/Desktop/Uni/DataDaniMAPSIV/PSIV/02-Cancer_diagnosis/data/Diagnosis/\"\n",
    "nodules_path = \"../data/Diagnosis/Radiolung_NoduleDiagnosis.csv\""
   ]
  },
  {
   "cell_type": "code",
   "execution_count": 3,
   "metadata": {},
   "outputs": [
    {
     "name": "stderr",
     "output_type": "stream",
     "text": [
      "  0%|          | 0/49 [00:00<?, ?it/s]"
     ]
    },
    {
     "name": "stdout",
     "output_type": "stream",
     "text": [
      "Len Dataloader: 49 // Actual index: 0 // Len diagnosis path 47 // Len anonymous nodules 49\n"
     ]
    },
    {
     "name": "stderr",
     "output_type": "stream",
     "text": [
      "  2%|▏         | 1/49 [00:03<02:28,  3.10s/it]"
     ]
    },
    {
     "name": "stdout",
     "output_type": "stream",
     "text": [
      "Len Dataloader: 49 // Actual index: 1 // Len diagnosis path 47 // Len anonymous nodules 49\n"
     ]
    },
    {
     "name": "stderr",
     "output_type": "stream",
     "text": [
      "  4%|▍         | 2/49 [00:08<03:21,  4.29s/it]"
     ]
    },
    {
     "name": "stdout",
     "output_type": "stream",
     "text": [
      "Len Dataloader: 49 // Actual index: 2 // Len diagnosis path 47 // Len anonymous nodules 49\n"
     ]
    },
    {
     "name": "stderr",
     "output_type": "stream",
     "text": [
      "  6%|▌         | 3/49 [00:14<03:54,  5.09s/it]"
     ]
    },
    {
     "name": "stdout",
     "output_type": "stream",
     "text": [
      "Len Dataloader: 49 // Actual index: 3 // Len diagnosis path 47 // Len anonymous nodules 49\n"
     ]
    },
    {
     "name": "stderr",
     "output_type": "stream",
     "text": [
      "  8%|▊         | 4/49 [00:19<03:45,  5.00s/it]"
     ]
    },
    {
     "name": "stdout",
     "output_type": "stream",
     "text": [
      "Len Dataloader: 49 // Actual index: 4 // Len diagnosis path 47 // Len anonymous nodules 49\n"
     ]
    },
    {
     "name": "stderr",
     "output_type": "stream",
     "text": [
      " 10%|█         | 5/49 [00:27<04:28,  6.09s/it]"
     ]
    },
    {
     "name": "stdout",
     "output_type": "stream",
     "text": [
      "Len Dataloader: 49 // Actual index: 5 // Len diagnosis path 47 // Len anonymous nodules 49\n"
     ]
    },
    {
     "name": "stderr",
     "output_type": "stream",
     "text": [
      " 12%|█▏        | 6/49 [00:31<03:50,  5.35s/it]"
     ]
    },
    {
     "name": "stdout",
     "output_type": "stream",
     "text": [
      "Len Dataloader: 49 // Actual index: 6 // Len diagnosis path 47 // Len anonymous nodules 49\n"
     ]
    },
    {
     "name": "stderr",
     "output_type": "stream",
     "text": [
      " 14%|█▍        | 7/49 [00:36<03:39,  5.22s/it]"
     ]
    },
    {
     "name": "stdout",
     "output_type": "stream",
     "text": [
      "Len Dataloader: 49 // Actual index: 7 // Len diagnosis path 47 // Len anonymous nodules 49\n"
     ]
    },
    {
     "name": "stderr",
     "output_type": "stream",
     "text": [
      " 16%|█▋        | 8/49 [00:38<03:00,  4.40s/it]"
     ]
    },
    {
     "name": "stdout",
     "output_type": "stream",
     "text": [
      "Len Dataloader: 49 // Actual index: 8 // Len diagnosis path 47 // Len anonymous nodules 49\n"
     ]
    },
    {
     "name": "stderr",
     "output_type": "stream",
     "text": [
      " 18%|█▊        | 9/49 [00:41<02:40,  4.01s/it]"
     ]
    },
    {
     "name": "stdout",
     "output_type": "stream",
     "text": [
      "Len Dataloader: 49 // Actual index: 9 // Len diagnosis path 47 // Len anonymous nodules 49\n"
     ]
    },
    {
     "name": "stderr",
     "output_type": "stream",
     "text": [
      " 20%|██        | 10/49 [00:45<02:27,  3.77s/it]"
     ]
    },
    {
     "name": "stdout",
     "output_type": "stream",
     "text": [
      "Len Dataloader: 49 // Actual index: 10 // Len diagnosis path 47 // Len anonymous nodules 49\n"
     ]
    },
    {
     "name": "stderr",
     "output_type": "stream",
     "text": [
      " 22%|██▏       | 11/49 [00:48<02:14,  3.54s/it]"
     ]
    },
    {
     "name": "stdout",
     "output_type": "stream",
     "text": [
      "Len Dataloader: 49 // Actual index: 11 // Len diagnosis path 47 // Len anonymous nodules 49\n"
     ]
    },
    {
     "name": "stderr",
     "output_type": "stream",
     "text": [
      " 24%|██▍       | 12/49 [00:50<02:02,  3.31s/it]"
     ]
    },
    {
     "name": "stdout",
     "output_type": "stream",
     "text": [
      "Len Dataloader: 49 // Actual index: 12 // Len diagnosis path 47 // Len anonymous nodules 49\n"
     ]
    },
    {
     "name": "stderr",
     "output_type": "stream",
     "text": [
      " 27%|██▋       | 13/49 [00:53<01:52,  3.11s/it]"
     ]
    },
    {
     "name": "stdout",
     "output_type": "stream",
     "text": [
      "Len Dataloader: 49 // Actual index: 13 // Len diagnosis path 47 // Len anonymous nodules 49\n"
     ]
    },
    {
     "name": "stderr",
     "output_type": "stream",
     "text": [
      " 29%|██▊       | 14/49 [00:56<01:50,  3.16s/it]"
     ]
    },
    {
     "name": "stdout",
     "output_type": "stream",
     "text": [
      "Len Dataloader: 49 // Actual index: 14 // Len diagnosis path 47 // Len anonymous nodules 49\n"
     ]
    },
    {
     "name": "stderr",
     "output_type": "stream",
     "text": [
      " 31%|███       | 15/49 [00:59<01:47,  3.16s/it]"
     ]
    },
    {
     "name": "stdout",
     "output_type": "stream",
     "text": [
      "Len Dataloader: 49 // Actual index: 15 // Len diagnosis path 47 // Len anonymous nodules 49\n"
     ]
    },
    {
     "name": "stderr",
     "output_type": "stream",
     "text": [
      " 33%|███▎      | 16/49 [01:02<01:42,  3.09s/it]"
     ]
    },
    {
     "name": "stdout",
     "output_type": "stream",
     "text": [
      "Len Dataloader: 49 // Actual index: 16 // Len diagnosis path 47 // Len anonymous nodules 49\n"
     ]
    },
    {
     "name": "stderr",
     "output_type": "stream",
     "text": [
      " 35%|███▍      | 17/49 [01:06<01:43,  3.24s/it]"
     ]
    },
    {
     "name": "stdout",
     "output_type": "stream",
     "text": [
      "Len Dataloader: 49 // Actual index: 17 // Len diagnosis path 47 // Len anonymous nodules 49\n"
     ]
    },
    {
     "name": "stderr",
     "output_type": "stream",
     "text": [
      " 37%|███▋      | 18/49 [01:09<01:37,  3.15s/it]"
     ]
    },
    {
     "name": "stdout",
     "output_type": "stream",
     "text": [
      "Len Dataloader: 49 // Actual index: 18 // Len diagnosis path 47 // Len anonymous nodules 49\n"
     ]
    },
    {
     "name": "stderr",
     "output_type": "stream",
     "text": [
      " 39%|███▉      | 19/49 [01:09<01:09,  2.32s/it]"
     ]
    },
    {
     "name": "stdout",
     "output_type": "stream",
     "text": [
      "Len Dataloader: 49 // Actual index: 19 // Len diagnosis path 47 // Len anonymous nodules 49\n"
     ]
    },
    {
     "name": "stderr",
     "output_type": "stream",
     "text": [
      " 41%|████      | 20/49 [01:13<01:15,  2.61s/it]"
     ]
    },
    {
     "name": "stdout",
     "output_type": "stream",
     "text": [
      "Len Dataloader: 49 // Actual index: 20 // Len diagnosis path 47 // Len anonymous nodules 49\n"
     ]
    },
    {
     "name": "stderr",
     "output_type": "stream",
     "text": [
      " 43%|████▎     | 21/49 [01:20<01:51,  4.00s/it]"
     ]
    },
    {
     "name": "stdout",
     "output_type": "stream",
     "text": [
      "Len Dataloader: 49 // Actual index: 21 // Len diagnosis path 47 // Len anonymous nodules 49\n"
     ]
    },
    {
     "name": "stderr",
     "output_type": "stream",
     "text": [
      " 45%|████▍     | 22/49 [01:23<01:37,  3.62s/it]"
     ]
    },
    {
     "name": "stdout",
     "output_type": "stream",
     "text": [
      "Len Dataloader: 49 // Actual index: 22 // Len diagnosis path 47 // Len anonymous nodules 49\n"
     ]
    },
    {
     "name": "stderr",
     "output_type": "stream",
     "text": [
      " 47%|████▋     | 23/49 [01:25<01:27,  3.38s/it]"
     ]
    },
    {
     "name": "stdout",
     "output_type": "stream",
     "text": [
      "Len Dataloader: 49 // Actual index: 23 // Len diagnosis path 47 // Len anonymous nodules 49\n"
     ]
    },
    {
     "name": "stderr",
     "output_type": "stream",
     "text": [
      " 49%|████▉     | 24/49 [01:28<01:18,  3.15s/it]"
     ]
    },
    {
     "name": "stdout",
     "output_type": "stream",
     "text": [
      "Len Dataloader: 49 // Actual index: 24 // Len diagnosis path 47 // Len anonymous nodules 49\n"
     ]
    },
    {
     "name": "stderr",
     "output_type": "stream",
     "text": [
      " 51%|█████     | 25/49 [01:31<01:15,  3.13s/it]"
     ]
    },
    {
     "name": "stdout",
     "output_type": "stream",
     "text": [
      "Len Dataloader: 49 // Actual index: 25 // Len diagnosis path 47 // Len anonymous nodules 49\n"
     ]
    },
    {
     "name": "stderr",
     "output_type": "stream",
     "text": [
      " 53%|█████▎    | 26/49 [01:34<01:10,  3.06s/it]"
     ]
    },
    {
     "name": "stdout",
     "output_type": "stream",
     "text": [
      "Len Dataloader: 49 // Actual index: 26 // Len diagnosis path 47 // Len anonymous nodules 49\n"
     ]
    },
    {
     "name": "stderr",
     "output_type": "stream",
     "text": [
      " 55%|█████▌    | 27/49 [01:34<00:49,  2.27s/it]"
     ]
    },
    {
     "name": "stdout",
     "output_type": "stream",
     "text": [
      "Len Dataloader: 49 // Actual index: 27 // Len diagnosis path 47 // Len anonymous nodules 49\n"
     ]
    },
    {
     "name": "stderr",
     "output_type": "stream",
     "text": [
      " 57%|█████▋    | 28/49 [01:37<00:49,  2.36s/it]"
     ]
    },
    {
     "name": "stdout",
     "output_type": "stream",
     "text": [
      "Len Dataloader: 49 // Actual index: 28 // Len diagnosis path 47 // Len anonymous nodules 49\n"
     ]
    },
    {
     "name": "stderr",
     "output_type": "stream",
     "text": [
      " 59%|█████▉    | 29/49 [01:40<00:51,  2.57s/it]"
     ]
    },
    {
     "name": "stdout",
     "output_type": "stream",
     "text": [
      "Len Dataloader: 49 // Actual index: 29 // Len diagnosis path 47 // Len anonymous nodules 49\n"
     ]
    },
    {
     "name": "stderr",
     "output_type": "stream",
     "text": [
      " 61%|██████    | 30/49 [01:43<00:51,  2.71s/it]"
     ]
    },
    {
     "name": "stdout",
     "output_type": "stream",
     "text": [
      "Len Dataloader: 49 // Actual index: 30 // Len diagnosis path 47 // Len anonymous nodules 49\n"
     ]
    },
    {
     "name": "stderr",
     "output_type": "stream",
     "text": [
      " 63%|██████▎   | 31/49 [01:47<00:56,  3.14s/it]"
     ]
    },
    {
     "name": "stdout",
     "output_type": "stream",
     "text": [
      "Len Dataloader: 49 // Actual index: 31 // Len diagnosis path 47 // Len anonymous nodules 49\n"
     ]
    },
    {
     "name": "stderr",
     "output_type": "stream",
     "text": [
      " 65%|██████▌   | 32/49 [01:50<00:51,  3.04s/it]"
     ]
    },
    {
     "name": "stdout",
     "output_type": "stream",
     "text": [
      "Len Dataloader: 49 // Actual index: 32 // Len diagnosis path 47 // Len anonymous nodules 49\n"
     ]
    },
    {
     "name": "stderr",
     "output_type": "stream",
     "text": [
      " 67%|██████▋   | 33/49 [01:52<00:45,  2.86s/it]"
     ]
    },
    {
     "name": "stdout",
     "output_type": "stream",
     "text": [
      "Len Dataloader: 49 // Actual index: 33 // Len diagnosis path 47 // Len anonymous nodules 49\n"
     ]
    },
    {
     "name": "stderr",
     "output_type": "stream",
     "text": [
      " 69%|██████▉   | 34/49 [01:53<00:33,  2.20s/it]"
     ]
    },
    {
     "name": "stdout",
     "output_type": "stream",
     "text": [
      "Len Dataloader: 49 // Actual index: 34 // Len diagnosis path 47 // Len anonymous nodules 49\n"
     ]
    },
    {
     "name": "stderr",
     "output_type": "stream",
     "text": [
      " 71%|███████▏  | 35/49 [01:56<00:34,  2.44s/it]"
     ]
    },
    {
     "name": "stdout",
     "output_type": "stream",
     "text": [
      "Len Dataloader: 49 // Actual index: 35 // Len diagnosis path 47 // Len anonymous nodules 49\n"
     ]
    },
    {
     "name": "stderr",
     "output_type": "stream",
     "text": [
      " 73%|███████▎  | 36/49 [01:59<00:34,  2.67s/it]"
     ]
    },
    {
     "name": "stdout",
     "output_type": "stream",
     "text": [
      "Len Dataloader: 49 // Actual index: 36 // Len diagnosis path 47 // Len anonymous nodules 49\n"
     ]
    },
    {
     "name": "stderr",
     "output_type": "stream",
     "text": [
      " 76%|███████▌  | 37/49 [02:00<00:23,  1.96s/it]"
     ]
    },
    {
     "name": "stdout",
     "output_type": "stream",
     "text": [
      "Len Dataloader: 49 // Actual index: 37 // Len diagnosis path 47 // Len anonymous nodules 49\n"
     ]
    },
    {
     "name": "stderr",
     "output_type": "stream",
     "text": [
      " 78%|███████▊  | 38/49 [02:01<00:18,  1.65s/it]"
     ]
    },
    {
     "name": "stdout",
     "output_type": "stream",
     "text": [
      "Len Dataloader: 49 // Actual index: 38 // Len diagnosis path 47 // Len anonymous nodules 49\n"
     ]
    },
    {
     "name": "stderr",
     "output_type": "stream",
     "text": [
      " 80%|███████▉  | 39/49 [02:01<00:13,  1.33s/it]"
     ]
    },
    {
     "name": "stdout",
     "output_type": "stream",
     "text": [
      "Len Dataloader: 49 // Actual index: 39 // Len diagnosis path 47 // Len anonymous nodules 49\n",
      "Len Dataloader: 49 // Actual index: 40 // Len diagnosis path 47 // Len anonymous nodules 49\n"
     ]
    },
    {
     "name": "stderr",
     "output_type": "stream",
     "text": [
      " 84%|████████▎ | 41/49 [02:02<00:07,  1.08it/s]"
     ]
    },
    {
     "name": "stdout",
     "output_type": "stream",
     "text": [
      "Len Dataloader: 49 // Actual index: 41 // Len diagnosis path 47 // Len anonymous nodules 49\n"
     ]
    },
    {
     "name": "stderr",
     "output_type": "stream",
     "text": [
      " 86%|████████▌ | 42/49 [02:03<00:05,  1.17it/s]"
     ]
    },
    {
     "name": "stdout",
     "output_type": "stream",
     "text": [
      "Len Dataloader: 49 // Actual index: 42 // Len diagnosis path 47 // Len anonymous nodules 49\n"
     ]
    },
    {
     "name": "stderr",
     "output_type": "stream",
     "text": [
      " 90%|████████▉ | 44/49 [02:04<00:03,  1.56it/s]"
     ]
    },
    {
     "name": "stdout",
     "output_type": "stream",
     "text": [
      "Len Dataloader: 49 // Actual index: 43 // Len diagnosis path 47 // Len anonymous nodules 49\n",
      "Len Dataloader: 49 // Actual index: 44 // Len diagnosis path 47 // Len anonymous nodules 49\n"
     ]
    },
    {
     "name": "stderr",
     "output_type": "stream",
     "text": [
      " 92%|█████████▏| 45/49 [02:04<00:02,  1.56it/s]"
     ]
    },
    {
     "name": "stdout",
     "output_type": "stream",
     "text": [
      "Len Dataloader: 49 // Actual index: 45 // Len diagnosis path 47 // Len anonymous nodules 49\n"
     ]
    },
    {
     "name": "stderr",
     "output_type": "stream",
     "text": [
      " 94%|█████████▍| 46/49 [02:05<00:02,  1.32it/s]"
     ]
    },
    {
     "name": "stdout",
     "output_type": "stream",
     "text": [
      "Len Dataloader: 49 // Actual index: 46 // Len diagnosis path 47 // Len anonymous nodules 49\n"
     ]
    },
    {
     "name": "stderr",
     "output_type": "stream",
     "text": [
      " 96%|█████████▌| 47/49 [02:08<00:02,  1.34s/it]"
     ]
    },
    {
     "name": "stdout",
     "output_type": "stream",
     "text": [
      "Len Dataloader: 49 // Actual index: 47 // Len diagnosis path 47 // Len anonymous nodules 49\n"
     ]
    },
    {
     "name": "stderr",
     "output_type": "stream",
     "text": [
      " 98%|█████████▊| 48/49 [02:10<00:01,  1.56s/it]"
     ]
    },
    {
     "name": "stdout",
     "output_type": "stream",
     "text": [
      "Len Dataloader: 49 // Actual index: 48 // Len diagnosis path 47 // Len anonymous nodules 49\n"
     ]
    },
    {
     "name": "stderr",
     "output_type": "stream",
     "text": [
      "100%|██████████| 49/49 [02:11<00:00,  2.69s/it]\n"
     ]
    }
   ],
   "source": [
    "diagonis = DiagnosisEnd2End(path_segmentation, nodules_path)\n",
    "\n",
    "X_data_curated = np.zeros((49, 14, 64, 64))\n",
    "y_data_curated = np.zeros(49)\n",
    "i = 0\n",
    "\n",
    "for idx in tqdm.tqdm(range(len(diagonis))):\n",
    "    data = diagonis[idx]\n",
    "    m = data['ROI'].shape[0]//2   \n",
    "    X_data_curated[i] = data[\"ROI\"][m-7:m+7, :, :].reshape((14, 64, 64))\n",
    "    #print(data['GT'])\n",
    "    y_data_curated[i] = data['GT'] if type(data['GT']) != type([]) else data['GT'][0]\n",
    "    i+=1\n"
   ]
  },
  {
   "cell_type": "code",
   "execution_count": 4,
   "metadata": {},
   "outputs": [
    {
     "data": {
      "text/plain": [
       "0.8163265306122449"
      ]
     },
     "execution_count": 4,
     "metadata": {},
     "output_type": "execute_result"
    }
   ],
   "source": [
    "sum(y_data_curated == 1) / len(y_data_curated)"
   ]
  },
  {
   "cell_type": "markdown",
   "metadata": {},
   "source": [
    "## SVM"
   ]
  },
  {
   "cell_type": "code",
   "execution_count": 5,
   "metadata": {},
   "outputs": [],
   "source": [
    "svm = ModelHandler(X = X_data_curated, Y = y_data_curated, model = 'SVM', n_splits = 8)\n",
    "svm.fit(True,True)"
   ]
  },
  {
   "cell_type": "code",
   "execution_count": 6,
   "metadata": {},
   "outputs": [
    {
     "data": {
      "text/html": [
       "<div>\n",
       "<style scoped>\n",
       "    .dataframe tbody tr th:only-of-type {\n",
       "        vertical-align: middle;\n",
       "    }\n",
       "\n",
       "    .dataframe tbody tr th {\n",
       "        vertical-align: top;\n",
       "    }\n",
       "\n",
       "    .dataframe thead th {\n",
       "        text-align: right;\n",
       "    }\n",
       "</style>\n",
       "<table border=\"1\" class=\"dataframe\">\n",
       "  <thead>\n",
       "    <tr style=\"text-align: right;\">\n",
       "      <th></th>\n",
       "      <th>params</th>\n",
       "      <th>split0_test_score</th>\n",
       "      <th>split1_test_score</th>\n",
       "      <th>split2_test_score</th>\n",
       "      <th>split3_test_score</th>\n",
       "      <th>split4_test_score</th>\n",
       "      <th>split5_test_score</th>\n",
       "      <th>split6_test_score</th>\n",
       "      <th>split7_test_score</th>\n",
       "      <th>C</th>\n",
       "      <th>kernel</th>\n",
       "      <th>mean</th>\n",
       "      <th>sem</th>\n",
       "      <th>ci</th>\n",
       "      <th>sort</th>\n",
       "    </tr>\n",
       "  </thead>\n",
       "  <tbody>\n",
       "    <tr>\n",
       "      <th>10</th>\n",
       "      <td>{'C': 10000.0, 'kernel': 'rbf'}</td>\n",
       "      <td>0.8</td>\n",
       "      <td>0.8</td>\n",
       "      <td>0.8</td>\n",
       "      <td>0.8</td>\n",
       "      <td>0.8</td>\n",
       "      <td>0.8</td>\n",
       "      <td>0.8</td>\n",
       "      <td>0.8</td>\n",
       "      <td>1.000000e+04</td>\n",
       "      <td>rbf</td>\n",
       "      <td>0.8</td>\n",
       "      <td>1.000000e-08</td>\n",
       "      <td>(0.7999999763537574, 0.8000000236462425)</td>\n",
       "      <td>0.4</td>\n",
       "    </tr>\n",
       "    <tr>\n",
       "      <th>13</th>\n",
       "      <td>{'C': 10000000.0, 'kernel': 'poly'}</td>\n",
       "      <td>0.8</td>\n",
       "      <td>0.8</td>\n",
       "      <td>0.8</td>\n",
       "      <td>0.8</td>\n",
       "      <td>0.8</td>\n",
       "      <td>0.8</td>\n",
       "      <td>0.8</td>\n",
       "      <td>0.8</td>\n",
       "      <td>1.000000e+07</td>\n",
       "      <td>poly</td>\n",
       "      <td>0.8</td>\n",
       "      <td>1.000000e-08</td>\n",
       "      <td>(0.7999999763537574, 0.8000000236462425)</td>\n",
       "      <td>0.4</td>\n",
       "    </tr>\n",
       "    <tr>\n",
       "      <th>2</th>\n",
       "      <td>{'C': 0.01, 'kernel': 'rbf'}</td>\n",
       "      <td>0.8</td>\n",
       "      <td>0.8</td>\n",
       "      <td>0.8</td>\n",
       "      <td>0.8</td>\n",
       "      <td>0.8</td>\n",
       "      <td>0.8</td>\n",
       "      <td>0.8</td>\n",
       "      <td>0.8</td>\n",
       "      <td>1.000000e-02</td>\n",
       "      <td>rbf</td>\n",
       "      <td>0.8</td>\n",
       "      <td>1.000000e-08</td>\n",
       "      <td>(0.7999999763537574, 0.8000000236462425)</td>\n",
       "      <td>0.4</td>\n",
       "    </tr>\n",
       "    <tr>\n",
       "      <th>3</th>\n",
       "      <td>{'C': 0.01, 'kernel': 'sigmoid'}</td>\n",
       "      <td>0.8</td>\n",
       "      <td>0.8</td>\n",
       "      <td>0.8</td>\n",
       "      <td>0.8</td>\n",
       "      <td>0.8</td>\n",
       "      <td>0.8</td>\n",
       "      <td>0.8</td>\n",
       "      <td>0.8</td>\n",
       "      <td>1.000000e-02</td>\n",
       "      <td>sigmoid</td>\n",
       "      <td>0.8</td>\n",
       "      <td>1.000000e-08</td>\n",
       "      <td>(0.7999999763537574, 0.8000000236462425)</td>\n",
       "      <td>0.4</td>\n",
       "    </tr>\n",
       "    <tr>\n",
       "      <th>18</th>\n",
       "      <td>{'C': 10000000000.0, 'kernel': 'rbf'}</td>\n",
       "      <td>0.8</td>\n",
       "      <td>0.8</td>\n",
       "      <td>0.8</td>\n",
       "      <td>0.8</td>\n",
       "      <td>0.8</td>\n",
       "      <td>0.8</td>\n",
       "      <td>0.8</td>\n",
       "      <td>0.8</td>\n",
       "      <td>1.000000e+10</td>\n",
       "      <td>rbf</td>\n",
       "      <td>0.8</td>\n",
       "      <td>1.000000e-08</td>\n",
       "      <td>(0.7999999763537574, 0.8000000236462425)</td>\n",
       "      <td>0.4</td>\n",
       "    </tr>\n",
       "  </tbody>\n",
       "</table>\n",
       "</div>"
      ],
      "text/plain": [
       "                                   params  split0_test_score  \\\n",
       "10        {'C': 10000.0, 'kernel': 'rbf'}                0.8   \n",
       "13    {'C': 10000000.0, 'kernel': 'poly'}                0.8   \n",
       "2            {'C': 0.01, 'kernel': 'rbf'}                0.8   \n",
       "3        {'C': 0.01, 'kernel': 'sigmoid'}                0.8   \n",
       "18  {'C': 10000000000.0, 'kernel': 'rbf'}                0.8   \n",
       "\n",
       "    split1_test_score  split2_test_score  split3_test_score  \\\n",
       "10                0.8                0.8                0.8   \n",
       "13                0.8                0.8                0.8   \n",
       "2                 0.8                0.8                0.8   \n",
       "3                 0.8                0.8                0.8   \n",
       "18                0.8                0.8                0.8   \n",
       "\n",
       "    split4_test_score  split5_test_score  split6_test_score  \\\n",
       "10                0.8                0.8                0.8   \n",
       "13                0.8                0.8                0.8   \n",
       "2                 0.8                0.8                0.8   \n",
       "3                 0.8                0.8                0.8   \n",
       "18                0.8                0.8                0.8   \n",
       "\n",
       "    split7_test_score             C   kernel  mean           sem  \\\n",
       "10                0.8  1.000000e+04      rbf   0.8  1.000000e-08   \n",
       "13                0.8  1.000000e+07     poly   0.8  1.000000e-08   \n",
       "2                 0.8  1.000000e-02      rbf   0.8  1.000000e-08   \n",
       "3                 0.8  1.000000e-02  sigmoid   0.8  1.000000e-08   \n",
       "18                0.8  1.000000e+10      rbf   0.8  1.000000e-08   \n",
       "\n",
       "                                          ci  sort  \n",
       "10  (0.7999999763537574, 0.8000000236462425)   0.4  \n",
       "13  (0.7999999763537574, 0.8000000236462425)   0.4  \n",
       "2   (0.7999999763537574, 0.8000000236462425)   0.4  \n",
       "3   (0.7999999763537574, 0.8000000236462425)   0.4  \n",
       "18  (0.7999999763537574, 0.8000000236462425)   0.4  "
      ]
     },
     "execution_count": 6,
     "metadata": {},
     "output_type": "execute_result"
    }
   ],
   "source": [
    "svm.top_params(0.95, 5)"
   ]
  },
  {
   "cell_type": "code",
   "execution_count": 7,
   "metadata": {},
   "outputs": [
    {
     "name": "stderr",
     "output_type": "stream",
     "text": [
      "findfont: Font family ['Gill Sans'] not found. Falling back to DejaVu Sans.\n",
      "findfont: Font family ['Gill Sans'] not found. Falling back to DejaVu Sans.\n"
     ]
    },
    {
     "data": {
      "image/png": "[encoded data removed]",
      "text/plain": [
       "<Figure size 936x432 with 1 Axes>"
      ]
     },
     "metadata": {},
     "output_type": "display_data"
    }
   ],
   "source": [
    "svm.boxplots(20)"
   ]
  },
  {
   "cell_type": "code",
   "execution_count": 8,
   "metadata": {},
   "outputs": [
    {
     "ename": "IndexError",
     "evalue": "index 1 is out of bounds for axis 1 with size 1",
     "output_type": "error",
     "traceback": [
      "\u001b[1;31m---------------------------------------------------------------------------\u001b[0m",
      "\u001b[1;31mIndexError\u001b[0m                                Traceback (most recent call last)",
      "\u001b[1;32m~\\AppData\\Local\\Temp/ipykernel_13860/2648311601.py\u001b[0m in \u001b[0;36m<module>\u001b[1;34m\u001b[0m\n\u001b[1;32m----> 1\u001b[1;33m \u001b[0mresults\u001b[0m\u001b[1;33m(\u001b[0m\u001b[0mX_data_curated\u001b[0m\u001b[1;33m,\u001b[0m\u001b[0my_data_curated\u001b[0m\u001b[1;33m,\u001b[0m\u001b[1;34m'SVM'\u001b[0m\u001b[1;33m,\u001b[0m \u001b[1;36m5\u001b[0m\u001b[1;33m)\u001b[0m\u001b[1;33m\u001b[0m\u001b[1;33m\u001b[0m\u001b[0m\n\u001b[0m",
      "\u001b[1;32mc:\\Users\\Usuario\\Desktop\\Uni\\DataDaniMAPSIV\\PSIV\\02-Cancer_diagnosis\\code\\results_analysis.py\u001b[0m in \u001b[0;36mresults\u001b[1;34m(X_data, y_data, MODEL, NSPLITS)\u001b[0m\n\u001b[0;32m     28\u001b[0m                 \u001b[0mmodel\u001b[0m\u001b[1;33m.\u001b[0m\u001b[0mfit\u001b[0m\u001b[1;33m(\u001b[0m\u001b[1;32mTrue\u001b[0m\u001b[1;33m,\u001b[0m\u001b[1;32mTrue\u001b[0m\u001b[1;33m)\u001b[0m\u001b[1;33m\u001b[0m\u001b[1;33m\u001b[0m\u001b[0m\n\u001b[0;32m     29\u001b[0m \u001b[1;33m\u001b[0m\u001b[0m\n\u001b[1;32m---> 30\u001b[1;33m                 \u001b[0mdf\u001b[0m\u001b[1;33m,\u001b[0m \u001b[0mcm\u001b[0m  \u001b[1;33m=\u001b[0m \u001b[0mresults_analysis\u001b[0m\u001b[1;33m(\u001b[0m \u001b[0my_data\u001b[0m\u001b[1;33m[\u001b[0m\u001b[0midy\u001b[0m\u001b[1;33m]\u001b[0m\u001b[1;33m,\u001b[0m \u001b[0mmodel\u001b[0m\u001b[1;33m.\u001b[0m\u001b[0mpredict\u001b[0m\u001b[1;33m(\u001b[0m\u001b[0mX_data\u001b[0m\u001b[1;33m[\u001b[0m\u001b[0midy\u001b[0m\u001b[1;33m]\u001b[0m\u001b[1;33m)\u001b[0m\u001b[1;33m)\u001b[0m\u001b[1;33m\u001b[0m\u001b[1;33m\u001b[0m\u001b[0m\n\u001b[0m\u001b[0;32m     31\u001b[0m                 \u001b[1;32mfor\u001b[0m \u001b[0mx\u001b[0m \u001b[1;32min\u001b[0m \u001b[0mdata\u001b[0m\u001b[1;33m:\u001b[0m\u001b[1;33m\u001b[0m\u001b[1;33m\u001b[0m\u001b[0m\n\u001b[0;32m     32\u001b[0m                     \u001b[0mdata\u001b[0m\u001b[1;33m[\u001b[0m\u001b[0mx\u001b[0m\u001b[1;33m]\u001b[0m\u001b[1;33m.\u001b[0m\u001b[0mappend\u001b[0m\u001b[1;33m(\u001b[0m\u001b[0mcm\u001b[0m\u001b[1;33m[\u001b[0m\u001b[0mx\u001b[0m\u001b[1;33m]\u001b[0m\u001b[1;33m[\u001b[0m\u001b[1;36m0\u001b[0m\u001b[1;33m]\u001b[0m \u001b[1;33m)\u001b[0m\u001b[1;33m\u001b[0m\u001b[1;33m\u001b[0m\u001b[0m\n",
      "\u001b[1;32mc:\\Users\\Usuario\\Desktop\\Uni\\DataDaniMAPSIV\\PSIV\\02-Cancer_diagnosis\\code\\results_analysis.py\u001b[0m in \u001b[0;36mresults_analysis\u001b[1;34m(gt, y_pred)\u001b[0m\n\u001b[0;32m     13\u001b[0m     \u001b[0mdf\u001b[0m\u001b[1;33m[\u001b[0m\u001b[1;34m'recall'\u001b[0m\u001b[1;33m]\u001b[0m \u001b[1;33m=\u001b[0m \u001b[1;33m[\u001b[0m\u001b[0mmetric\u001b[0m\u001b[1;33m.\u001b[0m\u001b[0mrecall_score\u001b[0m\u001b[1;33m(\u001b[0m\u001b[0mgt\u001b[0m\u001b[1;33m,\u001b[0m \u001b[0my_pred\u001b[0m\u001b[1;33m)\u001b[0m\u001b[1;33m]\u001b[0m \u001b[1;31m#tp / (tp + fn)\u001b[0m\u001b[1;33m\u001b[0m\u001b[1;33m\u001b[0m\u001b[0m\n\u001b[0;32m     14\u001b[0m     \u001b[0mcm\u001b[0m \u001b[1;33m=\u001b[0m \u001b[0mmetric\u001b[0m\u001b[1;33m.\u001b[0m\u001b[0mconfusion_matrix\u001b[0m\u001b[1;33m(\u001b[0m\u001b[0mgt\u001b[0m\u001b[1;33m,\u001b[0m \u001b[0my_pred\u001b[0m\u001b[1;33m)\u001b[0m\u001b[1;33m\u001b[0m\u001b[1;33m\u001b[0m\u001b[0m\n\u001b[1;32m---> 15\u001b[1;33m     cm = {'tn': [cm[0, 0]], 'fp': [cm[0, 1]],\n\u001b[0m\u001b[0;32m     16\u001b[0m             'fn': [cm[1, 0]], 'tp': [cm[1, 1]]}\n\u001b[0;32m     17\u001b[0m \u001b[1;33m\u001b[0m\u001b[0m\n",
      "\u001b[1;31mIndexError\u001b[0m: index 1 is out of bounds for axis 1 with size 1"
     ]
    }
   ],
   "source": [
    "results(X_data_curated,y_data_curated,'SVM', 5)"
   ]
  },
  {
   "cell_type": "markdown",
   "metadata": {},
   "source": [
    "## KNN"
   ]
  },
  {
   "cell_type": "code",
   "execution_count": null,
   "metadata": {},
   "outputs": [
    {
     "name": "stdout",
     "output_type": "stream",
     "text": [
      "[INFO] The best parameters are {'algorithm': 'auto', 'n_neighbors': 3, 'p': 1}\n",
      "[INFO] The best score is 0.8000\n",
      "[INFO] The best parameters according to ci are {'algorithm': 'auto', 'n_neighbors': 3, 'p': 1}\n",
      "[INFO] Train acc  is : 0.7755\n"
     ]
    }
   ],
   "source": [
    "knn = ModelHandler(X = X_data_curated, Y = y_data_curated, model = 'KNN', n_splits = 5)\n",
    "knn.fit(True,True)"
   ]
  },
  {
   "cell_type": "code",
   "execution_count": null,
   "metadata": {},
   "outputs": [
    {
     "data": {
      "text/html": [
       "<div>\n",
       "<style scoped>\n",
       "    .dataframe tbody tr th:only-of-type {\n",
       "        vertical-align: middle;\n",
       "    }\n",
       "\n",
       "    .dataframe tbody tr th {\n",
       "        vertical-align: top;\n",
       "    }\n",
       "\n",
       "    .dataframe thead th {\n",
       "        text-align: right;\n",
       "    }\n",
       "</style>\n",
       "<table border=\"1\" class=\"dataframe\">\n",
       "  <thead>\n",
       "    <tr style=\"text-align: right;\">\n",
       "      <th></th>\n",
       "      <th>params</th>\n",
       "      <th>split0_test_score</th>\n",
       "      <th>split1_test_score</th>\n",
       "      <th>split2_test_score</th>\n",
       "      <th>split3_test_score</th>\n",
       "      <th>split4_test_score</th>\n",
       "      <th>algorithm</th>\n",
       "      <th>n_neighbors</th>\n",
       "      <th>p</th>\n",
       "      <th>mean</th>\n",
       "      <th>sem</th>\n",
       "      <th>ci</th>\n",
       "      <th>sort</th>\n",
       "    </tr>\n",
       "  </thead>\n",
       "  <tbody>\n",
       "    <tr>\n",
       "      <th>0</th>\n",
       "      <td>{'algorithm': 'auto', 'n_neighbors': 3, 'p': 1}</td>\n",
       "      <td>0.8</td>\n",
       "      <td>0.8</td>\n",
       "      <td>0.8</td>\n",
       "      <td>0.8</td>\n",
       "      <td>0.8</td>\n",
       "      <td>auto</td>\n",
       "      <td>3</td>\n",
       "      <td>1</td>\n",
       "      <td>0.8</td>\n",
       "      <td>1.000000e-08</td>\n",
       "      <td>(0.799999972235549, 0.8000000277644511)</td>\n",
       "      <td>0.4</td>\n",
       "    </tr>\n",
       "    <tr>\n",
       "      <th>14</th>\n",
       "      <td>{'algorithm': 'ball_tree', 'n_neighbors': 9, '...</td>\n",
       "      <td>0.8</td>\n",
       "      <td>0.8</td>\n",
       "      <td>0.8</td>\n",
       "      <td>0.8</td>\n",
       "      <td>0.8</td>\n",
       "      <td>ball_tree</td>\n",
       "      <td>9</td>\n",
       "      <td>1</td>\n",
       "      <td>0.8</td>\n",
       "      <td>1.000000e-08</td>\n",
       "      <td>(0.799999972235549, 0.8000000277644511)</td>\n",
       "      <td>0.4</td>\n",
       "    </tr>\n",
       "    <tr>\n",
       "      <th>30</th>\n",
       "      <td>{'algorithm': 'brute', 'n_neighbors': 9, 'p': 1}</td>\n",
       "      <td>0.8</td>\n",
       "      <td>0.8</td>\n",
       "      <td>0.8</td>\n",
       "      <td>0.8</td>\n",
       "      <td>0.8</td>\n",
       "      <td>brute</td>\n",
       "      <td>9</td>\n",
       "      <td>1</td>\n",
       "      <td>0.8</td>\n",
       "      <td>1.000000e-08</td>\n",
       "      <td>(0.799999972235549, 0.8000000277644511)</td>\n",
       "      <td>0.4</td>\n",
       "    </tr>\n",
       "    <tr>\n",
       "      <th>29</th>\n",
       "      <td>{'algorithm': 'brute', 'n_neighbors': 7, 'p': 2}</td>\n",
       "      <td>0.8</td>\n",
       "      <td>0.8</td>\n",
       "      <td>0.8</td>\n",
       "      <td>0.8</td>\n",
       "      <td>0.8</td>\n",
       "      <td>brute</td>\n",
       "      <td>7</td>\n",
       "      <td>2</td>\n",
       "      <td>0.8</td>\n",
       "      <td>1.000000e-08</td>\n",
       "      <td>(0.799999972235549, 0.8000000277644511)</td>\n",
       "      <td>0.4</td>\n",
       "    </tr>\n",
       "    <tr>\n",
       "      <th>28</th>\n",
       "      <td>{'algorithm': 'brute', 'n_neighbors': 7, 'p': 1}</td>\n",
       "      <td>0.8</td>\n",
       "      <td>0.8</td>\n",
       "      <td>0.8</td>\n",
       "      <td>0.8</td>\n",
       "      <td>0.8</td>\n",
       "      <td>brute</td>\n",
       "      <td>7</td>\n",
       "      <td>1</td>\n",
       "      <td>0.8</td>\n",
       "      <td>1.000000e-08</td>\n",
       "      <td>(0.799999972235549, 0.8000000277644511)</td>\n",
       "      <td>0.4</td>\n",
       "    </tr>\n",
       "  </tbody>\n",
       "</table>\n",
       "</div>"
      ],
      "text/plain": [
       "                                               params  split0_test_score  \\\n",
       "0     {'algorithm': 'auto', 'n_neighbors': 3, 'p': 1}                0.8   \n",
       "14  {'algorithm': 'ball_tree', 'n_neighbors': 9, '...                0.8   \n",
       "30   {'algorithm': 'brute', 'n_neighbors': 9, 'p': 1}                0.8   \n",
       "29   {'algorithm': 'brute', 'n_neighbors': 7, 'p': 2}                0.8   \n",
       "28   {'algorithm': 'brute', 'n_neighbors': 7, 'p': 1}                0.8   \n",
       "\n",
       "    split1_test_score  split2_test_score  split3_test_score  \\\n",
       "0                 0.8                0.8                0.8   \n",
       "14                0.8                0.8                0.8   \n",
       "30                0.8                0.8                0.8   \n",
       "29                0.8                0.8                0.8   \n",
       "28                0.8                0.8                0.8   \n",
       "\n",
       "    split4_test_score  algorithm  n_neighbors  p  mean           sem  \\\n",
       "0                 0.8       auto            3  1   0.8  1.000000e-08   \n",
       "14                0.8  ball_tree            9  1   0.8  1.000000e-08   \n",
       "30                0.8      brute            9  1   0.8  1.000000e-08   \n",
       "29                0.8      brute            7  2   0.8  1.000000e-08   \n",
       "28                0.8      brute            7  1   0.8  1.000000e-08   \n",
       "\n",
       "                                         ci  sort  \n",
       "0   (0.799999972235549, 0.8000000277644511)   0.4  \n",
       "14  (0.799999972235549, 0.8000000277644511)   0.4  \n",
       "30  (0.799999972235549, 0.8000000277644511)   0.4  \n",
       "29  (0.799999972235549, 0.8000000277644511)   0.4  \n",
       "28  (0.799999972235549, 0.8000000277644511)   0.4  "
      ]
     },
     "execution_count": 13,
     "metadata": {},
     "output_type": "execute_result"
    }
   ],
   "source": [
    "knn.top_params(0.95, 5)"
   ]
  },
  {
   "cell_type": "code",
   "execution_count": null,
   "metadata": {},
   "outputs": [
    {
     "name": "stderr",
     "output_type": "stream",
     "text": [
      "findfont: Font family ['Gill Sans'] not found. Falling back to DejaVu Sans.\n",
      "findfont: Font family ['Gill Sans'] not found. Falling back to DejaVu Sans.\n"
     ]
    },
    {
     "data": {
      "image/png": "[encoded data removed]",
      "text/plain": [
       "<Figure size 936x432 with 1 Axes>"
      ]
     },
     "metadata": {},
     "output_type": "display_data"
    }
   ],
   "source": [
    "knn.boxplots(30)"
   ]
  },
  {
   "cell_type": "code",
   "execution_count": null,
   "metadata": {},
   "outputs": [],
   "source": [
    "results(X_data_curated,y_data_curated,'KNN', 5)"
   ]
  },
  {
   "cell_type": "markdown",
   "metadata": {},
   "source": [
    "## Decision Tree"
   ]
  },
  {
   "cell_type": "code",
   "execution_count": null,
   "metadata": {},
   "outputs": [
    {
     "name": "stdout",
     "output_type": "stream",
     "text": [
      "[INFO] The best parameters are {'criterion': 'entropy', 'max_features': 'log2', 'splitter': 'best'}\n",
      "[INFO] The best score is 0.7000\n",
      "[INFO] The best parameters according to ci are {'criterion': 'gini', 'max_features': 'log2', 'splitter': 'best'}\n",
      "[INFO] Train acc  is : 1.0000\n"
     ]
    }
   ],
   "source": [
    "dt = ModelHandler(X = X_data_curated, Y = y_data_curated, model = 'DT', n_splits = 5)\n",
    "dt.fit(True,True)"
   ]
  },
  {
   "cell_type": "code",
   "execution_count": null,
   "metadata": {},
   "outputs": [
    {
     "data": {
      "text/html": [
       "<div>\n",
       "<style scoped>\n",
       "    .dataframe tbody tr th:only-of-type {\n",
       "        vertical-align: middle;\n",
       "    }\n",
       "\n",
       "    .dataframe tbody tr th {\n",
       "        vertical-align: top;\n",
       "    }\n",
       "\n",
       "    .dataframe thead th {\n",
       "        text-align: right;\n",
       "    }\n",
       "</style>\n",
       "<table border=\"1\" class=\"dataframe\">\n",
       "  <thead>\n",
       "    <tr style=\"text-align: right;\">\n",
       "      <th></th>\n",
       "      <th>params</th>\n",
       "      <th>split0_test_score</th>\n",
       "      <th>split1_test_score</th>\n",
       "      <th>split2_test_score</th>\n",
       "      <th>split3_test_score</th>\n",
       "      <th>split4_test_score</th>\n",
       "      <th>criterion</th>\n",
       "      <th>max_features</th>\n",
       "      <th>splitter</th>\n",
       "      <th>mean</th>\n",
       "      <th>sem</th>\n",
       "      <th>ci</th>\n",
       "      <th>sort</th>\n",
       "    </tr>\n",
       "  </thead>\n",
       "  <tbody>\n",
       "    <tr>\n",
       "      <th>4</th>\n",
       "      <td>{'criterion': 'gini', 'max_features': 'log2', ...</td>\n",
       "      <td>0.6</td>\n",
       "      <td>0.7</td>\n",
       "      <td>0.6</td>\n",
       "      <td>0.7</td>\n",
       "      <td>0.7</td>\n",
       "      <td>gini</td>\n",
       "      <td>log2</td>\n",
       "      <td>best</td>\n",
       "      <td>0.66</td>\n",
       "      <td>0.024495</td>\n",
       "      <td>(0.5919912341697232, 0.7280087658302766)</td>\n",
       "      <td>0.295996</td>\n",
       "    </tr>\n",
       "    <tr>\n",
       "      <th>10</th>\n",
       "      <td>{'criterion': 'entropy', 'max_features': 'log2...</td>\n",
       "      <td>0.6</td>\n",
       "      <td>0.8</td>\n",
       "      <td>0.6</td>\n",
       "      <td>0.7</td>\n",
       "      <td>0.8</td>\n",
       "      <td>entropy</td>\n",
       "      <td>log2</td>\n",
       "      <td>best</td>\n",
       "      <td>0.70</td>\n",
       "      <td>0.044721</td>\n",
       "      <td>(0.5758335724151722, 0.8241664275848277)</td>\n",
       "      <td>0.287917</td>\n",
       "    </tr>\n",
       "    <tr>\n",
       "      <th>2</th>\n",
       "      <td>{'criterion': 'gini', 'max_features': 'sqrt', ...</td>\n",
       "      <td>0.7</td>\n",
       "      <td>0.5</td>\n",
       "      <td>0.6</td>\n",
       "      <td>0.7</td>\n",
       "      <td>0.7</td>\n",
       "      <td>gini</td>\n",
       "      <td>sqrt</td>\n",
       "      <td>best</td>\n",
       "      <td>0.64</td>\n",
       "      <td>0.040000</td>\n",
       "      <td>(0.528942168027637, 0.751057831972363)</td>\n",
       "      <td>0.264471</td>\n",
       "    </tr>\n",
       "    <tr>\n",
       "      <th>9</th>\n",
       "      <td>{'criterion': 'entropy', 'max_features': 'sqrt...</td>\n",
       "      <td>0.7</td>\n",
       "      <td>0.6</td>\n",
       "      <td>0.7</td>\n",
       "      <td>0.6</td>\n",
       "      <td>0.5</td>\n",
       "      <td>entropy</td>\n",
       "      <td>sqrt</td>\n",
       "      <td>random</td>\n",
       "      <td>0.62</td>\n",
       "      <td>0.037417</td>\n",
       "      <td>(0.5161149088671919, 0.7238850911328079)</td>\n",
       "      <td>0.258057</td>\n",
       "    </tr>\n",
       "    <tr>\n",
       "      <th>5</th>\n",
       "      <td>{'criterion': 'gini', 'max_features': 'log2', ...</td>\n",
       "      <td>0.5</td>\n",
       "      <td>0.6</td>\n",
       "      <td>0.8</td>\n",
       "      <td>0.6</td>\n",
       "      <td>0.9</td>\n",
       "      <td>gini</td>\n",
       "      <td>log2</td>\n",
       "      <td>random</td>\n",
       "      <td>0.68</td>\n",
       "      <td>0.073485</td>\n",
       "      <td>(0.47597375803807174, 0.8840262419619281)</td>\n",
       "      <td>0.237987</td>\n",
       "    </tr>\n",
       "  </tbody>\n",
       "</table>\n",
       "</div>"
      ],
      "text/plain": [
       "                                               params  split0_test_score  \\\n",
       "4   {'criterion': 'gini', 'max_features': 'log2', ...                0.6   \n",
       "10  {'criterion': 'entropy', 'max_features': 'log2...                0.6   \n",
       "2   {'criterion': 'gini', 'max_features': 'sqrt', ...                0.7   \n",
       "9   {'criterion': 'entropy', 'max_features': 'sqrt...                0.7   \n",
       "5   {'criterion': 'gini', 'max_features': 'log2', ...                0.5   \n",
       "\n",
       "    split1_test_score  split2_test_score  split3_test_score  \\\n",
       "4                 0.7                0.6                0.7   \n",
       "10                0.8                0.6                0.7   \n",
       "2                 0.5                0.6                0.7   \n",
       "9                 0.6                0.7                0.6   \n",
       "5                 0.6                0.8                0.6   \n",
       "\n",
       "    split4_test_score criterion max_features splitter  mean       sem  \\\n",
       "4                 0.7      gini         log2     best  0.66  0.024495   \n",
       "10                0.8   entropy         log2     best  0.70  0.044721   \n",
       "2                 0.7      gini         sqrt     best  0.64  0.040000   \n",
       "9                 0.5   entropy         sqrt   random  0.62  0.037417   \n",
       "5                 0.9      gini         log2   random  0.68  0.073485   \n",
       "\n",
       "                                           ci      sort  \n",
       "4    (0.5919912341697232, 0.7280087658302766)  0.295996  \n",
       "10   (0.5758335724151722, 0.8241664275848277)  0.287917  \n",
       "2      (0.528942168027637, 0.751057831972363)  0.264471  \n",
       "9    (0.5161149088671919, 0.7238850911328079)  0.258057  \n",
       "5   (0.47597375803807174, 0.8840262419619281)  0.237987  "
      ]
     },
     "execution_count": 16,
     "metadata": {},
     "output_type": "execute_result"
    }
   ],
   "source": [
    "dt.top_params(0.95, 5)"
   ]
  },
  {
   "cell_type": "code",
   "execution_count": null,
   "metadata": {},
   "outputs": [
    {
     "data": {
      "image/png": "[encoded data removed]",
      "text/plain": [
       "<Figure size 936x432 with 1 Axes>"
      ]
     },
     "metadata": {},
     "output_type": "display_data"
    }
   ],
   "source": [
    "dt.boxplots(5)"
   ]
  },
  {
   "cell_type": "code",
   "execution_count": null,
   "metadata": {},
   "outputs": [],
   "source": [
    "results(X_data_curated,y_data_curated,'DT', 5)"
   ]
  },
  {
   "cell_type": "code",
   "execution_count": null,
   "metadata": {},
   "outputs": [],
   "source": []
  },
  {
   "cell_type": "code",
   "execution_count": 11,
   "metadata": {},
   "outputs": [],
   "source": [
    "from results_analysis import results_analysis\n",
    "import sklearn\n",
    "from configparser import NoSectionError\n",
    "import sklearn.metrics as metric\n",
    "import pandas as pd\n",
    "from model import ModelHandler\n",
    "from sklearn.model_selection import KFold\n",
    "import pandas as pd\n",
    "from Classifier import CancerClassifier\n",
    "import torch\n",
    "import torchvision.transforms as T\n",
    "from torch.optim import AdamW\n",
    "def results_deep(X_data, y_data, MODEL_PATH, NSPLITS,epochs=20,LR=1e-3):\n",
    "        \n",
    "        kf = sklearn.model_selection.StratifiedKFold(n_splits = NSPLITS, shuffle = True)\n",
    "        loss = torch.nn.BCELoss()\n",
    "        data = {'tp':[] , 'fp': [] , 'tn': [] , 'fn': []}\n",
    "        data2 = {'accuracy':[] , 'f1score': [] , 'recall': [] , 'precision': []}\n",
    "        index = ['split'+str(x) for x in range(NSPLITS)]\n",
    "        transform = T.Compose([T.Normalize(mean = (-640 ) , std=(380))])\n",
    "        i=0\n",
    "        for idx, idy in kf.split(X_data, y_data):\n",
    "                model = CancerClassifier(MODEL_PATH).cuda()\n",
    "                optimizer = AdamW(model.parameters(), lr = LR)\n",
    "                for k in range(epochs):\n",
    "                       print(f\"Epoch {k} // split {i}\")\n",
    "                       for img,gt in zip(X_data[idx],y_data[idx]):\n",
    "                               optimizer.zero_grad()\n",
    "                               gt = torch.Tensor(1)\n",
    "                               t,y = transform(torch.from_numpy(img)).reshape(14,1,64,64).float().cuda(), torch.tensor(gt)\n",
    "                               gt[0] = y\n",
    "                               out = model(t)\n",
    "                               #acc += 1 if (out>=0.5) == int(y) else 0 \n",
    "                               loss_ = loss(out, gt.float().cuda())\n",
    "                               if out<= 0.5 and gt ==1:\n",
    "                                       loss_ *= 0.5\n",
    "                               loss_.backward()\n",
    "                final = []\n",
    "                for img,gt in zip(X_data[idy],y_data[idy]):\n",
    "                        out = model(t)\n",
    "                        final.append(out.item() >= 0.5)\n",
    "                df, cm  = results_analysis( y_data[idy], final)\n",
    "                for x in data:\n",
    "                    data[x].append(cm[x][0] )\n",
    "                for x in data2:   \n",
    "                    data2[x].append(df[x][0])\n",
    "                i+=1\n",
    "        data = pd.DataFrame(data)\n",
    "        data.index = index\n",
    "        data2 = pd.DataFrame(data2)\n",
    "        data2.index = index\n",
    "        from IPython.display import display, HTML\n",
    "\n",
    "        css = \"\"\"\n",
    "        .output {\n",
    "        flex-direction: row;\n",
    "        }\n",
    "        \"\"\"\n",
    "\n",
    "        HTML('<style>{}</style>'.format(css))\n",
    "        display(data)\n",
    "        display(data2)"
   ]
  },
  {
   "cell_type": "code",
   "execution_count": 13,
   "metadata": {},
   "outputs": [
    {
     "name": "stdout",
     "output_type": "stream",
     "text": [
      "Epoch 0 // split 0\n"
     ]
    },
    {
     "name": "stderr",
     "output_type": "stream",
     "text": [
      "C:\\Users\\Usuario\\AppData\\Local\\Temp/ipykernel_10396/561314974.py:30: UserWarning: To copy construct from a tensor, it is recommended to use sourceTensor.clone().detach() or sourceTensor.clone().detach().requires_grad_(True), rather than torch.tensor(sourceTensor).\n",
      "  t,y = transform(torch.from_numpy(img)).reshape(14,1,64,64).float().cuda(), torch.tensor(gt)\n"
     ]
    },
    {
     "name": "stdout",
     "output_type": "stream",
     "text": [
      "Epoch 1 // split 0\n",
      "Epoch 2 // split 0\n",
      "Epoch 3 // split 0\n",
      "Epoch 4 // split 0\n",
      "Epoch 5 // split 0\n",
      "Epoch 6 // split 0\n",
      "Epoch 7 // split 0\n",
      "Epoch 8 // split 0\n",
      "Epoch 9 // split 0\n",
      "Epoch 10 // split 0\n",
      "Epoch 11 // split 0\n",
      "Epoch 12 // split 0\n",
      "Epoch 13 // split 0\n",
      "Epoch 14 // split 0\n",
      "Epoch 15 // split 0\n",
      "Epoch 16 // split 0\n",
      "Epoch 17 // split 0\n",
      "Epoch 18 // split 0\n",
      "Epoch 19 // split 0\n",
      "Epoch 20 // split 0\n",
      "Epoch 21 // split 0\n",
      "Epoch 22 // split 0\n",
      "Epoch 23 // split 0\n",
      "Epoch 24 // split 0\n",
      "Epoch 25 // split 0\n",
      "Epoch 26 // split 0\n",
      "Epoch 27 // split 0\n",
      "Epoch 28 // split 0\n",
      "Epoch 29 // split 0\n"
     ]
    },
    {
     "name": "stderr",
     "output_type": "stream",
     "text": [
      "C:\\Users\\Usuario\\AppData\\Local\\Packages\\PythonSoftwareFoundation.Python.3.9_qbz5n2kfra8p0\\LocalCache\\local-packages\\Python39\\site-packages\\sklearn\\metrics\\_classification.py:1318: UndefinedMetricWarning: Precision is ill-defined and being set to 0.0 due to no predicted samples. Use `zero_division` parameter to control this behavior.\n",
      "  _warn_prf(average, modifier, msg_start, len(result))\n",
      "C:\\Users\\Usuario\\AppData\\Local\\Temp/ipykernel_10396/561314974.py:30: UserWarning: To copy construct from a tensor, it is recommended to use sourceTensor.clone().detach() or sourceTensor.clone().detach().requires_grad_(True), rather than torch.tensor(sourceTensor).\n",
      "  t,y = transform(torch.from_numpy(img)).reshape(14,1,64,64).float().cuda(), torch.tensor(gt)\n"
     ]
    },
    {
     "name": "stdout",
     "output_type": "stream",
     "text": [
      "Epoch 0 // split 1\n",
      "Epoch 1 // split 1\n",
      "Epoch 2 // split 1\n",
      "Epoch 3 // split 1\n",
      "Epoch 4 // split 1\n",
      "Epoch 5 // split 1\n",
      "Epoch 6 // split 1\n",
      "Epoch 7 // split 1\n",
      "Epoch 8 // split 1\n",
      "Epoch 9 // split 1\n",
      "Epoch 10 // split 1\n",
      "Epoch 11 // split 1\n",
      "Epoch 12 // split 1\n",
      "Epoch 13 // split 1\n",
      "Epoch 14 // split 1\n",
      "Epoch 15 // split 1\n",
      "Epoch 16 // split 1\n",
      "Epoch 17 // split 1\n",
      "Epoch 18 // split 1\n",
      "Epoch 19 // split 1\n",
      "Epoch 20 // split 1\n",
      "Epoch 21 // split 1\n",
      "Epoch 22 // split 1\n",
      "Epoch 23 // split 1\n",
      "Epoch 24 // split 1\n",
      "Epoch 25 // split 1\n",
      "Epoch 26 // split 1\n",
      "Epoch 27 // split 1\n",
      "Epoch 28 // split 1\n",
      "Epoch 29 // split 1\n",
      "Epoch 0 // split 2\n"
     ]
    },
    {
     "name": "stderr",
     "output_type": "stream",
     "text": [
      "C:\\Users\\Usuario\\AppData\\Local\\Temp/ipykernel_10396/561314974.py:30: UserWarning: To copy construct from a tensor, it is recommended to use sourceTensor.clone().detach() or sourceTensor.clone().detach().requires_grad_(True), rather than torch.tensor(sourceTensor).\n",
      "  t,y = transform(torch.from_numpy(img)).reshape(14,1,64,64).float().cuda(), torch.tensor(gt)\n"
     ]
    },
    {
     "name": "stdout",
     "output_type": "stream",
     "text": [
      "Epoch 1 // split 2\n",
      "Epoch 2 // split 2\n",
      "Epoch 3 // split 2\n",
      "Epoch 4 // split 2\n",
      "Epoch 5 // split 2\n",
      "Epoch 6 // split 2\n",
      "Epoch 7 // split 2\n",
      "Epoch 8 // split 2\n",
      "Epoch 9 // split 2\n",
      "Epoch 10 // split 2\n",
      "Epoch 11 // split 2\n",
      "Epoch 12 // split 2\n",
      "Epoch 13 // split 2\n",
      "Epoch 14 // split 2\n",
      "Epoch 15 // split 2\n",
      "Epoch 16 // split 2\n",
      "Epoch 17 // split 2\n",
      "Epoch 18 // split 2\n",
      "Epoch 19 // split 2\n",
      "Epoch 20 // split 2\n",
      "Epoch 21 // split 2\n",
      "Epoch 22 // split 2\n",
      "Epoch 23 // split 2\n",
      "Epoch 24 // split 2\n",
      "Epoch 25 // split 2\n",
      "Epoch 26 // split 2\n",
      "Epoch 27 // split 2\n",
      "Epoch 28 // split 2\n",
      "Epoch 29 // split 2\n"
     ]
    },
    {
     "name": "stderr",
     "output_type": "stream",
     "text": [
      "C:\\Users\\Usuario\\AppData\\Local\\Packages\\PythonSoftwareFoundation.Python.3.9_qbz5n2kfra8p0\\LocalCache\\local-packages\\Python39\\site-packages\\sklearn\\metrics\\_classification.py:1318: UndefinedMetricWarning: Precision is ill-defined and being set to 0.0 due to no predicted samples. Use `zero_division` parameter to control this behavior.\n",
      "  _warn_prf(average, modifier, msg_start, len(result))\n",
      "C:\\Users\\Usuario\\AppData\\Local\\Temp/ipykernel_10396/561314974.py:30: UserWarning: To copy construct from a tensor, it is recommended to use sourceTensor.clone().detach() or sourceTensor.clone().detach().requires_grad_(True), rather than torch.tensor(sourceTensor).\n",
      "  t,y = transform(torch.from_numpy(img)).reshape(14,1,64,64).float().cuda(), torch.tensor(gt)\n"
     ]
    },
    {
     "name": "stdout",
     "output_type": "stream",
     "text": [
      "Epoch 0 // split 3\n",
      "Epoch 1 // split 3\n",
      "Epoch 2 // split 3\n",
      "Epoch 3 // split 3\n",
      "Epoch 4 // split 3\n",
      "Epoch 5 // split 3\n",
      "Epoch 6 // split 3\n",
      "Epoch 7 // split 3\n",
      "Epoch 8 // split 3\n",
      "Epoch 9 // split 3\n",
      "Epoch 10 // split 3\n",
      "Epoch 11 // split 3\n",
      "Epoch 12 // split 3\n",
      "Epoch 13 // split 3\n",
      "Epoch 14 // split 3\n",
      "Epoch 15 // split 3\n",
      "Epoch 16 // split 3\n",
      "Epoch 17 // split 3\n",
      "Epoch 18 // split 3\n",
      "Epoch 19 // split 3\n",
      "Epoch 20 // split 3\n",
      "Epoch 21 // split 3\n",
      "Epoch 22 // split 3\n",
      "Epoch 23 // split 3\n",
      "Epoch 24 // split 3\n",
      "Epoch 25 // split 3\n",
      "Epoch 26 // split 3\n",
      "Epoch 27 // split 3\n",
      "Epoch 28 // split 3\n",
      "Epoch 29 // split 3\n"
     ]
    },
    {
     "name": "stderr",
     "output_type": "stream",
     "text": [
      "C:\\Users\\Usuario\\AppData\\Local\\Packages\\PythonSoftwareFoundation.Python.3.9_qbz5n2kfra8p0\\LocalCache\\local-packages\\Python39\\site-packages\\sklearn\\metrics\\_classification.py:1318: UndefinedMetricWarning: Precision is ill-defined and being set to 0.0 due to no predicted samples. Use `zero_division` parameter to control this behavior.\n",
      "  _warn_prf(average, modifier, msg_start, len(result))\n",
      "C:\\Users\\Usuario\\AppData\\Local\\Temp/ipykernel_10396/561314974.py:30: UserWarning: To copy construct from a tensor, it is recommended to use sourceTensor.clone().detach() or sourceTensor.clone().detach().requires_grad_(True), rather than torch.tensor(sourceTensor).\n",
      "  t,y = transform(torch.from_numpy(img)).reshape(14,1,64,64).float().cuda(), torch.tensor(gt)\n"
     ]
    },
    {
     "name": "stdout",
     "output_type": "stream",
     "text": [
      "Epoch 0 // split 4\n",
      "Epoch 1 // split 4\n",
      "Epoch 2 // split 4\n",
      "Epoch 3 // split 4\n",
      "Epoch 4 // split 4\n",
      "Epoch 5 // split 4\n",
      "Epoch 6 // split 4\n",
      "Epoch 7 // split 4\n",
      "Epoch 8 // split 4\n",
      "Epoch 9 // split 4\n",
      "Epoch 10 // split 4\n",
      "Epoch 11 // split 4\n",
      "Epoch 12 // split 4\n",
      "Epoch 13 // split 4\n",
      "Epoch 14 // split 4\n",
      "Epoch 15 // split 4\n",
      "Epoch 16 // split 4\n",
      "Epoch 17 // split 4\n",
      "Epoch 18 // split 4\n",
      "Epoch 19 // split 4\n",
      "Epoch 20 // split 4\n",
      "Epoch 21 // split 4\n",
      "Epoch 22 // split 4\n",
      "Epoch 23 // split 4\n",
      "Epoch 24 // split 4\n",
      "Epoch 25 // split 4\n",
      "Epoch 26 // split 4\n",
      "Epoch 27 // split 4\n",
      "Epoch 28 // split 4\n",
      "Epoch 29 // split 4\n"
     ]
    },
    {
     "data": {
      "text/html": [
       "<div>\n",
       "<style scoped>\n",
       "    .dataframe tbody tr th:only-of-type {\n",
       "        vertical-align: middle;\n",
       "    }\n",
       "\n",
       "    .dataframe tbody tr th {\n",
       "        vertical-align: top;\n",
       "    }\n",
       "\n",
       "    .dataframe thead th {\n",
       "        text-align: right;\n",
       "    }\n",
       "</style>\n",
       "<table border=\"1\" class=\"dataframe\">\n",
       "  <thead>\n",
       "    <tr style=\"text-align: right;\">\n",
       "      <th></th>\n",
       "      <th>tp</th>\n",
       "      <th>fp</th>\n",
       "      <th>tn</th>\n",
       "      <th>fn</th>\n",
       "    </tr>\n",
       "  </thead>\n",
       "  <tbody>\n",
       "    <tr>\n",
       "      <th>split0</th>\n",
       "      <td>0</td>\n",
       "      <td>0</td>\n",
       "      <td>2</td>\n",
       "      <td>8</td>\n",
       "    </tr>\n",
       "    <tr>\n",
       "      <th>split1</th>\n",
       "      <td>8</td>\n",
       "      <td>2</td>\n",
       "      <td>0</td>\n",
       "      <td>0</td>\n",
       "    </tr>\n",
       "    <tr>\n",
       "      <th>split2</th>\n",
       "      <td>0</td>\n",
       "      <td>0</td>\n",
       "      <td>2</td>\n",
       "      <td>8</td>\n",
       "    </tr>\n",
       "    <tr>\n",
       "      <th>split3</th>\n",
       "      <td>0</td>\n",
       "      <td>0</td>\n",
       "      <td>2</td>\n",
       "      <td>8</td>\n",
       "    </tr>\n",
       "    <tr>\n",
       "      <th>split4</th>\n",
       "      <td>8</td>\n",
       "      <td>1</td>\n",
       "      <td>0</td>\n",
       "      <td>0</td>\n",
       "    </tr>\n",
       "  </tbody>\n",
       "</table>\n",
       "</div>"
      ],
      "text/plain": [
       "        tp  fp  tn  fn\n",
       "split0   0   0   2   8\n",
       "split1   8   2   0   0\n",
       "split2   0   0   2   8\n",
       "split3   0   0   2   8\n",
       "split4   8   1   0   0"
      ]
     },
     "metadata": {},
     "output_type": "display_data"
    },
    {
     "data": {
      "text/html": [
       "<div>\n",
       "<style scoped>\n",
       "    .dataframe tbody tr th:only-of-type {\n",
       "        vertical-align: middle;\n",
       "    }\n",
       "\n",
       "    .dataframe tbody tr th {\n",
       "        vertical-align: top;\n",
       "    }\n",
       "\n",
       "    .dataframe thead th {\n",
       "        text-align: right;\n",
       "    }\n",
       "</style>\n",
       "<table border=\"1\" class=\"dataframe\">\n",
       "  <thead>\n",
       "    <tr style=\"text-align: right;\">\n",
       "      <th></th>\n",
       "      <th>accuracy</th>\n",
       "      <th>f1score</th>\n",
       "      <th>recall</th>\n",
       "      <th>precision</th>\n",
       "    </tr>\n",
       "  </thead>\n",
       "  <tbody>\n",
       "    <tr>\n",
       "      <th>split0</th>\n",
       "      <td>0.200000</td>\n",
       "      <td>0.000000</td>\n",
       "      <td>0.0</td>\n",
       "      <td>0.000000</td>\n",
       "    </tr>\n",
       "    <tr>\n",
       "      <th>split1</th>\n",
       "      <td>0.800000</td>\n",
       "      <td>0.888889</td>\n",
       "      <td>1.0</td>\n",
       "      <td>0.800000</td>\n",
       "    </tr>\n",
       "    <tr>\n",
       "      <th>split2</th>\n",
       "      <td>0.200000</td>\n",
       "      <td>0.000000</td>\n",
       "      <td>0.0</td>\n",
       "      <td>0.000000</td>\n",
       "    </tr>\n",
       "    <tr>\n",
       "      <th>split3</th>\n",
       "      <td>0.200000</td>\n",
       "      <td>0.000000</td>\n",
       "      <td>0.0</td>\n",
       "      <td>0.000000</td>\n",
       "    </tr>\n",
       "    <tr>\n",
       "      <th>split4</th>\n",
       "      <td>0.888889</td>\n",
       "      <td>0.941176</td>\n",
       "      <td>1.0</td>\n",
       "      <td>0.888889</td>\n",
       "    </tr>\n",
       "  </tbody>\n",
       "</table>\n",
       "</div>"
      ],
      "text/plain": [
       "        accuracy   f1score  recall  precision\n",
       "split0  0.200000  0.000000     0.0   0.000000\n",
       "split1  0.800000  0.888889     1.0   0.800000\n",
       "split2  0.200000  0.000000     0.0   0.000000\n",
       "split3  0.200000  0.000000     0.0   0.000000\n",
       "split4  0.888889  0.941176     1.0   0.888889"
      ]
     },
     "metadata": {},
     "output_type": "display_data"
    }
   ],
   "source": [
    "results_deep(X_data_curated, y_data_curated, \"C:/Users/Usuario/Desktop/Uni/DataDaniMAPSIV/PSIV/02-Cancer_diagnosis/code/unet_segment.pth\", 5,epochs=30,  LR=1e-3)"
   ]
  },
  {
   "cell_type": "code",
   "execution_count": null,
   "metadata": {},
   "outputs": [],
   "source": []
  }
 ],
 "metadata": {
  "interpreter": {
   "hash": "916dbcbb3f70747c44a77c7bcd40155683ae19c65e1c03b4aa3499c5328201f1"
  },
  "kernelspec": {
   "display_name": "Python 3.8.10 64-bit",
   "language": "python",
   "name": "python3"
  },
  "language_info": {
   "codemirror_mode": {
    "name": "ipython",
    "version": 3
   },
   "file_extension": ".py",
   "mimetype": "text/x-python",
   "name": "python",
   "nbconvert_exporter": "python",
   "pygments_lexer": "ipython3",
   "version": "3.9.9"
  },
  "orig_nbformat": 4
 },
 "nbformat": 4,
 "nbformat_minor": 2
}
