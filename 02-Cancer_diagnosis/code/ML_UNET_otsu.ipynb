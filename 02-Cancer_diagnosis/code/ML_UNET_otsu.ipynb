{
 "cells": [
  {
   "cell_type": "code",
   "execution_count": 1,
   "metadata": {},
   "outputs": [],
   "source": [
    "from model import ModelHandler\n",
    "from DataLoader import DiagnosisEnd2End\n",
    "import numpy as np\n",
    "import tqdm\n",
    "import torch\n",
    "from Unet2 import UNET\n",
    "\n",
    "from ImageTransformations import otsu, mnorm\n",
    "\n",
    "\n",
    "model = UNET(1, 1)\n",
    "model.load_state_dict(torch.load(\"unet_segment.pth\"))\n",
    "\n",
    "\n",
    "def otsu_norm_transf(x): return otsu(mnorm(x, -680, 340))"
   ]
  },
  {
   "cell_type": "markdown",
   "metadata": {},
   "source": [
    "## End2End Data"
   ]
  },
  {
   "cell_type": "code",
   "execution_count": 2,
   "metadata": {},
   "outputs": [],
   "source": [
    "path_segmentation = \"../data/Diagnosis/\"\n",
    "nodules_path = \"../data/Diagnosis/Radiolung_NoduleDiagnosis.csv\""
   ]
  },
  {
   "cell_type": "code",
   "execution_count": 3,
   "metadata": {},
   "outputs": [
    {
     "name": "stderr",
     "output_type": "stream",
     "text": [
      "  4%|▍         | 2/52 [00:05<02:03,  2.47s/it]"
     ]
    }
   ],
   "source": [
    "diagonis = DiagnosisEnd2End(path_segmentation, nodules_path)\n",
    "\n",
    "X_data_curated = np.zeros((47, 14, 64, 64))\n",
    "y_data_curated = np.zeros(47)\n",
    "i = 0\n",
    "\n",
    "for data in tqdm.tqdm(diagonis):\n",
    "    m = data['ROI'].shape[0]//2   \n",
    "    X_data_curated[i] = otsu_norm_transf(model(torch.from_numpy(data[\"ROI\"][m-7:m+7, :, :]).reshape((14, 1, 64, 64)).float()).detach().numpy().reshape((14, 64, 64)))\n",
    "    y_data_curated[i] = data['GT']\n",
    "    i+=1\n"
   ]
  },
  {
   "cell_type": "markdown",
   "metadata": {},
   "source": [
    "## SVM"
   ]
  },
  {
   "cell_type": "code",
   "execution_count": null,
   "metadata": {},
   "outputs": [
    {
     "name": "stdout",
     "output_type": "stream",
     "text": [
      "[INFO] The best parameters are {'C': 10.0, 'kernel': 'poly'}\n",
      "[INFO] The best score is 0.7800\n",
      "[INFO] The best parameters according to ci are {'C': 0.01, 'kernel': 'rbf'}\n",
      "[INFO] Train acc  is : 0.7234\n"
     ]
    }
   ],
   "source": [
    "svm = ModelHandler(X = X_data_curated, Y = y_data_curated, model = 'SVM', n_splits = 5)\n",
    "svm.fit(True,True)"
   ]
  },
  {
   "cell_type": "code",
   "execution_count": null,
   "metadata": {},
   "outputs": [
    {
     "data": {
      "text/html": [
       "<div>\n",
       "<style scoped>\n",
       "    .dataframe tbody tr th:only-of-type {\n",
       "        vertical-align: middle;\n",
       "    }\n",
       "\n",
       "    .dataframe tbody tr th {\n",
       "        vertical-align: top;\n",
       "    }\n",
       "\n",
       "    .dataframe thead th {\n",
       "        text-align: right;\n",
       "    }\n",
       "</style>\n",
       "<table border=\"1\" class=\"dataframe\">\n",
       "  <thead>\n",
       "    <tr style=\"text-align: right;\">\n",
       "      <th></th>\n",
       "      <th>params</th>\n",
       "      <th>split0_test_score</th>\n",
       "      <th>split1_test_score</th>\n",
       "      <th>split2_test_score</th>\n",
       "      <th>split3_test_score</th>\n",
       "      <th>split4_test_score</th>\n",
       "      <th>C</th>\n",
       "      <th>kernel</th>\n",
       "      <th>mean</th>\n",
       "      <th>sem</th>\n",
       "      <th>ci</th>\n",
       "      <th>sort</th>\n",
       "    </tr>\n",
       "  </thead>\n",
       "  <tbody>\n",
       "    <tr>\n",
       "      <th>2</th>\n",
       "      <td>{'C': 0.01, 'kernel': 'rbf'}</td>\n",
       "      <td>0.7</td>\n",
       "      <td>0.7</td>\n",
       "      <td>0.7</td>\n",
       "      <td>0.7</td>\n",
       "      <td>0.7</td>\n",
       "      <td>0.01</td>\n",
       "      <td>rbf</td>\n",
       "      <td>0.70</td>\n",
       "      <td>1.000000e-08</td>\n",
       "      <td>(0.6999999722355489, 0.700000027764451)</td>\n",
       "      <td>0.350000</td>\n",
       "    </tr>\n",
       "    <tr>\n",
       "      <th>3</th>\n",
       "      <td>{'C': 0.01, 'kernel': 'sigmoid'}</td>\n",
       "      <td>0.7</td>\n",
       "      <td>0.7</td>\n",
       "      <td>0.7</td>\n",
       "      <td>0.7</td>\n",
       "      <td>0.7</td>\n",
       "      <td>0.01</td>\n",
       "      <td>sigmoid</td>\n",
       "      <td>0.70</td>\n",
       "      <td>1.000000e-08</td>\n",
       "      <td>(0.6999999722355489, 0.700000027764451)</td>\n",
       "      <td>0.350000</td>\n",
       "    </tr>\n",
       "    <tr>\n",
       "      <th>1</th>\n",
       "      <td>{'C': 0.01, 'kernel': 'poly'}</td>\n",
       "      <td>0.7</td>\n",
       "      <td>0.7</td>\n",
       "      <td>0.7</td>\n",
       "      <td>0.7</td>\n",
       "      <td>0.7</td>\n",
       "      <td>0.01</td>\n",
       "      <td>poly</td>\n",
       "      <td>0.70</td>\n",
       "      <td>1.000000e-08</td>\n",
       "      <td>(0.6999999722355489, 0.700000027764451)</td>\n",
       "      <td>0.350000</td>\n",
       "    </tr>\n",
       "    <tr>\n",
       "      <th>10</th>\n",
       "      <td>{'C': 10000.0, 'kernel': 'rbf'}</td>\n",
       "      <td>0.7</td>\n",
       "      <td>0.8</td>\n",
       "      <td>0.9</td>\n",
       "      <td>0.8</td>\n",
       "      <td>0.7</td>\n",
       "      <td>10000.00</td>\n",
       "      <td>rbf</td>\n",
       "      <td>0.78</td>\n",
       "      <td>3.741658e-02</td>\n",
       "      <td>(0.6761149088671919, 0.8838850911328081)</td>\n",
       "      <td>0.338057</td>\n",
       "    </tr>\n",
       "    <tr>\n",
       "      <th>13</th>\n",
       "      <td>{'C': 10000000.0, 'kernel': 'poly'}</td>\n",
       "      <td>0.7</td>\n",
       "      <td>0.8</td>\n",
       "      <td>0.9</td>\n",
       "      <td>0.8</td>\n",
       "      <td>0.7</td>\n",
       "      <td>10000000.00</td>\n",
       "      <td>poly</td>\n",
       "      <td>0.78</td>\n",
       "      <td>3.741658e-02</td>\n",
       "      <td>(0.6761149088671919, 0.8838850911328081)</td>\n",
       "      <td>0.338057</td>\n",
       "    </tr>\n",
       "  </tbody>\n",
       "</table>\n",
       "</div>"
      ],
      "text/plain": [
       "                                 params  split0_test_score  split1_test_score  \\\n",
       "2          {'C': 0.01, 'kernel': 'rbf'}                0.7                0.7   \n",
       "3      {'C': 0.01, 'kernel': 'sigmoid'}                0.7                0.7   \n",
       "1         {'C': 0.01, 'kernel': 'poly'}                0.7                0.7   \n",
       "10      {'C': 10000.0, 'kernel': 'rbf'}                0.7                0.8   \n",
       "13  {'C': 10000000.0, 'kernel': 'poly'}                0.7                0.8   \n",
       "\n",
       "    split2_test_score  split3_test_score  split4_test_score            C  \\\n",
       "2                 0.7                0.7                0.7         0.01   \n",
       "3                 0.7                0.7                0.7         0.01   \n",
       "1                 0.7                0.7                0.7         0.01   \n",
       "10                0.9                0.8                0.7     10000.00   \n",
       "13                0.9                0.8                0.7  10000000.00   \n",
       "\n",
       "     kernel  mean           sem                                        ci  \\\n",
       "2       rbf  0.70  1.000000e-08   (0.6999999722355489, 0.700000027764451)   \n",
       "3   sigmoid  0.70  1.000000e-08   (0.6999999722355489, 0.700000027764451)   \n",
       "1      poly  0.70  1.000000e-08   (0.6999999722355489, 0.700000027764451)   \n",
       "10      rbf  0.78  3.741658e-02  (0.6761149088671919, 0.8838850911328081)   \n",
       "13     poly  0.78  3.741658e-02  (0.6761149088671919, 0.8838850911328081)   \n",
       "\n",
       "        sort  \n",
       "2   0.350000  \n",
       "3   0.350000  \n",
       "1   0.350000  \n",
       "10  0.338057  \n",
       "13  0.338057  "
      ]
     },
     "execution_count": 8,
     "metadata": {},
     "output_type": "execute_result"
    }
   ],
   "source": [
    "svm.top_params(0.95, 5)"
   ]
  },
  {
   "cell_type": "code",
   "execution_count": null,
   "metadata": {},
   "outputs": [
    {
     "name": "stderr",
     "output_type": "stream",
     "text": [
      "findfont: Font family ['Gill Sans'] not found. Falling back to DejaVu Sans.\n",
      "findfont: Font family ['Gill Sans'] not found. Falling back to DejaVu Sans.\n"
     ]
    },
    {
     "data": {
      "image/png": "[encoded data removed]",
      "text/plain": [
       "<Figure size 936x432 with 1 Axes>"
      ]
     },
     "metadata": {},
     "output_type": "display_data"
    }
   ],
   "source": [
    "svm.boxplots(20)"
   ]
  },
  {
   "cell_type": "markdown",
   "metadata": {},
   "source": [
    "## KNN"
   ]
  },
  {
   "cell_type": "code",
   "execution_count": null,
   "metadata": {},
   "outputs": [
    {
     "name": "stdout",
     "output_type": "stream",
     "text": [
      "[INFO] The best parameters are {'algorithm': 'auto', 'n_neighbors': 3, 'p': 1}\n",
      "[INFO] The best score is 0.6400\n",
      "[INFO] The best parameters according to ci are {'algorithm': 'auto', 'n_neighbors': 5, 'p': 1}\n",
      "[INFO] Train acc  is : 0.6809\n"
     ]
    }
   ],
   "source": [
    "knn = ModelHandler(X = X_data_curated, Y = y_data_curated, model = 'KNN', n_splits = 5)\n",
    "knn.fit(True,True)"
   ]
  },
  {
   "cell_type": "code",
   "execution_count": null,
   "metadata": {},
   "outputs": [
    {
     "data": {
      "text/html": [
       "<div>\n",
       "<style scoped>\n",
       "    .dataframe tbody tr th:only-of-type {\n",
       "        vertical-align: middle;\n",
       "    }\n",
       "\n",
       "    .dataframe tbody tr th {\n",
       "        vertical-align: top;\n",
       "    }\n",
       "\n",
       "    .dataframe thead th {\n",
       "        text-align: right;\n",
       "    }\n",
       "</style>\n",
       "<table border=\"1\" class=\"dataframe\">\n",
       "  <thead>\n",
       "    <tr style=\"text-align: right;\">\n",
       "      <th></th>\n",
       "      <th>params</th>\n",
       "      <th>split0_test_score</th>\n",
       "      <th>split1_test_score</th>\n",
       "      <th>split2_test_score</th>\n",
       "      <th>split3_test_score</th>\n",
       "      <th>split4_test_score</th>\n",
       "      <th>algorithm</th>\n",
       "      <th>n_neighbors</th>\n",
       "      <th>p</th>\n",
       "      <th>mean</th>\n",
       "      <th>sem</th>\n",
       "      <th>ci</th>\n",
       "      <th>sort</th>\n",
       "    </tr>\n",
       "  </thead>\n",
       "  <tbody>\n",
       "    <tr>\n",
       "      <th>2</th>\n",
       "      <td>{'algorithm': 'auto', 'n_neighbors': 5, 'p': 1}</td>\n",
       "      <td>0.7</td>\n",
       "      <td>0.7</td>\n",
       "      <td>0.7</td>\n",
       "      <td>0.4</td>\n",
       "      <td>0.6</td>\n",
       "      <td>auto</td>\n",
       "      <td>5</td>\n",
       "      <td>1</td>\n",
       "      <td>0.62</td>\n",
       "      <td>0.05831</td>\n",
       "      <td>(0.4581067937646782, 0.7818932062353215)</td>\n",
       "      <td>0.229053</td>\n",
       "    </tr>\n",
       "    <tr>\n",
       "      <th>3</th>\n",
       "      <td>{'algorithm': 'auto', 'n_neighbors': 5, 'p': 2}</td>\n",
       "      <td>0.7</td>\n",
       "      <td>0.7</td>\n",
       "      <td>0.7</td>\n",
       "      <td>0.4</td>\n",
       "      <td>0.6</td>\n",
       "      <td>auto</td>\n",
       "      <td>5</td>\n",
       "      <td>2</td>\n",
       "      <td>0.62</td>\n",
       "      <td>0.05831</td>\n",
       "      <td>(0.4581067937646782, 0.7818932062353215)</td>\n",
       "      <td>0.229053</td>\n",
       "    </tr>\n",
       "    <tr>\n",
       "      <th>4</th>\n",
       "      <td>{'algorithm': 'auto', 'n_neighbors': 7, 'p': 1}</td>\n",
       "      <td>0.7</td>\n",
       "      <td>0.7</td>\n",
       "      <td>0.7</td>\n",
       "      <td>0.4</td>\n",
       "      <td>0.6</td>\n",
       "      <td>auto</td>\n",
       "      <td>7</td>\n",
       "      <td>1</td>\n",
       "      <td>0.62</td>\n",
       "      <td>0.05831</td>\n",
       "      <td>(0.4581067937646782, 0.7818932062353215)</td>\n",
       "      <td>0.229053</td>\n",
       "    </tr>\n",
       "    <tr>\n",
       "      <th>28</th>\n",
       "      <td>{'algorithm': 'brute', 'n_neighbors': 7, 'p': 1}</td>\n",
       "      <td>0.7</td>\n",
       "      <td>0.7</td>\n",
       "      <td>0.7</td>\n",
       "      <td>0.4</td>\n",
       "      <td>0.6</td>\n",
       "      <td>brute</td>\n",
       "      <td>7</td>\n",
       "      <td>1</td>\n",
       "      <td>0.62</td>\n",
       "      <td>0.05831</td>\n",
       "      <td>(0.4581067937646782, 0.7818932062353215)</td>\n",
       "      <td>0.229053</td>\n",
       "    </tr>\n",
       "    <tr>\n",
       "      <th>27</th>\n",
       "      <td>{'algorithm': 'brute', 'n_neighbors': 5, 'p': 2}</td>\n",
       "      <td>0.7</td>\n",
       "      <td>0.7</td>\n",
       "      <td>0.7</td>\n",
       "      <td>0.4</td>\n",
       "      <td>0.6</td>\n",
       "      <td>brute</td>\n",
       "      <td>5</td>\n",
       "      <td>2</td>\n",
       "      <td>0.62</td>\n",
       "      <td>0.05831</td>\n",
       "      <td>(0.4581067937646782, 0.7818932062353215)</td>\n",
       "      <td>0.229053</td>\n",
       "    </tr>\n",
       "  </tbody>\n",
       "</table>\n",
       "</div>"
      ],
      "text/plain": [
       "                                              params  split0_test_score  \\\n",
       "2    {'algorithm': 'auto', 'n_neighbors': 5, 'p': 1}                0.7   \n",
       "3    {'algorithm': 'auto', 'n_neighbors': 5, 'p': 2}                0.7   \n",
       "4    {'algorithm': 'auto', 'n_neighbors': 7, 'p': 1}                0.7   \n",
       "28  {'algorithm': 'brute', 'n_neighbors': 7, 'p': 1}                0.7   \n",
       "27  {'algorithm': 'brute', 'n_neighbors': 5, 'p': 2}                0.7   \n",
       "\n",
       "    split1_test_score  split2_test_score  split3_test_score  \\\n",
       "2                 0.7                0.7                0.4   \n",
       "3                 0.7                0.7                0.4   \n",
       "4                 0.7                0.7                0.4   \n",
       "28                0.7                0.7                0.4   \n",
       "27                0.7                0.7                0.4   \n",
       "\n",
       "    split4_test_score algorithm  n_neighbors  p  mean      sem  \\\n",
       "2                 0.6      auto            5  1  0.62  0.05831   \n",
       "3                 0.6      auto            5  2  0.62  0.05831   \n",
       "4                 0.6      auto            7  1  0.62  0.05831   \n",
       "28                0.6     brute            7  1  0.62  0.05831   \n",
       "27                0.6     brute            5  2  0.62  0.05831   \n",
       "\n",
       "                                          ci      sort  \n",
       "2   (0.4581067937646782, 0.7818932062353215)  0.229053  \n",
       "3   (0.4581067937646782, 0.7818932062353215)  0.229053  \n",
       "4   (0.4581067937646782, 0.7818932062353215)  0.229053  \n",
       "28  (0.4581067937646782, 0.7818932062353215)  0.229053  \n",
       "27  (0.4581067937646782, 0.7818932062353215)  0.229053  "
      ]
     },
     "execution_count": 11,
     "metadata": {},
     "output_type": "execute_result"
    }
   ],
   "source": [
    "knn.top_params(0.95, 5)"
   ]
  },
  {
   "cell_type": "code",
   "execution_count": null,
   "metadata": {},
   "outputs": [
    {
     "data": {
      "image/png": "[encoded data removed]",
      "text/plain": [
       "<Figure size 936x432 with 1 Axes>"
      ]
     },
     "metadata": {},
     "output_type": "display_data"
    }
   ],
   "source": [
    "knn.boxplots(30)"
   ]
  },
  {
   "cell_type": "markdown",
   "metadata": {},
   "source": [
    "## Decision Tree"
   ]
  },
  {
   "cell_type": "code",
   "execution_count": null,
   "metadata": {},
   "outputs": [
    {
     "name": "stdout",
     "output_type": "stream",
     "text": [
      "[INFO] The best parameters are {'criterion': 'gini', 'max_features': 'log2', 'splitter': 'best'}\n",
      "[INFO] The best score is 0.7000\n",
      "[INFO] The best parameters according to ci are {'criterion': 'gini', 'max_features': 'log2', 'splitter': 'best'}\n",
      "[INFO] Train acc  is : 1.0000\n"
     ]
    }
   ],
   "source": [
    "dt = ModelHandler(X = X_data_curated, Y = y_data_curated, model = 'DT', n_splits = 5)\n",
    "dt.fit(True,True)"
   ]
  },
  {
   "cell_type": "code",
   "execution_count": null,
   "metadata": {},
   "outputs": [
    {
     "data": {
      "text/html": [
       "<div>\n",
       "<style scoped>\n",
       "    .dataframe tbody tr th:only-of-type {\n",
       "        vertical-align: middle;\n",
       "    }\n",
       "\n",
       "    .dataframe tbody tr th {\n",
       "        vertical-align: top;\n",
       "    }\n",
       "\n",
       "    .dataframe thead th {\n",
       "        text-align: right;\n",
       "    }\n",
       "</style>\n",
       "<table border=\"1\" class=\"dataframe\">\n",
       "  <thead>\n",
       "    <tr style=\"text-align: right;\">\n",
       "      <th></th>\n",
       "      <th>params</th>\n",
       "      <th>split0_test_score</th>\n",
       "      <th>split1_test_score</th>\n",
       "      <th>split2_test_score</th>\n",
       "      <th>split3_test_score</th>\n",
       "      <th>split4_test_score</th>\n",
       "      <th>criterion</th>\n",
       "      <th>max_features</th>\n",
       "      <th>splitter</th>\n",
       "      <th>mean</th>\n",
       "      <th>sem</th>\n",
       "      <th>ci</th>\n",
       "      <th>sort</th>\n",
       "    </tr>\n",
       "  </thead>\n",
       "  <tbody>\n",
       "    <tr>\n",
       "      <th>4</th>\n",
       "      <td>{'criterion': 'gini', 'max_features': 'log2', ...</td>\n",
       "      <td>0.8</td>\n",
       "      <td>0.6</td>\n",
       "      <td>0.7</td>\n",
       "      <td>0.7</td>\n",
       "      <td>0.7</td>\n",
       "      <td>gini</td>\n",
       "      <td>log2</td>\n",
       "      <td>best</td>\n",
       "      <td>0.70</td>\n",
       "      <td>0.031623</td>\n",
       "      <td>(0.6122010689270404, 0.7877989310729595)</td>\n",
       "      <td>0.306101</td>\n",
       "    </tr>\n",
       "    <tr>\n",
       "      <th>7</th>\n",
       "      <td>{'criterion': 'entropy', 'max_features': 'auto...</td>\n",
       "      <td>0.7</td>\n",
       "      <td>0.7</td>\n",
       "      <td>0.7</td>\n",
       "      <td>0.5</td>\n",
       "      <td>0.8</td>\n",
       "      <td>entropy</td>\n",
       "      <td>auto</td>\n",
       "      <td>random</td>\n",
       "      <td>0.68</td>\n",
       "      <td>0.048990</td>\n",
       "      <td>(0.5439824961038975, 0.8160175038961024)</td>\n",
       "      <td>0.271991</td>\n",
       "    </tr>\n",
       "    <tr>\n",
       "      <th>10</th>\n",
       "      <td>{'criterion': 'entropy', 'max_features': 'log2...</td>\n",
       "      <td>0.7</td>\n",
       "      <td>0.6</td>\n",
       "      <td>0.8</td>\n",
       "      <td>0.5</td>\n",
       "      <td>0.7</td>\n",
       "      <td>entropy</td>\n",
       "      <td>log2</td>\n",
       "      <td>best</td>\n",
       "      <td>0.66</td>\n",
       "      <td>0.050990</td>\n",
       "      <td>(0.5184284945373214, 0.8015715054626784)</td>\n",
       "      <td>0.259214</td>\n",
       "    </tr>\n",
       "    <tr>\n",
       "      <th>2</th>\n",
       "      <td>{'criterion': 'gini', 'max_features': 'sqrt', ...</td>\n",
       "      <td>0.6</td>\n",
       "      <td>0.6</td>\n",
       "      <td>0.7</td>\n",
       "      <td>0.7</td>\n",
       "      <td>0.5</td>\n",
       "      <td>gini</td>\n",
       "      <td>sqrt</td>\n",
       "      <td>best</td>\n",
       "      <td>0.62</td>\n",
       "      <td>0.037417</td>\n",
       "      <td>(0.5161149088671919, 0.7238850911328079)</td>\n",
       "      <td>0.258057</td>\n",
       "    </tr>\n",
       "    <tr>\n",
       "      <th>5</th>\n",
       "      <td>{'criterion': 'gini', 'max_features': 'log2', ...</td>\n",
       "      <td>0.6</td>\n",
       "      <td>0.5</td>\n",
       "      <td>0.9</td>\n",
       "      <td>0.6</td>\n",
       "      <td>0.6</td>\n",
       "      <td>gini</td>\n",
       "      <td>log2</td>\n",
       "      <td>random</td>\n",
       "      <td>0.64</td>\n",
       "      <td>0.067823</td>\n",
       "      <td>(0.45169230340070476, 0.8283076965992953)</td>\n",
       "      <td>0.225846</td>\n",
       "    </tr>\n",
       "  </tbody>\n",
       "</table>\n",
       "</div>"
      ],
      "text/plain": [
       "                                               params  split0_test_score  \\\n",
       "4   {'criterion': 'gini', 'max_features': 'log2', ...                0.8   \n",
       "7   {'criterion': 'entropy', 'max_features': 'auto...                0.7   \n",
       "10  {'criterion': 'entropy', 'max_features': 'log2...                0.7   \n",
       "2   {'criterion': 'gini', 'max_features': 'sqrt', ...                0.6   \n",
       "5   {'criterion': 'gini', 'max_features': 'log2', ...                0.6   \n",
       "\n",
       "    split1_test_score  split2_test_score  split3_test_score  \\\n",
       "4                 0.6                0.7                0.7   \n",
       "7                 0.7                0.7                0.5   \n",
       "10                0.6                0.8                0.5   \n",
       "2                 0.6                0.7                0.7   \n",
       "5                 0.5                0.9                0.6   \n",
       "\n",
       "    split4_test_score criterion max_features splitter  mean       sem  \\\n",
       "4                 0.7      gini         log2     best  0.70  0.031623   \n",
       "7                 0.8   entropy         auto   random  0.68  0.048990   \n",
       "10                0.7   entropy         log2     best  0.66  0.050990   \n",
       "2                 0.5      gini         sqrt     best  0.62  0.037417   \n",
       "5                 0.6      gini         log2   random  0.64  0.067823   \n",
       "\n",
       "                                           ci      sort  \n",
       "4    (0.6122010689270404, 0.7877989310729595)  0.306101  \n",
       "7    (0.5439824961038975, 0.8160175038961024)  0.271991  \n",
       "10   (0.5184284945373214, 0.8015715054626784)  0.259214  \n",
       "2    (0.5161149088671919, 0.7238850911328079)  0.258057  \n",
       "5   (0.45169230340070476, 0.8283076965992953)  0.225846  "
      ]
     },
     "execution_count": 14,
     "metadata": {},
     "output_type": "execute_result"
    }
   ],
   "source": [
    "dt.top_params(0.95, 5)"
   ]
  },
  {
   "cell_type": "code",
   "execution_count": null,
   "metadata": {},
   "outputs": [
    {
     "data": {
      "image/png": "[encoded data removed]",
      "text/plain": [
       "<Figure size 936x432 with 1 Axes>"
      ]
     },
     "metadata": {},
     "output_type": "display_data"
    }
   ],
   "source": [
    "dt.boxplots(5)"
   ]
  },
  {
   "cell_type": "code",
   "execution_count": null,
   "metadata": {},
   "outputs": [],
   "source": [
    "from results_analysis import results_analysis"
   ]
  },
  {
   "cell_type": "code",
   "execution_count": null,
   "metadata": {},
   "outputs": [
    {
     "data": {
      "text/plain": [
       "(   accuracy  f1score  precision  recall\n",
       " 0       1.0      1.0        1.0     1.0,\n",
       "    tn  fp  fn  tp\n",
       " 0  13   0   0  34)"
      ]
     },
     "execution_count": 17,
     "metadata": {},
     "output_type": "execute_result"
    }
   ],
   "source": [
    "results_analysis(y_data_curated, dt.predict(X_data_curated))\n"
   ]
  },
  {
   "cell_type": "code",
   "execution_count": null,
   "metadata": {},
   "outputs": [
    {
     "data": {
      "text/plain": [
       "(   accuracy  f1score  precision  recall\n",
       " 0       1.0      1.0        1.0     1.0,\n",
       "    tn  fp  fn  tp\n",
       " 0  13   0   0  34)"
      ]
     },
     "metadata": {},
     "output_type": "display_data"
    }
   ],
   "source": [
    "results_analysis(y_data_curated, knn.predict(X_data_curated))\n"
   ]
  },
  {
   "cell_type": "code",
   "execution_count": null,
   "metadata": {},
   "outputs": [
    {
     "data": {
      "text/plain": [
       "(   accuracy  f1score  precision  recall\n",
       " 0       1.0      1.0        1.0     1.0,\n",
       "    tn  fp  fn  tp\n",
       " 0  13   0   0  34)"
      ]
     },
     "metadata": {},
     "output_type": "display_data"
    }
   ],
   "source": [
    "results_analysis(y_data_curated, svm.predict(X_data_curated))\n"
   ]
  }
 ],
 "metadata": {
  "interpreter": {
   "hash": "916dbcbb3f70747c44a77c7bcd40155683ae19c65e1c03b4aa3499c5328201f1"
  },
  "kernelspec": {
   "display_name": "Python 3.8.10 64-bit",
   "language": "python",
   "name": "python3"
  },
  "language_info": {
   "codemirror_mode": {
    "name": "ipython",
    "version": 3
   },
   "file_extension": ".py",
   "mimetype": "text/x-python",
   "name": "python",
   "nbconvert_exporter": "python",
   "pygments_lexer": "ipython3",
   "version": "3.9.7"
  },
  "orig_nbformat": 4
 },
 "nbformat": 4,
 "nbformat_minor": 2
}
