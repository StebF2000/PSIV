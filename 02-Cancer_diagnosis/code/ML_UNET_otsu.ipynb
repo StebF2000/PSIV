{
 "cells": [
  {
   "cell_type": "code",
   "execution_count": 1,
   "metadata": {},
   "outputs": [],
   "source": [
    "from model import ModelHandler\n",
    "from DataLoader import DiagnosisEnd2End\n",
    "import numpy as np\n",
    "import tqdm\n",
    "import torch\n",
    "from Unet2 import UNET\n",
    "from results_analysis import results\n",
    "from ImageTransformations import otsu, mnorm\n",
    "\n",
    "\n",
    "model = UNET(1, 1)\n",
    "model.load_state_dict(torch.load(\"unet_segment.pth\"))\n",
    "\n",
    "\n",
    "def otsu_norm_transf(x): return otsu(mnorm(x, -680, 340))"
   ]
  },
  {
   "cell_type": "markdown",
   "metadata": {},
   "source": [
    "## End2End Data"
   ]
  },
  {
   "cell_type": "code",
   "execution_count": 2,
   "metadata": {},
   "outputs": [],
   "source": [
    "path_segmentation = \"C:/Users/Usuario/Desktop/Uni/DataDaniMAPSIV/PSIV/02-Cancer_diagnosis/data/Diagnosis/\"\n",
    "nodules_path = \"../data/Diagnosis/Radiolung_NoduleDiagnosis.csv\""
   ]
  },
  {
   "cell_type": "code",
   "execution_count": 3,
   "metadata": {},
   "outputs": [
    {
     "name": "stderr",
     "output_type": "stream",
     "text": [
      "  0%|          | 0/49 [00:00<?, ?it/s]"
     ]
    },
    {
     "name": "stdout",
     "output_type": "stream",
     "text": [
      "Len Dataloader: 49 // Actual index: 0 // Len diagnosis path 47 // Len anonymous nodules 49\n"
     ]
    },
    {
     "name": "stderr",
     "output_type": "stream",
     "text": [
      "  2%|▏         | 1/49 [00:02<01:48,  2.25s/it]"
     ]
    },
    {
     "name": "stdout",
     "output_type": "stream",
     "text": [
      "Len Dataloader: 49 // Actual index: 1 // Len diagnosis path 47 // Len anonymous nodules 49\n"
     ]
    },
    {
     "name": "stderr",
     "output_type": "stream",
     "text": [
      "  4%|▍         | 2/49 [00:05<02:07,  2.72s/it]"
     ]
    },
    {
     "name": "stdout",
     "output_type": "stream",
     "text": [
      "Len Dataloader: 49 // Actual index: 2 // Len diagnosis path 47 // Len anonymous nodules 49\n"
     ]
    },
    {
     "name": "stderr",
     "output_type": "stream",
     "text": [
      "  6%|▌         | 3/49 [00:08<02:21,  3.07s/it]"
     ]
    },
    {
     "name": "stdout",
     "output_type": "stream",
     "text": [
      "Len Dataloader: 49 // Actual index: 3 // Len diagnosis path 47 // Len anonymous nodules 49\n"
     ]
    },
    {
     "name": "stderr",
     "output_type": "stream",
     "text": [
      "  8%|▊         | 4/49 [00:11<02:13,  2.96s/it]"
     ]
    },
    {
     "name": "stdout",
     "output_type": "stream",
     "text": [
      "Len Dataloader: 49 // Actual index: 4 // Len diagnosis path 47 // Len anonymous nodules 49\n"
     ]
    },
    {
     "name": "stderr",
     "output_type": "stream",
     "text": [
      " 10%|█         | 5/49 [00:16<02:35,  3.52s/it]"
     ]
    },
    {
     "name": "stdout",
     "output_type": "stream",
     "text": [
      "Len Dataloader: 49 // Actual index: 5 // Len diagnosis path 47 // Len anonymous nodules 49\n"
     ]
    },
    {
     "name": "stderr",
     "output_type": "stream",
     "text": [
      " 12%|█▏        | 6/49 [00:18<02:11,  3.07s/it]"
     ]
    },
    {
     "name": "stdout",
     "output_type": "stream",
     "text": [
      "Len Dataloader: 49 // Actual index: 6 // Len diagnosis path 47 // Len anonymous nodules 49\n"
     ]
    },
    {
     "name": "stderr",
     "output_type": "stream",
     "text": [
      " 14%|█▍        | 7/49 [00:21<02:05,  2.98s/it]"
     ]
    },
    {
     "name": "stdout",
     "output_type": "stream",
     "text": [
      "Len Dataloader: 49 // Actual index: 7 // Len diagnosis path 47 // Len anonymous nodules 49\n"
     ]
    },
    {
     "name": "stderr",
     "output_type": "stream",
     "text": [
      " 16%|█▋        | 8/49 [00:22<01:43,  2.53s/it]"
     ]
    },
    {
     "name": "stdout",
     "output_type": "stream",
     "text": [
      "Len Dataloader: 49 // Actual index: 8 // Len diagnosis path 47 // Len anonymous nodules 49\n"
     ]
    },
    {
     "name": "stderr",
     "output_type": "stream",
     "text": [
      " 18%|█▊        | 9/49 [00:24<01:37,  2.45s/it]"
     ]
    },
    {
     "name": "stdout",
     "output_type": "stream",
     "text": [
      "Len Dataloader: 49 // Actual index: 9 // Len diagnosis path 47 // Len anonymous nodules 49\n"
     ]
    },
    {
     "name": "stderr",
     "output_type": "stream",
     "text": [
      " 20%|██        | 10/49 [00:27<01:40,  2.59s/it]"
     ]
    },
    {
     "name": "stdout",
     "output_type": "stream",
     "text": [
      "Len Dataloader: 49 // Actual index: 10 // Len diagnosis path 47 // Len anonymous nodules 49\n"
     ]
    },
    {
     "name": "stderr",
     "output_type": "stream",
     "text": [
      " 22%|██▏       | 11/49 [00:30<01:40,  2.66s/it]"
     ]
    },
    {
     "name": "stdout",
     "output_type": "stream",
     "text": [
      "Len Dataloader: 49 // Actual index: 11 // Len diagnosis path 47 // Len anonymous nodules 49\n"
     ]
    },
    {
     "name": "stderr",
     "output_type": "stream",
     "text": [
      " 24%|██▍       | 12/49 [00:33<01:38,  2.67s/it]"
     ]
    },
    {
     "name": "stdout",
     "output_type": "stream",
     "text": [
      "Len Dataloader: 49 // Actual index: 12 // Len diagnosis path 47 // Len anonymous nodules 49\n"
     ]
    },
    {
     "name": "stderr",
     "output_type": "stream",
     "text": [
      " 27%|██▋       | 13/49 [00:35<01:35,  2.66s/it]"
     ]
    },
    {
     "name": "stdout",
     "output_type": "stream",
     "text": [
      "Len Dataloader: 49 // Actual index: 13 // Len diagnosis path 47 // Len anonymous nodules 49\n"
     ]
    },
    {
     "name": "stderr",
     "output_type": "stream",
     "text": [
      " 29%|██▊       | 14/49 [00:39<01:36,  2.77s/it]"
     ]
    },
    {
     "name": "stdout",
     "output_type": "stream",
     "text": [
      "Len Dataloader: 49 // Actual index: 14 // Len diagnosis path 47 // Len anonymous nodules 49\n"
     ]
    },
    {
     "name": "stderr",
     "output_type": "stream",
     "text": [
      " 31%|███       | 15/49 [00:41<01:34,  2.79s/it]"
     ]
    },
    {
     "name": "stdout",
     "output_type": "stream",
     "text": [
      "Len Dataloader: 49 // Actual index: 15 // Len diagnosis path 47 // Len anonymous nodules 49\n"
     ]
    },
    {
     "name": "stderr",
     "output_type": "stream",
     "text": [
      " 33%|███▎      | 16/49 [00:44<01:31,  2.78s/it]"
     ]
    },
    {
     "name": "stdout",
     "output_type": "stream",
     "text": [
      "Len Dataloader: 49 // Actual index: 16 // Len diagnosis path 47 // Len anonymous nodules 49\n"
     ]
    },
    {
     "name": "stderr",
     "output_type": "stream",
     "text": [
      " 35%|███▍      | 17/49 [00:47<01:32,  2.90s/it]"
     ]
    },
    {
     "name": "stdout",
     "output_type": "stream",
     "text": [
      "Len Dataloader: 49 // Actual index: 17 // Len diagnosis path 47 // Len anonymous nodules 49\n"
     ]
    },
    {
     "name": "stderr",
     "output_type": "stream",
     "text": [
      " 37%|███▋      | 18/49 [00:50<01:27,  2.81s/it]"
     ]
    },
    {
     "name": "stdout",
     "output_type": "stream",
     "text": [
      "Len Dataloader: 49 // Actual index: 18 // Len diagnosis path 47 // Len anonymous nodules 49\n"
     ]
    },
    {
     "name": "stderr",
     "output_type": "stream",
     "text": [
      " 39%|███▉      | 19/49 [00:50<01:03,  2.12s/it]"
     ]
    },
    {
     "name": "stdout",
     "output_type": "stream",
     "text": [
      "Len Dataloader: 49 // Actual index: 19 // Len diagnosis path 47 // Len anonymous nodules 49\n"
     ]
    },
    {
     "name": "stderr",
     "output_type": "stream",
     "text": [
      " 41%|████      | 20/49 [00:54<01:11,  2.47s/it]"
     ]
    },
    {
     "name": "stdout",
     "output_type": "stream",
     "text": [
      "Len Dataloader: 49 // Actual index: 20 // Len diagnosis path 47 // Len anonymous nodules 49\n"
     ]
    },
    {
     "name": "stderr",
     "output_type": "stream",
     "text": [
      " 43%|████▎     | 21/49 [01:02<01:55,  4.12s/it]"
     ]
    },
    {
     "name": "stdout",
     "output_type": "stream",
     "text": [
      "Len Dataloader: 49 // Actual index: 21 // Len diagnosis path 47 // Len anonymous nodules 49\n"
     ]
    },
    {
     "name": "stderr",
     "output_type": "stream",
     "text": [
      " 45%|████▍     | 22/49 [01:05<01:48,  4.01s/it]"
     ]
    },
    {
     "name": "stdout",
     "output_type": "stream",
     "text": [
      "Len Dataloader: 49 // Actual index: 22 // Len diagnosis path 47 // Len anonymous nodules 49\n"
     ]
    },
    {
     "name": "stderr",
     "output_type": "stream",
     "text": [
      " 47%|████▋     | 23/49 [01:10<01:45,  4.05s/it]"
     ]
    },
    {
     "name": "stdout",
     "output_type": "stream",
     "text": [
      "Len Dataloader: 49 // Actual index: 23 // Len diagnosis path 47 // Len anonymous nodules 49\n"
     ]
    },
    {
     "name": "stderr",
     "output_type": "stream",
     "text": [
      " 49%|████▉     | 24/49 [01:13<01:36,  3.85s/it]"
     ]
    },
    {
     "name": "stdout",
     "output_type": "stream",
     "text": [
      "Len Dataloader: 49 // Actual index: 24 // Len diagnosis path 47 // Len anonymous nodules 49\n"
     ]
    },
    {
     "name": "stderr",
     "output_type": "stream",
     "text": [
      " 51%|█████     | 25/49 [01:16<01:30,  3.75s/it]"
     ]
    },
    {
     "name": "stdout",
     "output_type": "stream",
     "text": [
      "Len Dataloader: 49 // Actual index: 25 // Len diagnosis path 47 // Len anonymous nodules 49\n"
     ]
    },
    {
     "name": "stderr",
     "output_type": "stream",
     "text": [
      " 53%|█████▎    | 26/49 [01:22<01:36,  4.20s/it]"
     ]
    },
    {
     "name": "stdout",
     "output_type": "stream",
     "text": [
      "Len Dataloader: 49 // Actual index: 26 // Len diagnosis path 47 // Len anonymous nodules 49\n"
     ]
    },
    {
     "name": "stderr",
     "output_type": "stream",
     "text": [
      " 55%|█████▌    | 27/49 [01:22<01:09,  3.15s/it]"
     ]
    },
    {
     "name": "stdout",
     "output_type": "stream",
     "text": [
      "Len Dataloader: 49 // Actual index: 27 // Len diagnosis path 47 // Len anonymous nodules 49\n"
     ]
    },
    {
     "name": "stderr",
     "output_type": "stream",
     "text": [
      " 57%|█████▋    | 28/49 [01:26<01:09,  3.32s/it]"
     ]
    },
    {
     "name": "stdout",
     "output_type": "stream",
     "text": [
      "Len Dataloader: 49 // Actual index: 28 // Len diagnosis path 47 // Len anonymous nodules 49\n"
     ]
    },
    {
     "name": "stderr",
     "output_type": "stream",
     "text": [
      " 59%|█████▉    | 29/49 [01:32<01:24,  4.22s/it]"
     ]
    },
    {
     "name": "stdout",
     "output_type": "stream",
     "text": [
      "Len Dataloader: 49 // Actual index: 29 // Len diagnosis path 47 // Len anonymous nodules 49\n"
     ]
    },
    {
     "name": "stderr",
     "output_type": "stream",
     "text": [
      " 61%|██████    | 30/49 [01:38<01:30,  4.76s/it]"
     ]
    },
    {
     "name": "stdout",
     "output_type": "stream",
     "text": [
      "Len Dataloader: 49 // Actual index: 30 // Len diagnosis path 47 // Len anonymous nodules 49\n"
     ]
    },
    {
     "name": "stderr",
     "output_type": "stream",
     "text": [
      " 63%|██████▎   | 31/49 [01:46<01:42,  5.69s/it]"
     ]
    },
    {
     "name": "stdout",
     "output_type": "stream",
     "text": [
      "Len Dataloader: 49 // Actual index: 31 // Len diagnosis path 47 // Len anonymous nodules 49\n"
     ]
    },
    {
     "name": "stderr",
     "output_type": "stream",
     "text": [
      " 65%|██████▌   | 32/49 [01:52<01:35,  5.63s/it]"
     ]
    },
    {
     "name": "stdout",
     "output_type": "stream",
     "text": [
      "Len Dataloader: 49 // Actual index: 32 // Len diagnosis path 47 // Len anonymous nodules 49\n"
     ]
    },
    {
     "name": "stderr",
     "output_type": "stream",
     "text": [
      " 67%|██████▋   | 33/49 [01:57<01:25,  5.36s/it]"
     ]
    },
    {
     "name": "stdout",
     "output_type": "stream",
     "text": [
      "Len Dataloader: 49 // Actual index: 33 // Len diagnosis path 47 // Len anonymous nodules 49\n"
     ]
    },
    {
     "name": "stderr",
     "output_type": "stream",
     "text": [
      " 69%|██████▉   | 34/49 [01:58<01:02,  4.15s/it]"
     ]
    },
    {
     "name": "stdout",
     "output_type": "stream",
     "text": [
      "Len Dataloader: 49 // Actual index: 34 // Len diagnosis path 47 // Len anonymous nodules 49\n"
     ]
    },
    {
     "name": "stderr",
     "output_type": "stream",
     "text": [
      " 71%|███████▏  | 35/49 [02:03<01:04,  4.58s/it]"
     ]
    },
    {
     "name": "stdout",
     "output_type": "stream",
     "text": [
      "Len Dataloader: 49 // Actual index: 35 // Len diagnosis path 47 // Len anonymous nodules 49\n"
     ]
    },
    {
     "name": "stderr",
     "output_type": "stream",
     "text": [
      " 73%|███████▎  | 36/49 [02:09<01:03,  4.87s/it]"
     ]
    },
    {
     "name": "stdout",
     "output_type": "stream",
     "text": [
      "Len Dataloader: 49 // Actual index: 36 // Len diagnosis path 47 // Len anonymous nodules 49\n"
     ]
    },
    {
     "name": "stderr",
     "output_type": "stream",
     "text": [
      " 76%|███████▌  | 37/49 [02:10<00:43,  3.59s/it]"
     ]
    },
    {
     "name": "stdout",
     "output_type": "stream",
     "text": [
      "Len Dataloader: 49 // Actual index: 37 // Len diagnosis path 47 // Len anonymous nodules 49\n"
     ]
    },
    {
     "name": "stderr",
     "output_type": "stream",
     "text": [
      " 78%|███████▊  | 38/49 [02:11<00:33,  3.00s/it]"
     ]
    },
    {
     "name": "stdout",
     "output_type": "stream",
     "text": [
      "Len Dataloader: 49 // Actual index: 38 // Len diagnosis path 47 // Len anonymous nodules 49\n"
     ]
    },
    {
     "name": "stderr",
     "output_type": "stream",
     "text": [
      " 80%|███████▉  | 39/49 [02:12<00:24,  2.43s/it]"
     ]
    },
    {
     "name": "stdout",
     "output_type": "stream",
     "text": [
      "Len Dataloader: 49 // Actual index: 39 // Len diagnosis path 47 // Len anonymous nodules 49\n"
     ]
    },
    {
     "name": "stderr",
     "output_type": "stream",
     "text": [
      " 82%|████████▏ | 40/49 [02:13<00:15,  1.77s/it]"
     ]
    },
    {
     "name": "stdout",
     "output_type": "stream",
     "text": [
      "Len Dataloader: 49 // Actual index: 40 // Len diagnosis path 47 // Len anonymous nodules 49\n"
     ]
    },
    {
     "name": "stderr",
     "output_type": "stream",
     "text": [
      " 84%|████████▎ | 41/49 [02:14<00:13,  1.66s/it]"
     ]
    },
    {
     "name": "stdout",
     "output_type": "stream",
     "text": [
      "Len Dataloader: 49 // Actual index: 41 // Len diagnosis path 47 // Len anonymous nodules 49\n"
     ]
    },
    {
     "name": "stderr",
     "output_type": "stream",
     "text": [
      " 86%|████████▌ | 42/49 [02:15<00:10,  1.50s/it]"
     ]
    },
    {
     "name": "stdout",
     "output_type": "stream",
     "text": [
      "Len Dataloader: 49 // Actual index: 42 // Len diagnosis path 47 // Len anonymous nodules 49\n"
     ]
    },
    {
     "name": "stderr",
     "output_type": "stream",
     "text": [
      " 88%|████████▊ | 43/49 [02:16<00:08,  1.44s/it]"
     ]
    },
    {
     "name": "stdout",
     "output_type": "stream",
     "text": [
      "Len Dataloader: 49 // Actual index: 43 // Len diagnosis path 47 // Len anonymous nodules 49\n"
     ]
    },
    {
     "name": "stderr",
     "output_type": "stream",
     "text": [
      " 90%|████████▉ | 44/49 [02:17<00:05,  1.11s/it]"
     ]
    },
    {
     "name": "stdout",
     "output_type": "stream",
     "text": [
      "Len Dataloader: 49 // Actual index: 44 // Len diagnosis path 47 // Len anonymous nodules 49\n"
     ]
    },
    {
     "name": "stderr",
     "output_type": "stream",
     "text": [
      " 92%|█████████▏| 45/49 [02:18<00:04,  1.13s/it]"
     ]
    },
    {
     "name": "stdout",
     "output_type": "stream",
     "text": [
      "Len Dataloader: 49 // Actual index: 45 // Len diagnosis path 47 // Len anonymous nodules 49\n"
     ]
    },
    {
     "name": "stderr",
     "output_type": "stream",
     "text": [
      " 94%|█████████▍| 46/49 [02:19<00:03,  1.23s/it]"
     ]
    },
    {
     "name": "stdout",
     "output_type": "stream",
     "text": [
      "Len Dataloader: 49 // Actual index: 46 // Len diagnosis path 47 // Len anonymous nodules 49\n"
     ]
    },
    {
     "name": "stderr",
     "output_type": "stream",
     "text": [
      " 96%|█████████▌| 47/49 [02:24<00:04,  2.36s/it]"
     ]
    },
    {
     "name": "stdout",
     "output_type": "stream",
     "text": [
      "Len Dataloader: 49 // Actual index: 47 // Len diagnosis path 47 // Len anonymous nodules 49\n"
     ]
    },
    {
     "name": "stderr",
     "output_type": "stream",
     "text": [
      " 98%|█████████▊| 48/49 [02:28<00:02,  2.82s/it]"
     ]
    },
    {
     "name": "stdout",
     "output_type": "stream",
     "text": [
      "Len Dataloader: 49 // Actual index: 48 // Len diagnosis path 47 // Len anonymous nodules 49\n"
     ]
    },
    {
     "name": "stderr",
     "output_type": "stream",
     "text": [
      "100%|██████████| 49/49 [02:31<00:00,  3.08s/it]\n"
     ]
    }
   ],
   "source": [
    "diagonis = DiagnosisEnd2End(path_segmentation, nodules_path)\n",
    "\n",
    "X_data_curated = np.zeros((49, 14, 64, 64))\n",
    "y_data_curated = np.zeros(49)\n",
    "i = 0\n",
    "\n",
    "for idx in tqdm.tqdm(range(len(diagonis))):\n",
    "    data = diagonis[idx]\n",
    "    m = data['ROI'].shape[0]//2   \n",
    "    X_data_curated[i] = otsu_norm_transf(model(torch.from_numpy(data[\"ROI\"][m-7:m+7, :, :]).reshape((14, 1, 64, 64)).float()).detach().numpy().reshape((14, 64, 64)))\n",
    "    y_data_curated[i] = data['GT'] if type(data['GT']) != type([]) else data['GT'][0]\n",
    "    i+=1\n"
   ]
  },
  {
   "cell_type": "markdown",
   "metadata": {},
   "source": [
    "## SVM"
   ]
  },
  {
   "cell_type": "code",
   "execution_count": 11,
   "metadata": {},
   "outputs": [
    {
     "name": "stdout",
     "output_type": "stream",
     "text": [
      "[INFO] The best parameters are {'C': 0.01, 'kernel': 'poly'}\n",
      "[INFO] The best score is 0.8000\n",
      "[INFO] The best parameters according to ci are {'C': 10000.0, 'kernel': 'rbf'}\n"
     ]
    },
    {
     "name": "stderr",
     "output_type": "stream",
     "text": [
      "C:\\Users\\Usuario\\AppData\\Local\\Packages\\PythonSoftwareFoundation.Python.3.9_qbz5n2kfra8p0\\LocalCache\\local-packages\\Python39\\site-packages\\pandas\\util\\_decorators.py:311: SettingWithCopyWarning: \n",
      "A value is trying to be set on a copy of a slice from a DataFrame\n",
      "\n",
      "See the caveats in the documentation: https://pandas.pydata.org/pandas-docs/stable/user_guide/indexing.html#returning-a-view-versus-a-copy\n",
      "  return func(*args, **kwargs)\n"
     ]
    },
    {
     "name": "stdout",
     "output_type": "stream",
     "text": [
      "[INFO] Train acc  is : 1.0000\n"
     ]
    }
   ],
   "source": [
    "svm = ModelHandler(X = X_data_curated, Y = y_data_curated, model = 'SVM', n_splits = 5)\n",
    "svm.fit(True,True)"
   ]
  },
  {
   "cell_type": "code",
   "execution_count": 10,
   "metadata": {},
   "outputs": [
    {
     "name": "stderr",
     "output_type": "stream",
     "text": [
      "C:\\Users\\Usuario\\AppData\\Local\\Packages\\PythonSoftwareFoundation.Python.3.9_qbz5n2kfra8p0\\LocalCache\\local-packages\\Python39\\site-packages\\pandas\\util\\_decorators.py:311: SettingWithCopyWarning: \n",
      "A value is trying to be set on a copy of a slice from a DataFrame\n",
      "\n",
      "See the caveats in the documentation: https://pandas.pydata.org/pandas-docs/stable/user_guide/indexing.html#returning-a-view-versus-a-copy\n",
      "  return func(*args, **kwargs)\n"
     ]
    },
    {
     "data": {
      "text/html": [
       "<div>\n",
       "<style scoped>\n",
       "    .dataframe tbody tr th:only-of-type {\n",
       "        vertical-align: middle;\n",
       "    }\n",
       "\n",
       "    .dataframe tbody tr th {\n",
       "        vertical-align: top;\n",
       "    }\n",
       "\n",
       "    .dataframe thead th {\n",
       "        text-align: right;\n",
       "    }\n",
       "</style>\n",
       "<table border=\"1\" class=\"dataframe\">\n",
       "  <thead>\n",
       "    <tr style=\"text-align: right;\">\n",
       "      <th></th>\n",
       "      <th>params</th>\n",
       "      <th>split0_test_score</th>\n",
       "      <th>split1_test_score</th>\n",
       "      <th>split2_test_score</th>\n",
       "      <th>split3_test_score</th>\n",
       "      <th>split4_test_score</th>\n",
       "      <th>C</th>\n",
       "      <th>kernel</th>\n",
       "      <th>mean</th>\n",
       "      <th>sem</th>\n",
       "      <th>ci</th>\n",
       "      <th>sort</th>\n",
       "    </tr>\n",
       "  </thead>\n",
       "  <tbody>\n",
       "    <tr>\n",
       "      <th>10</th>\n",
       "      <td>{'C': 10000.0, 'kernel': 'rbf'}</td>\n",
       "      <td>0.8</td>\n",
       "      <td>0.8</td>\n",
       "      <td>0.8</td>\n",
       "      <td>0.8</td>\n",
       "      <td>0.8</td>\n",
       "      <td>1.000000e+04</td>\n",
       "      <td>rbf</td>\n",
       "      <td>0.8</td>\n",
       "      <td>1.000000e-08</td>\n",
       "      <td>(0.799999972235549, 0.8000000277644511)</td>\n",
       "      <td>0.4</td>\n",
       "    </tr>\n",
       "    <tr>\n",
       "      <th>13</th>\n",
       "      <td>{'C': 10000000.0, 'kernel': 'poly'}</td>\n",
       "      <td>0.8</td>\n",
       "      <td>0.8</td>\n",
       "      <td>0.8</td>\n",
       "      <td>0.8</td>\n",
       "      <td>0.8</td>\n",
       "      <td>1.000000e+07</td>\n",
       "      <td>poly</td>\n",
       "      <td>0.8</td>\n",
       "      <td>1.000000e-08</td>\n",
       "      <td>(0.799999972235549, 0.8000000277644511)</td>\n",
       "      <td>0.4</td>\n",
       "    </tr>\n",
       "    <tr>\n",
       "      <th>2</th>\n",
       "      <td>{'C': 0.01, 'kernel': 'rbf'}</td>\n",
       "      <td>0.8</td>\n",
       "      <td>0.8</td>\n",
       "      <td>0.8</td>\n",
       "      <td>0.8</td>\n",
       "      <td>0.8</td>\n",
       "      <td>1.000000e-02</td>\n",
       "      <td>rbf</td>\n",
       "      <td>0.8</td>\n",
       "      <td>1.000000e-08</td>\n",
       "      <td>(0.799999972235549, 0.8000000277644511)</td>\n",
       "      <td>0.4</td>\n",
       "    </tr>\n",
       "    <tr>\n",
       "      <th>3</th>\n",
       "      <td>{'C': 0.01, 'kernel': 'sigmoid'}</td>\n",
       "      <td>0.8</td>\n",
       "      <td>0.8</td>\n",
       "      <td>0.8</td>\n",
       "      <td>0.8</td>\n",
       "      <td>0.8</td>\n",
       "      <td>1.000000e-02</td>\n",
       "      <td>sigmoid</td>\n",
       "      <td>0.8</td>\n",
       "      <td>1.000000e-08</td>\n",
       "      <td>(0.799999972235549, 0.8000000277644511)</td>\n",
       "      <td>0.4</td>\n",
       "    </tr>\n",
       "    <tr>\n",
       "      <th>18</th>\n",
       "      <td>{'C': 10000000000.0, 'kernel': 'rbf'}</td>\n",
       "      <td>0.8</td>\n",
       "      <td>0.8</td>\n",
       "      <td>0.8</td>\n",
       "      <td>0.8</td>\n",
       "      <td>0.8</td>\n",
       "      <td>1.000000e+10</td>\n",
       "      <td>rbf</td>\n",
       "      <td>0.8</td>\n",
       "      <td>1.000000e-08</td>\n",
       "      <td>(0.799999972235549, 0.8000000277644511)</td>\n",
       "      <td>0.4</td>\n",
       "    </tr>\n",
       "  </tbody>\n",
       "</table>\n",
       "</div>"
      ],
      "text/plain": [
       "                                   params  split0_test_score  \\\n",
       "10        {'C': 10000.0, 'kernel': 'rbf'}                0.8   \n",
       "13    {'C': 10000000.0, 'kernel': 'poly'}                0.8   \n",
       "2            {'C': 0.01, 'kernel': 'rbf'}                0.8   \n",
       "3        {'C': 0.01, 'kernel': 'sigmoid'}                0.8   \n",
       "18  {'C': 10000000000.0, 'kernel': 'rbf'}                0.8   \n",
       "\n",
       "    split1_test_score  split2_test_score  split3_test_score  \\\n",
       "10                0.8                0.8                0.8   \n",
       "13                0.8                0.8                0.8   \n",
       "2                 0.8                0.8                0.8   \n",
       "3                 0.8                0.8                0.8   \n",
       "18                0.8                0.8                0.8   \n",
       "\n",
       "    split4_test_score             C   kernel  mean           sem  \\\n",
       "10                0.8  1.000000e+04      rbf   0.8  1.000000e-08   \n",
       "13                0.8  1.000000e+07     poly   0.8  1.000000e-08   \n",
       "2                 0.8  1.000000e-02      rbf   0.8  1.000000e-08   \n",
       "3                 0.8  1.000000e-02  sigmoid   0.8  1.000000e-08   \n",
       "18                0.8  1.000000e+10      rbf   0.8  1.000000e-08   \n",
       "\n",
       "                                         ci  sort  \n",
       "10  (0.799999972235549, 0.8000000277644511)   0.4  \n",
       "13  (0.799999972235549, 0.8000000277644511)   0.4  \n",
       "2   (0.799999972235549, 0.8000000277644511)   0.4  \n",
       "3   (0.799999972235549, 0.8000000277644511)   0.4  \n",
       "18  (0.799999972235549, 0.8000000277644511)   0.4  "
      ]
     },
     "execution_count": 10,
     "metadata": {},
     "output_type": "execute_result"
    }
   ],
   "source": [
    "svm.top_params(0.95, 5)"
   ]
  },
  {
   "cell_type": "code",
   "execution_count": 6,
   "metadata": {},
   "outputs": [
    {
     "name": "stderr",
     "output_type": "stream",
     "text": [
      "C:\\Users\\Usuario\\AppData\\Local\\Packages\\PythonSoftwareFoundation.Python.3.9_qbz5n2kfra8p0\\LocalCache\\local-packages\\Python39\\site-packages\\pandas\\util\\_decorators.py:311: SettingWithCopyWarning: \n",
      "A value is trying to be set on a copy of a slice from a DataFrame\n",
      "\n",
      "See the caveats in the documentation: https://pandas.pydata.org/pandas-docs/stable/user_guide/indexing.html#returning-a-view-versus-a-copy\n",
      "  return func(*args, **kwargs)\n",
      "findfont: Font family ['Gill Sans'] not found. Falling back to DejaVu Sans.\n",
      "findfont: Font family ['Gill Sans'] not found. Falling back to DejaVu Sans.\n"
     ]
    },
    {
     "data": {
      "image/png": "[encoded data removed]",
      "text/plain": [
       "<Figure size 936x432 with 1 Axes>"
      ]
     },
     "metadata": {},
     "output_type": "display_data"
    }
   ],
   "source": [
    "svm.boxplots(20)"
   ]
  },
  {
   "cell_type": "code",
   "execution_count": null,
   "metadata": {},
   "outputs": [],
   "source": [
    "results(X_data_curated,y_data_curated,'SVM', 5)"
   ]
  },
  {
   "cell_type": "markdown",
   "metadata": {},
   "source": [
    "## KNN"
   ]
  },
  {
   "cell_type": "code",
   "execution_count": 7,
   "metadata": {},
   "outputs": [
    {
     "name": "stdout",
     "output_type": "stream",
     "text": [
      "[INFO] The best parameters are {'algorithm': 'auto', 'n_neighbors': 7, 'p': 2}\n",
      "[INFO] The best score is 0.8000\n",
      "[INFO] The best parameters according to ci are {'algorithm': 'brute', 'n_neighbors': 9, 'p': 2}\n",
      "[INFO] Train acc  is : 0.8163\n"
     ]
    },
    {
     "name": "stderr",
     "output_type": "stream",
     "text": [
      "C:\\Users\\Usuario\\AppData\\Local\\Packages\\PythonSoftwareFoundation.Python.3.9_qbz5n2kfra8p0\\LocalCache\\local-packages\\Python39\\site-packages\\pandas\\util\\_decorators.py:311: SettingWithCopyWarning: \n",
      "A value is trying to be set on a copy of a slice from a DataFrame\n",
      "\n",
      "See the caveats in the documentation: https://pandas.pydata.org/pandas-docs/stable/user_guide/indexing.html#returning-a-view-versus-a-copy\n",
      "  return func(*args, **kwargs)\n"
     ]
    }
   ],
   "source": [
    "knn = ModelHandler(X = X_data_curated, Y = y_data_curated, model = 'KNN', n_splits = 5)\n",
    "knn.fit(True,True)"
   ]
  },
  {
   "cell_type": "code",
   "execution_count": 8,
   "metadata": {},
   "outputs": [
    {
     "name": "stderr",
     "output_type": "stream",
     "text": [
      "C:\\Users\\Usuario\\AppData\\Local\\Packages\\PythonSoftwareFoundation.Python.3.9_qbz5n2kfra8p0\\LocalCache\\local-packages\\Python39\\site-packages\\pandas\\util\\_decorators.py:311: SettingWithCopyWarning: \n",
      "A value is trying to be set on a copy of a slice from a DataFrame\n",
      "\n",
      "See the caveats in the documentation: https://pandas.pydata.org/pandas-docs/stable/user_guide/indexing.html#returning-a-view-versus-a-copy\n",
      "  return func(*args, **kwargs)\n"
     ]
    },
    {
     "data": {
      "text/html": [
       "<div>\n",
       "<style scoped>\n",
       "    .dataframe tbody tr th:only-of-type {\n",
       "        vertical-align: middle;\n",
       "    }\n",
       "\n",
       "    .dataframe tbody tr th {\n",
       "        vertical-align: top;\n",
       "    }\n",
       "\n",
       "    .dataframe thead th {\n",
       "        text-align: right;\n",
       "    }\n",
       "</style>\n",
       "<table border=\"1\" class=\"dataframe\">\n",
       "  <thead>\n",
       "    <tr style=\"text-align: right;\">\n",
       "      <th></th>\n",
       "      <th>params</th>\n",
       "      <th>split0_test_score</th>\n",
       "      <th>split1_test_score</th>\n",
       "      <th>split2_test_score</th>\n",
       "      <th>split3_test_score</th>\n",
       "      <th>split4_test_score</th>\n",
       "      <th>algorithm</th>\n",
       "      <th>n_neighbors</th>\n",
       "      <th>p</th>\n",
       "      <th>mean</th>\n",
       "      <th>sem</th>\n",
       "      <th>ci</th>\n",
       "      <th>sort</th>\n",
       "    </tr>\n",
       "  </thead>\n",
       "  <tbody>\n",
       "    <tr>\n",
       "      <th>31</th>\n",
       "      <td>{'algorithm': 'brute', 'n_neighbors': 9, 'p': 2}</td>\n",
       "      <td>0.8</td>\n",
       "      <td>0.8</td>\n",
       "      <td>0.8</td>\n",
       "      <td>0.8</td>\n",
       "      <td>0.8</td>\n",
       "      <td>brute</td>\n",
       "      <td>9</td>\n",
       "      <td>2</td>\n",
       "      <td>0.8</td>\n",
       "      <td>1.000000e-08</td>\n",
       "      <td>(0.799999972235549, 0.8000000277644511)</td>\n",
       "      <td>0.4</td>\n",
       "    </tr>\n",
       "    <tr>\n",
       "      <th>30</th>\n",
       "      <td>{'algorithm': 'brute', 'n_neighbors': 9, 'p': 1}</td>\n",
       "      <td>0.8</td>\n",
       "      <td>0.8</td>\n",
       "      <td>0.8</td>\n",
       "      <td>0.8</td>\n",
       "      <td>0.8</td>\n",
       "      <td>brute</td>\n",
       "      <td>9</td>\n",
       "      <td>1</td>\n",
       "      <td>0.8</td>\n",
       "      <td>1.000000e-08</td>\n",
       "      <td>(0.799999972235549, 0.8000000277644511)</td>\n",
       "      <td>0.4</td>\n",
       "    </tr>\n",
       "    <tr>\n",
       "      <th>22</th>\n",
       "      <td>{'algorithm': 'kd_tree', 'n_neighbors': 9, 'p'...</td>\n",
       "      <td>0.8</td>\n",
       "      <td>0.8</td>\n",
       "      <td>0.8</td>\n",
       "      <td>0.8</td>\n",
       "      <td>0.8</td>\n",
       "      <td>kd_tree</td>\n",
       "      <td>9</td>\n",
       "      <td>1</td>\n",
       "      <td>0.8</td>\n",
       "      <td>1.000000e-08</td>\n",
       "      <td>(0.799999972235549, 0.8000000277644511)</td>\n",
       "      <td>0.4</td>\n",
       "    </tr>\n",
       "    <tr>\n",
       "      <th>21</th>\n",
       "      <td>{'algorithm': 'kd_tree', 'n_neighbors': 7, 'p'...</td>\n",
       "      <td>0.8</td>\n",
       "      <td>0.8</td>\n",
       "      <td>0.8</td>\n",
       "      <td>0.8</td>\n",
       "      <td>0.8</td>\n",
       "      <td>kd_tree</td>\n",
       "      <td>7</td>\n",
       "      <td>2</td>\n",
       "      <td>0.8</td>\n",
       "      <td>1.000000e-08</td>\n",
       "      <td>(0.799999972235549, 0.8000000277644511)</td>\n",
       "      <td>0.4</td>\n",
       "    </tr>\n",
       "    <tr>\n",
       "      <th>15</th>\n",
       "      <td>{'algorithm': 'ball_tree', 'n_neighbors': 9, '...</td>\n",
       "      <td>0.8</td>\n",
       "      <td>0.8</td>\n",
       "      <td>0.8</td>\n",
       "      <td>0.8</td>\n",
       "      <td>0.8</td>\n",
       "      <td>ball_tree</td>\n",
       "      <td>9</td>\n",
       "      <td>2</td>\n",
       "      <td>0.8</td>\n",
       "      <td>1.000000e-08</td>\n",
       "      <td>(0.799999972235549, 0.8000000277644511)</td>\n",
       "      <td>0.4</td>\n",
       "    </tr>\n",
       "  </tbody>\n",
       "</table>\n",
       "</div>"
      ],
      "text/plain": [
       "                                               params  split0_test_score  \\\n",
       "31   {'algorithm': 'brute', 'n_neighbors': 9, 'p': 2}                0.8   \n",
       "30   {'algorithm': 'brute', 'n_neighbors': 9, 'p': 1}                0.8   \n",
       "22  {'algorithm': 'kd_tree', 'n_neighbors': 9, 'p'...                0.8   \n",
       "21  {'algorithm': 'kd_tree', 'n_neighbors': 7, 'p'...                0.8   \n",
       "15  {'algorithm': 'ball_tree', 'n_neighbors': 9, '...                0.8   \n",
       "\n",
       "    split1_test_score  split2_test_score  split3_test_score  \\\n",
       "31                0.8                0.8                0.8   \n",
       "30                0.8                0.8                0.8   \n",
       "22                0.8                0.8                0.8   \n",
       "21                0.8                0.8                0.8   \n",
       "15                0.8                0.8                0.8   \n",
       "\n",
       "    split4_test_score  algorithm  n_neighbors  p  mean           sem  \\\n",
       "31                0.8      brute            9  2   0.8  1.000000e-08   \n",
       "30                0.8      brute            9  1   0.8  1.000000e-08   \n",
       "22                0.8    kd_tree            9  1   0.8  1.000000e-08   \n",
       "21                0.8    kd_tree            7  2   0.8  1.000000e-08   \n",
       "15                0.8  ball_tree            9  2   0.8  1.000000e-08   \n",
       "\n",
       "                                         ci  sort  \n",
       "31  (0.799999972235549, 0.8000000277644511)   0.4  \n",
       "30  (0.799999972235549, 0.8000000277644511)   0.4  \n",
       "22  (0.799999972235549, 0.8000000277644511)   0.4  \n",
       "21  (0.799999972235549, 0.8000000277644511)   0.4  \n",
       "15  (0.799999972235549, 0.8000000277644511)   0.4  "
      ]
     },
     "execution_count": 8,
     "metadata": {},
     "output_type": "execute_result"
    }
   ],
   "source": [
    "knn.top_params(0.95, 5)"
   ]
  },
  {
   "cell_type": "code",
   "execution_count": 12,
   "metadata": {},
   "outputs": [
    {
     "data": {
      "image/png": "[encoded data removed]",
      "text/plain": [
       "<Figure size 936x432 with 1 Axes>"
      ]
     },
     "metadata": {},
     "output_type": "display_data"
    }
   ],
   "source": [
    "knn.boxplots(30)"
   ]
  },
  {
   "cell_type": "code",
   "execution_count": null,
   "metadata": {},
   "outputs": [],
   "source": [
    "results(X_data_curated,y_data_curated,'KNN', 5)"
   ]
  },
  {
   "cell_type": "markdown",
   "metadata": {},
   "source": [
    "## Decision Tree"
   ]
  },
  {
   "cell_type": "code",
   "execution_count": 13,
   "metadata": {},
   "outputs": [
    {
     "name": "stdout",
     "output_type": "stream",
     "text": [
      "[INFO] The best parameters are {'criterion': 'gini', 'max_features': 'log2', 'splitter': 'best'}\n",
      "[INFO] The best score is 0.6800\n",
      "[INFO] The best parameters according to ci are {'criterion': 'gini', 'max_features': 'log2', 'splitter': 'random'}\n",
      "[INFO] Train acc  is : 1.0000\n"
     ]
    }
   ],
   "source": [
    "dt = ModelHandler(X = X_data_curated, Y = y_data_curated, model = 'DT', n_splits = 5)\n",
    "dt.fit(True,True)"
   ]
  },
  {
   "cell_type": "code",
   "execution_count": 14,
   "metadata": {},
   "outputs": [
    {
     "data": {
      "text/html": [
       "<div>\n",
       "<style scoped>\n",
       "    .dataframe tbody tr th:only-of-type {\n",
       "        vertical-align: middle;\n",
       "    }\n",
       "\n",
       "    .dataframe tbody tr th {\n",
       "        vertical-align: top;\n",
       "    }\n",
       "\n",
       "    .dataframe thead th {\n",
       "        text-align: right;\n",
       "    }\n",
       "</style>\n",
       "<table border=\"1\" class=\"dataframe\">\n",
       "  <thead>\n",
       "    <tr style=\"text-align: right;\">\n",
       "      <th></th>\n",
       "      <th>params</th>\n",
       "      <th>split0_test_score</th>\n",
       "      <th>split1_test_score</th>\n",
       "      <th>split2_test_score</th>\n",
       "      <th>split3_test_score</th>\n",
       "      <th>split4_test_score</th>\n",
       "      <th>criterion</th>\n",
       "      <th>max_features</th>\n",
       "      <th>splitter</th>\n",
       "      <th>mean</th>\n",
       "      <th>sem</th>\n",
       "      <th>ci</th>\n",
       "      <th>sort</th>\n",
       "    </tr>\n",
       "  </thead>\n",
       "  <tbody>\n",
       "    <tr>\n",
       "      <th>5</th>\n",
       "      <td>{'criterion': 'gini', 'max_features': 'log2', ...</td>\n",
       "      <td>0.6</td>\n",
       "      <td>0.5</td>\n",
       "      <td>0.8</td>\n",
       "      <td>0.7</td>\n",
       "      <td>0.7</td>\n",
       "      <td>gini</td>\n",
       "      <td>log2</td>\n",
       "      <td>random</td>\n",
       "      <td>0.66</td>\n",
       "      <td>0.050990</td>\n",
       "      <td>(0.5184284945373214, 0.8015715054626784)</td>\n",
       "      <td>0.259214</td>\n",
       "    </tr>\n",
       "    <tr>\n",
       "      <th>4</th>\n",
       "      <td>{'criterion': 'gini', 'max_features': 'log2', ...</td>\n",
       "      <td>0.5</td>\n",
       "      <td>0.6</td>\n",
       "      <td>0.7</td>\n",
       "      <td>0.8</td>\n",
       "      <td>0.8</td>\n",
       "      <td>gini</td>\n",
       "      <td>log2</td>\n",
       "      <td>best</td>\n",
       "      <td>0.68</td>\n",
       "      <td>0.058310</td>\n",
       "      <td>(0.5181067937646784, 0.8418932062353217)</td>\n",
       "      <td>0.259053</td>\n",
       "    </tr>\n",
       "    <tr>\n",
       "      <th>9</th>\n",
       "      <td>{'criterion': 'entropy', 'max_features': 'sqrt...</td>\n",
       "      <td>0.7</td>\n",
       "      <td>0.6</td>\n",
       "      <td>0.5</td>\n",
       "      <td>0.8</td>\n",
       "      <td>0.6</td>\n",
       "      <td>entropy</td>\n",
       "      <td>sqrt</td>\n",
       "      <td>random</td>\n",
       "      <td>0.64</td>\n",
       "      <td>0.050990</td>\n",
       "      <td>(0.49842849453732135, 0.7815715054626784)</td>\n",
       "      <td>0.249214</td>\n",
       "    </tr>\n",
       "    <tr>\n",
       "      <th>11</th>\n",
       "      <td>{'criterion': 'entropy', 'max_features': 'log2...</td>\n",
       "      <td>0.5</td>\n",
       "      <td>0.5</td>\n",
       "      <td>0.6</td>\n",
       "      <td>0.7</td>\n",
       "      <td>0.7</td>\n",
       "      <td>entropy</td>\n",
       "      <td>log2</td>\n",
       "      <td>random</td>\n",
       "      <td>0.60</td>\n",
       "      <td>0.044721</td>\n",
       "      <td>(0.4758335724151723, 0.7241664275848276)</td>\n",
       "      <td>0.237917</td>\n",
       "    </tr>\n",
       "    <tr>\n",
       "      <th>6</th>\n",
       "      <td>{'criterion': 'entropy', 'max_features': 'auto...</td>\n",
       "      <td>0.5</td>\n",
       "      <td>0.6</td>\n",
       "      <td>0.7</td>\n",
       "      <td>0.5</td>\n",
       "      <td>0.8</td>\n",
       "      <td>entropy</td>\n",
       "      <td>auto</td>\n",
       "      <td>best</td>\n",
       "      <td>0.62</td>\n",
       "      <td>0.058310</td>\n",
       "      <td>(0.45810679376467817, 0.7818932062353217)</td>\n",
       "      <td>0.229053</td>\n",
       "    </tr>\n",
       "  </tbody>\n",
       "</table>\n",
       "</div>"
      ],
      "text/plain": [
       "                                               params  split0_test_score  \\\n",
       "5   {'criterion': 'gini', 'max_features': 'log2', ...                0.6   \n",
       "4   {'criterion': 'gini', 'max_features': 'log2', ...                0.5   \n",
       "9   {'criterion': 'entropy', 'max_features': 'sqrt...                0.7   \n",
       "11  {'criterion': 'entropy', 'max_features': 'log2...                0.5   \n",
       "6   {'criterion': 'entropy', 'max_features': 'auto...                0.5   \n",
       "\n",
       "    split1_test_score  split2_test_score  split3_test_score  \\\n",
       "5                 0.5                0.8                0.7   \n",
       "4                 0.6                0.7                0.8   \n",
       "9                 0.6                0.5                0.8   \n",
       "11                0.5                0.6                0.7   \n",
       "6                 0.6                0.7                0.5   \n",
       "\n",
       "    split4_test_score criterion max_features splitter  mean       sem  \\\n",
       "5                 0.7      gini         log2   random  0.66  0.050990   \n",
       "4                 0.8      gini         log2     best  0.68  0.058310   \n",
       "9                 0.6   entropy         sqrt   random  0.64  0.050990   \n",
       "11                0.7   entropy         log2   random  0.60  0.044721   \n",
       "6                 0.8   entropy         auto     best  0.62  0.058310   \n",
       "\n",
       "                                           ci      sort  \n",
       "5    (0.5184284945373214, 0.8015715054626784)  0.259214  \n",
       "4    (0.5181067937646784, 0.8418932062353217)  0.259053  \n",
       "9   (0.49842849453732135, 0.7815715054626784)  0.249214  \n",
       "11   (0.4758335724151723, 0.7241664275848276)  0.237917  \n",
       "6   (0.45810679376467817, 0.7818932062353217)  0.229053  "
      ]
     },
     "execution_count": 14,
     "metadata": {},
     "output_type": "execute_result"
    }
   ],
   "source": [
    "dt.top_params(0.95, 5)"
   ]
  },
  {
   "cell_type": "code",
   "execution_count": null,
   "metadata": {},
   "outputs": [
    {
     "data": {
      "image/png": "[encoded data removed]",
      "text/plain": [
       "<Figure size 936x432 with 1 Axes>"
      ]
     },
     "metadata": {},
     "output_type": "display_data"
    }
   ],
   "source": [
    "dt.boxplots(5)"
   ]
  },
  {
   "cell_type": "code",
   "execution_count": null,
   "metadata": {},
   "outputs": [],
   "source": [
    "results(X_data_curated,y_data_curated,'DT', 5)"
   ]
  }
 ],
 "metadata": {
  "interpreter": {
   "hash": "916dbcbb3f70747c44a77c7bcd40155683ae19c65e1c03b4aa3499c5328201f1"
  },
  "kernelspec": {
   "display_name": "Python 3.8.10 64-bit",
   "language": "python",
   "name": "python3"
  },
  "language_info": {
   "codemirror_mode": {
    "name": "ipython",
    "version": 3
   },
   "file_extension": ".py",
   "mimetype": "text/x-python",
   "name": "python",
   "nbconvert_exporter": "python",
   "pygments_lexer": "ipython3",
   "version": "3.9.9"
  },
  "orig_nbformat": 4
 },
 "nbformat": 4,
 "nbformat_minor": 2
}
